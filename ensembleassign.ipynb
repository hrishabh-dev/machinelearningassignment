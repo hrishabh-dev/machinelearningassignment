{
 "cells": [
  {
   "cell_type": "markdown",
   "id": "2122310e-9659-4541-92f8-893d47cdad2d",
   "metadata": {},
   "source": [
    "# Theoretical"
   ]
  },
  {
   "cell_type": "markdown",
   "id": "eeec9d76-96a1-4606-91be-b4f063d387ee",
   "metadata": {},
   "source": [
    "### 1  Can we use Bagging for regression problems"
   ]
  },
  {
   "cell_type": "code",
   "execution_count": null,
   "id": "7faa6193-1604-45d1-9684-c9025da6c036",
   "metadata": {},
   "outputs": [],
   "source": [
    "'''\n",
    " bagging (Bootstrap Aggregating) can be used for regression problems as \n",
    " well as classification problems. \n",
    " \n",
    " In regression, bagging involves creating multiple bootstrapped subsets of the \n",
    " training data, training  a regression model on each subset, and\n",
    " then aggregating the predictions to produce a final result.\n",
    "\n",
    "\n",
    "Bagging is the basis for well-known ensemble methods like Random Forests, which also use multiple\n",
    "decision trees to improve predictive performance.\n",
    "\n",
    "'''"
   ]
  },
  {
   "cell_type": "markdown",
   "id": "32a92fd4-5c6e-4197-becc-89623906c7e3",
   "metadata": {},
   "source": [
    "### 2  What is the difference between multiple model training and single model training"
   ]
  },
  {
   "cell_type": "code",
   "execution_count": null,
   "id": "82991991-fd20-40cf-8b4a-4d0c3c18ddd7",
   "metadata": {},
   "outputs": [],
   "source": [
    "'''\n",
    "Single Model Training\n",
    "\n",
    "Single model training involves training one model on the entire dataset to make predictions.\n",
    "\n",
    "A single algorithm is applied to the dataset.\n",
    "\n",
    "The training process focuses on optimizing the model parameters based on the available data.\n",
    "\n",
    "A single model may learn noise in the training data, especially if it is complex.\n",
    "\n",
    "Multiple Model Training \n",
    "\n",
    " Multiple model training refers to the process of building several models \n",
    " and combining their predictions to improve overall performance.\n",
    "\n",
    "Techniques like bagging, boosting, and stacking are used.\n",
    "\n",
    "Each model is trained separately, often on different subsets of the data or\n",
    "with different starting conditions or parameters.\n",
    "\n",
    "'''"
   ]
  },
  {
   "cell_type": "markdown",
   "id": "fcda32fe-4e32-40e9-a0c1-791f96ca3cf2",
   "metadata": {},
   "source": [
    "### 3  Explain the concept of feature randomness in Random Forest"
   ]
  },
  {
   "cell_type": "code",
   "execution_count": null,
   "id": "d5646d40-8f99-4b72-a920-b46dd9130756",
   "metadata": {},
   "outputs": [],
   "source": [
    "'''\n",
    "\n",
    "It is an ensemble learning method primarily used for classification and regression tasks\n",
    "This concept contributes significantly to the model's robustness and helps prevent overfitting.\n",
    "\n",
    "\n",
    "When training each decision tree in the Random Forest, a random sample of the training\n",
    "data is drawn. \n",
    "\n",
    "Then, for each split in the tree, a random subset of features is \n",
    "selected from the total features available.\n",
    "\n",
    "enabling it to create multiple diverse decision trees that, when combined, can \n",
    " make more accurate and reliable predictions\n",
    "\n",
    " the best split is chosen based on a certain criterion . \n",
    " \n",
    " This process ensures that different trees in the forest are constructed using \n",
    " different features and samples.\n",
    "\n",
    "'''"
   ]
  },
  {
   "cell_type": "markdown",
   "id": "4ba043fc-f023-418d-9c01-ff19fc03e671",
   "metadata": {},
   "source": [
    "### 4 What is OOB (Out-of-Bag) Score"
   ]
  },
  {
   "cell_type": "code",
   "execution_count": null,
   "id": "9883e1d5-fae4-4556-aed8-6c24f3bd630e",
   "metadata": {},
   "outputs": [],
   "source": [
    "'''\n",
    " Out-of-Bag (OOB) score is a performance metric specific to ensemble learning methods \n",
    " like Random Forests. \n",
    " \n",
    " It provides an estimate of the model's accuracy on unseen data without \n",
    " the need to use a separate validation set\n",
    "\n",
    " about one-third of the training samples are left out (not included) in each bootstrapped sample.\n",
    " These unused samples are known as the Out-of-Bag samples.\n",
    "\n",
    "  It maximizes the use of available data, provides reliability in performance estimation, and\n",
    "  offers insights into the model's predictive capabilities\n",
    "\n",
    "'''"
   ]
  },
  {
   "cell_type": "markdown",
   "id": "780c74a0-e537-4de5-8cc6-b80622c5a2cf",
   "metadata": {},
   "source": [
    "### 5  How can you measure the importance of features in a Random Forest model"
   ]
  },
  {
   "cell_type": "code",
   "execution_count": null,
   "id": "272fb68c-8cf9-49b3-a441-04b355ae807a",
   "metadata": {},
   "outputs": [],
   "source": [
    "''' \n",
    "There are several methods to evaluate feature importance, each with its strengths\n",
    "\n",
    "Mean Decrease Impurity (MDI) / Gini Importance\n",
    "\n",
    "As trees are built, each time a node is split using a feature, the algorithm \n",
    "calculates the reduction in impurity  that results from that split.\n",
    "\n",
    "Mean Decrease Accuracy (MDA)\n",
    "\n",
    "This method evaluates the importance of each feature by measuring how much the accuracy \n",
    "of the model decreases when the feature's values are permuted \n",
    "\n",
    "Tree Structures\n",
    "\n",
    "This method utilizes the structure of the trees formed in the Random Forest,\n",
    "specifically looking at how often a feature is used to make decisions in the trees.\n",
    "\n",
    "'''"
   ]
  },
  {
   "cell_type": "markdown",
   "id": "b891a280-2995-4768-973c-c1ae037c4f72",
   "metadata": {},
   "source": [
    "### 6  Explain the working principle of a Bagging Classifier"
   ]
  },
  {
   "cell_type": "code",
   "execution_count": null,
   "id": "9d145aee-fa6f-44e5-b0bb-5f731e35b5b4",
   "metadata": {},
   "outputs": [],
   "source": [
    "''' \n",
    "\n",
    "Bagging starts by creating multiple subsets of the original training dataset.\n",
    "\n",
    "Each subset is created through a process known as bootstrapping, which involves\n",
    "sampling with replacement.\n",
    "\n",
    "for each subset, some instances may be selected multiple times while others may be left out.\n",
    "\n",
    "Independent Model Training\n",
    "\n",
    "A separate and independent model is trained on each bootstrap sample.\n",
    "\n",
    "This means that the models are trained on different data, leading to variability \n",
    "in their predictions.\n",
    "\n",
    "Once all models have been trained, predictions are made for new data points. \n",
    "\n",
    "The final prediction of the Bagging classifier is aggregated from the predictions\n",
    "of all individual models.\n",
    "'''"
   ]
  },
  {
   "cell_type": "markdown",
   "id": "1015ef08-cac9-4b12-a099-9b49416edc0c",
   "metadata": {},
   "source": [
    "### 7 How do you evaluate a Bagging Classifier’s performance"
   ]
  },
  {
   "cell_type": "code",
   "execution_count": null,
   "id": "02870d34-023c-4263-8990-7d01b9395a41",
   "metadata": {},
   "outputs": [],
   "source": [
    "''' \n",
    "we  can evaluate its performance using various metrics\n",
    "\n",
    "For Classification Tasks\n",
    "\n",
    "Accuracy\n",
    "Proportion of correct predictions out of all predictions.\n",
    "\n",
    "Precision\n",
    "The ratio of true positive predictions to the total predicted positives.\n",
    "\n",
    "Recall (Sensitivity)\n",
    "The ratio of true positive predictions to the actual positives. \n",
    "\n",
    "F1 Score\n",
    "The harmonic mean of precision and recall.\n",
    "\n",
    "Confusion Matrix\n",
    "A table used to describe the performance of a classification model\n",
    "\n",
    "ROC Curve and AUC\n",
    "The ROC curve shows the true positive rate against the false positive \n",
    "rate at various threshold settings.\n",
    "\n",
    "\n",
    "'''"
   ]
  },
  {
   "cell_type": "markdown",
   "id": "c5a66139-bdcf-4986-bd02-6f275da410ae",
   "metadata": {},
   "source": [
    "### 8 How does a Bagging Regressor work"
   ]
  },
  {
   "cell_type": "code",
   "execution_count": null,
   "id": "1c78afae-bc33-40cf-a8fa-08054a667536",
   "metadata": {},
   "outputs": [],
   "source": [
    "''' \n",
    "\n",
    "Bagging helps improve the robustness and accuracy of regression models\n",
    "by combining the predictions of multiple models trained on different \n",
    "subsets of the training data\n",
    "\n",
    "The process begins with generating multiple bootstrap samples of the training data.\n",
    "\n",
    "A bootstrap sample is created by randomly selecting instances from the original dataset\n",
    "with replacement. \n",
    "\n",
    "For each bootstrap sample, a separate regression model is trained. \n",
    "\n",
    "Bagging Regressors are more robust to outliers and noise in the\n",
    "training data compared to a single model\n",
    "\n",
    "\n",
    "'''"
   ]
  },
  {
   "cell_type": "markdown",
   "id": "fb433717-b9aa-4552-9a72-77fed6718b12",
   "metadata": {},
   "source": [
    "### 9  What is the main advantage of ensemble techniques"
   ]
  },
  {
   "cell_type": "code",
   "execution_count": null,
   "id": "0ec17e95-9284-45f1-8f42-0d4c6075672b",
   "metadata": {},
   "outputs": [],
   "source": [
    "''' \n",
    " The main advantages of ensemble techniques include:\n",
    "\n",
    "1. Improved Accuracy\n",
    "2. Better Generalization\n",
    "3. Robustness to Noise and Outliers\n",
    "4. Improved Stability\n",
    "5. Flexibility\n",
    "6. Enhanced Predictions\n",
    "7. Adaptability\n",
    "\n",
    "By reducing error, improving generalization, increasing robustness, and providing \n",
    "more stable predictions, ensemble methods have become essential tools in modern\n",
    "machine learning, driving advances across many applications and domains.\n",
    "\n",
    "\n",
    "'''"
   ]
  },
  {
   "cell_type": "markdown",
   "id": "e5c5b726-9736-4b81-bd22-4efb90a3ad82",
   "metadata": {},
   "source": [
    "### 10 What is the main challenge of ensemble methods"
   ]
  },
  {
   "cell_type": "code",
   "execution_count": null,
   "id": "818c350e-6855-44d1-8592-86e7f8cbd810",
   "metadata": {},
   "outputs": [],
   "source": [
    "''' \n",
    "Ensemble methods often require training multiple models, which can be significantly \n",
    "more computationally intensive and \n",
    "time-consuming than training a single model.\n",
    "\n",
    "\n",
    "More resources (CPU/GPU memory and processing power) are required to manage multiple models\n",
    "\n",
    "Ensembles can be more challenging to interpret than individual models.\n",
    "\n",
    "\n",
    "The complexity of the model can make it difficult to diagnose problems,\n",
    "perform debugging, or understand the role of individual predictors in the ensemble.\n",
    "\n",
    "\n",
    " ensemble methods can reduce overfitting by averaging predictions, they can still \n",
    " overfit if the individual models are too complex\n",
    "'''"
   ]
  },
  {
   "cell_type": "markdown",
   "id": "69838a3c-b069-4b58-9d4b-b46d53aacd65",
   "metadata": {},
   "source": [
    "### 11 Explain the key idea behind ensemble techniques"
   ]
  },
  {
   "cell_type": "code",
   "execution_count": null,
   "id": "5b7cf5c4-ce67-4290-b6e6-0aa1a7e11dc0",
   "metadata": {},
   "outputs": [],
   "source": [
    "'''\n",
    "\n",
    "The key idea behind ensemble techniques in machine learning is to combine\n",
    "multiple models, or \"learners,\" to produce a single, more robust model that\n",
    "improves predictive performance compared to any individual model alone\n",
    "\n",
    "the ensemble often reduces variance, bias, or both, leading to better generalization on unseen data.\n",
    "\n",
    "This works on the principle that diverse models can complement each other's strengths\n",
    "and weaknesses, resulting in a more accurate and reliable predictive model.\n",
    "\n",
    "ensembles can effectively average out errors and reduce the impact of outliers\n",
    "or noise in the dataset\n",
    "\n",
    "'''"
   ]
  },
  {
   "cell_type": "markdown",
   "id": "687690dc-7884-41ce-bfc2-158c1fa587f8",
   "metadata": {},
   "source": [
    "### 12  What is a Random Forest Classifier"
   ]
  },
  {
   "cell_type": "code",
   "execution_count": null,
   "id": "628dc63e-05f9-42ad-8737-c9a31d267023",
   "metadata": {},
   "outputs": [],
   "source": [
    "''' \n",
    "\n",
    "A Random Forest Classifier is an ensemble learning method that is\n",
    "used for classification tasks.\n",
    "\n",
    "It consists of multiple decision trees built on different subsets of the \n",
    "training data, using a technique called bagging\n",
    "\n",
    "\n",
    "Each tree in the forest votes for a class label, and the final output is determined by the\n",
    "majority vote of all the trees\n",
    "\n",
    "\n",
    "Random Forest Classifiers can handle large datasets with high dimensionality and are\n",
    "robust against noise and outliers, making them a popular choice for diverse applications \n",
    "in machine learning.\n",
    "\n",
    "'''"
   ]
  },
  {
   "cell_type": "code",
   "execution_count": null,
   "id": "1b17194a-08d8-458d-b30c-d29d6baa0c1a",
   "metadata": {},
   "outputs": [],
   "source": [
    "we can import the Random Forest Classifier from the sklearn (scikit-learn) library \n",
    "from sklearn.ensemble import RandomForestClassifier"
   ]
  },
  {
   "cell_type": "markdown",
   "id": "1867a369-25de-426f-8d5e-43aacd252bd7",
   "metadata": {},
   "source": [
    "### 13 What are the main types of ensemble techniques"
   ]
  },
  {
   "cell_type": "code",
   "execution_count": null,
   "id": "cf676f53-3da5-4d64-b072-b9995408dc8a",
   "metadata": {},
   "outputs": [],
   "source": [
    "''' \n",
    "\n",
    "Bagging (Bootstrap Aggregating): Combines predictions from multiple models \n",
    "trained on different subsets of the training data. \n",
    "\n",
    "The most common example is the Random Forest\n",
    "\n",
    "\n",
    "Boosting: Sequentially builds models, where each new model focuses on correcting \n",
    "errors made by previous ones.\n",
    "\n",
    "This approach aims to improve the overall performance.\n",
    "\n",
    "\n",
    "Stacking: Involves training multiple base learners and then using another model\n",
    "(the meta-learner) to combine their predictions. \n",
    "\n",
    "This technique can leverage various algorithms to enhance predictive power.\n",
    "\n",
    "'''"
   ]
  },
  {
   "cell_type": "markdown",
   "id": "6a37b526-9ff2-4e1a-9208-cfbc9edf8a3a",
   "metadata": {},
   "source": [
    "### 14 What is ensemble learning in machine learning"
   ]
  },
  {
   "cell_type": "code",
   "execution_count": null,
   "id": "bf85cc20-3553-4cf9-8ab1-60378526837d",
   "metadata": {},
   "outputs": [],
   "source": [
    "'''\n",
    "Ensemble learning is a machine learning technique that combines multiple \n",
    "models to improve the overall performance and robustness of predictions.\n",
    "\n",
    "By aggregating the outputs of various algorithms—often referred to as \n",
    "\"base learners\"—ensemble methods aim to reduce errors, enhance accuracy, and \n",
    "minimize overfitting. \n",
    "\n",
    "The main approaches include bagging, boosting, and stacking, each leveraging the \n",
    "strengths of individual models to create a more powerful and reliable ensemble model.\n",
    "\n",
    "ultimately leading to better generalization on unseen data.\n",
    "\n",
    "'''"
   ]
  },
  {
   "cell_type": "markdown",
   "id": "cf9213f5-1de7-4f98-8f10-75cd7983811e",
   "metadata": {},
   "source": [
    "### 15 When should we avoid using ensemble methods"
   ]
  },
  {
   "cell_type": "code",
   "execution_count": null,
   "id": "9afa85c7-05b4-405a-8e66-ace5b3defe7b",
   "metadata": {},
   "outputs": [],
   "source": [
    "'''  \n",
    "\n",
    " When dealing with small datasets, simpler models may perform better as \n",
    " ensemble methods can lead to increased complexity without sufficient data to support them.\n",
    "\n",
    " If quick inference times are crucial, the added computational overhead of\n",
    " ensemble methods may be a drawback, as they often require aggregating multiple models.\n",
    "\n",
    " In cases where model interpretability is essential, such as in healthcare or finance, \n",
    " simpler, single models are preferable\n",
    "\n",
    "When the data does not exhibit significant variance or complexity, simpler models may \n",
    "suffice, making the additional complexity of ensembles unnecessary.\n",
    "\n",
    "\n",
    "'''"
   ]
  },
  {
   "cell_type": "markdown",
   "id": "a7fd4d8e-033f-4a1c-98a1-c5b8b6e64823",
   "metadata": {},
   "source": [
    "### 16 How does Bagging help in reducing overfitting"
   ]
  },
  {
   "cell_type": "code",
   "execution_count": null,
   "id": "b22e054e-0e80-49a1-87cf-9b0f515e8f65",
   "metadata": {},
   "outputs": [],
   "source": [
    "''' \n",
    "\n",
    "Bagging helps reduce overfitting by training multiple models on different \n",
    "subsets of the training data and then averaging their predictions. \n",
    "\n",
    "\n",
    "It works by creating multiple bootstrap samples—random samples with replacement—from the\n",
    "original dataset, allowing each model to learn from a varied representation of the data.\n",
    "\n",
    "\n",
    "This diversity among the models helps to smooth out the individual\n",
    "model's idiosyncrasies, thereby reducing\n",
    "variance and the likelihood of overfitting.\n",
    "\n",
    " the overall ensemble model becomes more stable and generalizes better to unseen data.\n",
    "\n",
    "'''"
   ]
  },
  {
   "cell_type": "code",
   "execution_count": 1,
   "id": "583f4289-895b-42d0-b2e4-cb9dd6c1a84f",
   "metadata": {},
   "outputs": [
    {
     "name": "stdout",
     "output_type": "stream",
     "text": [
      "Accuracy of Bagging Classifier: 1.00\n"
     ]
    }
   ],
   "source": [
    "import numpy as np\n",
    "from sklearn.datasets import load_iris\n",
    "from sklearn.model_selection import train_test_split\n",
    "from sklearn.tree import DecisionTreeClassifier\n",
    "from sklearn.ensemble import BaggingClassifier\n",
    "from sklearn.metrics import accuracy_score\n",
    "iris = load_iris()\n",
    "X, y = iris.data, iris.target\n",
    "X_train, X_test, y_train, y_test = train_test_split(X, y, test_size=0.3, random_state=42)\n",
    "base_model = DecisionTreeClassifier()\n",
    "bagging_model = BaggingClassifier(estimator=base_model, n_estimators=50, random_state=42)\n",
    "bagging_model.fit(X_train, y_train)\n",
    "y_pred = bagging_model.predict(X_test)\n",
    "accuracy = accuracy_score(y_test, y_pred)\n",
    "\n",
    "print(f'Accuracy of Bagging Classifier: {accuracy:.2f}')"
   ]
  },
  {
   "cell_type": "markdown",
   "id": "4c98e894-74ad-457f-95d6-81337861dd9e",
   "metadata": {},
   "source": [
    "### 17 Why is Random Forest better than a single Decision Tree"
   ]
  },
  {
   "cell_type": "code",
   "execution_count": null,
   "id": "907684f3-e149-40ee-b9db-23d858a8c3ef",
   "metadata": {},
   "outputs": [],
   "source": [
    "''' \n",
    "A single Decision Tree can easily overfit the training data by capturing\n",
    "noise and specific patterns in the data.\n",
    "\n",
    "\n",
    "Random Forest mitigates this by averaging the results from multiple trees, which \n",
    "helps generalize better to unseen data.\n",
    "\n",
    "\n",
    " Random Forest builds each tree on a random subset of the data and uses a\n",
    " random subset of features for splitting at each node.\n",
    "\n",
    " \n",
    " This introduces variability among the trees, making the ensemble\n",
    " more resilient against biases that might affect individual trees.\n",
    "\n",
    "\n",
    "  The ensemble nature of Random Forest makes it less sensitive to outliers\n",
    "  and noise in the data, as the effect of any single model can be \n",
    "  diminished by the majority vote or average.\n",
    "\n",
    "'''"
   ]
  },
  {
   "cell_type": "markdown",
   "id": "d75adde8-edd2-4f06-8982-1f67e1056367",
   "metadata": {},
   "source": [
    "### 18 What is the role of bootstrap sampling in Bagging"
   ]
  },
  {
   "cell_type": "code",
   "execution_count": null,
   "id": "38ab0212-8948-4da4-bb0e-9093fa350682",
   "metadata": {},
   "outputs": [],
   "source": [
    "''' \n",
    "\n",
    "Bootstrap sampling involves drawing random samples from the training \n",
    "dataset with replacement. \n",
    "\n",
    "\n",
    "This means that some observations may appear multiple times in a \n",
    "given sample, while others could be omitted altogether.\n",
    "\n",
    "\n",
    " Each model in the Bagging ensemble is trained on a different bootstrap \n",
    " sample, leading to variability among the models. \n",
    "\n",
    "\n",
    " By using different subsets for training each model, Bagging reduces\n",
    " the variance of the predictions.\n",
    "\n",
    "The averaging of predictions from multiple models trained on \n",
    "diverse samples typically results in better performance in terms of accuracy and robustness\n",
    "\n",
    "'''"
   ]
  },
  {
   "cell_type": "markdown",
   "id": "a4c32423-9360-4a46-927f-3a46f5403b3e",
   "metadata": {},
   "source": [
    "### 19 What are some real-world applications of ensemble techniques"
   ]
  },
  {
   "cell_type": "code",
   "execution_count": null,
   "id": "edf8a01e-84e0-47d3-8a09-f00347292475",
   "metadata": {},
   "outputs": [],
   "source": [
    "''' \n",
    "In credit scoring and risk assessment, ensemble methods like Random Forests and Gradient Boosting \n",
    "are employed to predict borrower defaults\n",
    "\n",
    "Ensemble models are used for disease diagnosis and prognosis, such as predicting\n",
    "patient outcomes or disease progression\n",
    "\n",
    "In customer segmentation and churn prediction, ensemble techniques help businesses\n",
    "analyze consumer behavior and preference\n",
    "\n",
    "Ensemble methods are applied in computer vision and natural language processing,\n",
    "improving the accuracy of tasks \n",
    "\n",
    " Financial institutions use ensemble techniques to identify fraudulent transactions\n",
    " by analyzing patterns in transaction data, allowing them to flag suspicious activities more effectively.\n",
    "\n",
    "\n",
    "'''"
   ]
  },
  {
   "cell_type": "markdown",
   "id": "f593e78e-23e2-4173-be3d-c8400b21636e",
   "metadata": {},
   "source": [
    "### 20 What is the difference between Bagging and Boosting"
   ]
  },
  {
   "cell_type": "code",
   "execution_count": null,
   "id": "c3129765-01b9-479e-a2b7-8e2d2eae24e6",
   "metadata": {},
   "outputs": [],
   "source": [
    "'''   \n",
    "in bagging, multiple models are trained independently from different bootstrap \n",
    "samples of the dataset .\n",
    "\n",
    "Each model is trained without regard to the performance of others. \n",
    "\n",
    "The final prediction is typically made by averaging (for regression tasks) or\n",
    "voting  the predictions of all models.\n",
    "\n",
    "Models are built independently of each other, which reduces variance\n",
    "by averaging out the predictions.\n",
    "\n",
    "Primarily reduces variance, making it suitable for high-variance models, like decision trees\n",
    "\n",
    " In boosting, models are trained sequentially, where each new model focuses on the \n",
    " errors made by the previous ones. \n",
    " \n",
    " The idea is to give more weight to misclassified instances, allowing \n",
    " the ensemble to progressively correct its mistakes.\n",
    " \n",
    " The final prediction is a weighted combination of the predictions of all models.\n",
    "\n",
    " Models are dependent on one another, with each model aiming to\n",
    " improve upon the previous one, resulting\n",
    " in a sequential chain of learning.\n",
    "\n",
    " Aims to reduce both bias and variance, making it effective for various\n",
    " types of models, especially when focusing on complex relationships in the data.\n",
    "\n",
    "\n",
    "'''"
   ]
  },
  {
   "cell_type": "code",
   "execution_count": null,
   "id": "5e9e22dc-e6a3-45de-9730-578b0f5fda5f",
   "metadata": {},
   "outputs": [],
   "source": []
  },
  {
   "cell_type": "markdown",
   "id": "8e85a8c5-c84c-42dc-8388-c8cb3a112e3c",
   "metadata": {},
   "source": [
    "# Practical"
   ]
  },
  {
   "cell_type": "code",
   "execution_count": 1,
   "id": "58041544-05a1-435a-b949-884cc582e71a",
   "metadata": {},
   "outputs": [],
   "source": [
    "import pandas as pd \n",
    "import numpy as np \n",
    "from sklearn.ensemble import BaggingClassifier\n",
    "from sklearn.ensemble import BaggingRegressor \n",
    "from sklearn.ensemble import RandomForestClassifier \n",
    "from sklearn.ensemble import RandomForestRegressor \n",
    "import warnings \n",
    "warnings.filterwarnings('ignore')"
   ]
  },
  {
   "cell_type": "markdown",
   "id": "1e38469f-f321-4b9a-bc14-155ce69c7065",
   "metadata": {},
   "source": [
    "### 21 Train a Bagging Classifier using Decision Trees on a sample dataset and print model accuracy"
   ]
  },
  {
   "cell_type": "code",
   "execution_count": 2,
   "id": "d5b7a2d9-8a4f-49a3-b647-6dd53d72871a",
   "metadata": {},
   "outputs": [],
   "source": [
    "from sklearn.datasets import make_classification \n",
    "from sklearn.tree import DecisionTreeClassifier \n",
    "from sklearn.model_selection import train_test_split"
   ]
  },
  {
   "cell_type": "code",
   "execution_count": 15,
   "id": "0e764165-6dd7-4619-baa9-735ff0683391",
   "metadata": {},
   "outputs": [],
   "source": [
    "x,y=make_classification(n_samples=1000,n_features=10,n_classes=2)  \n"
   ]
  },
  {
   "cell_type": "code",
   "execution_count": 18,
   "id": "5e907411-d090-4fac-ade5-863ff27d5d2d",
   "metadata": {},
   "outputs": [],
   "source": [
    "tree=DecisionTreeClassifier()\n",
    "bg=BaggingClassifier(estimator=tree,n_estimators=100,random_state=2) \n",
    "x_train,x_test,y_train,y_test=train_test_split(x,y,test_size=0.2,random_state=2)"
   ]
  },
  {
   "cell_type": "code",
   "execution_count": 19,
   "id": "4ddbea54-abb4-4c53-a25d-714fa5dbf4c5",
   "metadata": {},
   "outputs": [],
   "source": [
    "bg.fit(x_train,y_train) \n",
    "y_pred=bg.predict(x_test)"
   ]
  },
  {
   "cell_type": "code",
   "execution_count": 3,
   "id": "c8ed6cb6-75fb-4812-9717-dd665e72b143",
   "metadata": {},
   "outputs": [],
   "source": [
    "from sklearn.metrics import accuracy_score"
   ]
  },
  {
   "cell_type": "code",
   "execution_count": 21,
   "id": "33d210fe-aa82-4a42-a2fb-40f5e8b33063",
   "metadata": {},
   "outputs": [
    {
     "name": "stdout",
     "output_type": "stream",
     "text": [
      "Accuracy :- 0.97\n"
     ]
    }
   ],
   "source": [
    "print(\"Accuracy :-\",accuracy_score(y_test,y_pred))"
   ]
  },
  {
   "cell_type": "markdown",
   "id": "3842b8f3-bfbd-4918-996a-42c6759b6296",
   "metadata": {},
   "source": [
    "### 22 Train a Bagging Regressor using Decision Trees and evaluate using Mean Squared Error (MSE)**2"
   ]
  },
  {
   "cell_type": "code",
   "execution_count": 4,
   "id": "e2eb5cce-1b9e-44fb-a0d3-8f0611dd45e5",
   "metadata": {},
   "outputs": [],
   "source": [
    "from sklearn.datasets import make_regression \n",
    "from sklearn.tree import DecisionTreeRegressor"
   ]
  },
  {
   "cell_type": "code",
   "execution_count": 9,
   "id": "cde38e71-9476-4df3-890f-2389c0b98413",
   "metadata": {},
   "outputs": [],
   "source": [
    "x,y=make_regression(n_samples=1000,n_features=10)  "
   ]
  },
  {
   "cell_type": "code",
   "execution_count": 10,
   "id": "4ee8534e-56da-4b07-95be-4ee8334063b3",
   "metadata": {},
   "outputs": [],
   "source": [
    "tree=DecisionTreeRegressor() \n",
    "bg=BaggingRegressor(estimator=tree,n_estimators=100,random_state=2) \n",
    "x_train,x_test,y_train,y_test=train_test_split(x,y,test_size=0.2,random_state=2)"
   ]
  },
  {
   "cell_type": "code",
   "execution_count": 11,
   "id": "3e7b7d24-9a77-41c2-a4e2-13b3ae0a9b87",
   "metadata": {},
   "outputs": [],
   "source": [
    "bg.fit(x_train,y_train) \n",
    "y_pred=bg.predict(x_test)"
   ]
  },
  {
   "cell_type": "code",
   "execution_count": 13,
   "id": "a2d11ab1-f4e8-4882-b5a2-01568dc80890",
   "metadata": {},
   "outputs": [
    {
     "name": "stdout",
     "output_type": "stream",
     "text": [
      "MSE:- 4465.755214449835\n"
     ]
    }
   ],
   "source": [
    "from sklearn.metrics import mean_squared_error\n",
    "print(\"MSE:-\",mean_squared_error(y_test,y_pred))"
   ]
  },
  {
   "cell_type": "markdown",
   "id": "ead20130-70f1-4d08-b301-68b3eb12d925",
   "metadata": {},
   "source": [
    "### 23  Train a Random Forest Classifier on the Breast Cancer dataset and print feature importance scores"
   ]
  },
  {
   "cell_type": "code",
   "execution_count": 15,
   "id": "4714075c-a142-4bb0-b741-41f72d10dc96",
   "metadata": {},
   "outputs": [],
   "source": [
    "from sklearn.datasets import load_breast_cancer"
   ]
  },
  {
   "cell_type": "code",
   "execution_count": 16,
   "id": "be9dc5c4-6c6a-40bd-b31c-26692034d595",
   "metadata": {},
   "outputs": [],
   "source": [
    "c=load_breast_cancer()\n",
    "x=c.data\n",
    "y=c.target"
   ]
  },
  {
   "cell_type": "code",
   "execution_count": 17,
   "id": "ed318a17-3d10-41e2-b345-2cf189820e49",
   "metadata": {},
   "outputs": [],
   "source": [
    "x_train,x_test,y_train,y_test=train_test_split(x,y,test_size=0.2,random_state=2)"
   ]
  },
  {
   "cell_type": "code",
   "execution_count": 18,
   "id": "83f6746b-1e72-49e2-9184-0c0598ccd810",
   "metadata": {},
   "outputs": [
    {
     "data": {
      "text/html": [
       "<style>#sk-container-id-1 {\n",
       "  /* Definition of color scheme common for light and dark mode */\n",
       "  --sklearn-color-text: #000;\n",
       "  --sklearn-color-text-muted: #666;\n",
       "  --sklearn-color-line: gray;\n",
       "  /* Definition of color scheme for unfitted estimators */\n",
       "  --sklearn-color-unfitted-level-0: #fff5e6;\n",
       "  --sklearn-color-unfitted-level-1: #f6e4d2;\n",
       "  --sklearn-color-unfitted-level-2: #ffe0b3;\n",
       "  --sklearn-color-unfitted-level-3: chocolate;\n",
       "  /* Definition of color scheme for fitted estimators */\n",
       "  --sklearn-color-fitted-level-0: #f0f8ff;\n",
       "  --sklearn-color-fitted-level-1: #d4ebff;\n",
       "  --sklearn-color-fitted-level-2: #b3dbfd;\n",
       "  --sklearn-color-fitted-level-3: cornflowerblue;\n",
       "\n",
       "  /* Specific color for light theme */\n",
       "  --sklearn-color-text-on-default-background: var(--sg-text-color, var(--theme-code-foreground, var(--jp-content-font-color1, black)));\n",
       "  --sklearn-color-background: var(--sg-background-color, var(--theme-background, var(--jp-layout-color0, white)));\n",
       "  --sklearn-color-border-box: var(--sg-text-color, var(--theme-code-foreground, var(--jp-content-font-color1, black)));\n",
       "  --sklearn-color-icon: #696969;\n",
       "\n",
       "  @media (prefers-color-scheme: dark) {\n",
       "    /* Redefinition of color scheme for dark theme */\n",
       "    --sklearn-color-text-on-default-background: var(--sg-text-color, var(--theme-code-foreground, var(--jp-content-font-color1, white)));\n",
       "    --sklearn-color-background: var(--sg-background-color, var(--theme-background, var(--jp-layout-color0, #111)));\n",
       "    --sklearn-color-border-box: var(--sg-text-color, var(--theme-code-foreground, var(--jp-content-font-color1, white)));\n",
       "    --sklearn-color-icon: #878787;\n",
       "  }\n",
       "}\n",
       "\n",
       "#sk-container-id-1 {\n",
       "  color: var(--sklearn-color-text);\n",
       "}\n",
       "\n",
       "#sk-container-id-1 pre {\n",
       "  padding: 0;\n",
       "}\n",
       "\n",
       "#sk-container-id-1 input.sk-hidden--visually {\n",
       "  border: 0;\n",
       "  clip: rect(1px 1px 1px 1px);\n",
       "  clip: rect(1px, 1px, 1px, 1px);\n",
       "  height: 1px;\n",
       "  margin: -1px;\n",
       "  overflow: hidden;\n",
       "  padding: 0;\n",
       "  position: absolute;\n",
       "  width: 1px;\n",
       "}\n",
       "\n",
       "#sk-container-id-1 div.sk-dashed-wrapped {\n",
       "  border: 1px dashed var(--sklearn-color-line);\n",
       "  margin: 0 0.4em 0.5em 0.4em;\n",
       "  box-sizing: border-box;\n",
       "  padding-bottom: 0.4em;\n",
       "  background-color: var(--sklearn-color-background);\n",
       "}\n",
       "\n",
       "#sk-container-id-1 div.sk-container {\n",
       "  /* jupyter's `normalize.less` sets `[hidden] { display: none; }`\n",
       "     but bootstrap.min.css set `[hidden] { display: none !important; }`\n",
       "     so we also need the `!important` here to be able to override the\n",
       "     default hidden behavior on the sphinx rendered scikit-learn.org.\n",
       "     See: https://github.com/scikit-learn/scikit-learn/issues/21755 */\n",
       "  display: inline-block !important;\n",
       "  position: relative;\n",
       "}\n",
       "\n",
       "#sk-container-id-1 div.sk-text-repr-fallback {\n",
       "  display: none;\n",
       "}\n",
       "\n",
       "div.sk-parallel-item,\n",
       "div.sk-serial,\n",
       "div.sk-item {\n",
       "  /* draw centered vertical line to link estimators */\n",
       "  background-image: linear-gradient(var(--sklearn-color-text-on-default-background), var(--sklearn-color-text-on-default-background));\n",
       "  background-size: 2px 100%;\n",
       "  background-repeat: no-repeat;\n",
       "  background-position: center center;\n",
       "}\n",
       "\n",
       "/* Parallel-specific style estimator block */\n",
       "\n",
       "#sk-container-id-1 div.sk-parallel-item::after {\n",
       "  content: \"\";\n",
       "  width: 100%;\n",
       "  border-bottom: 2px solid var(--sklearn-color-text-on-default-background);\n",
       "  flex-grow: 1;\n",
       "}\n",
       "\n",
       "#sk-container-id-1 div.sk-parallel {\n",
       "  display: flex;\n",
       "  align-items: stretch;\n",
       "  justify-content: center;\n",
       "  background-color: var(--sklearn-color-background);\n",
       "  position: relative;\n",
       "}\n",
       "\n",
       "#sk-container-id-1 div.sk-parallel-item {\n",
       "  display: flex;\n",
       "  flex-direction: column;\n",
       "}\n",
       "\n",
       "#sk-container-id-1 div.sk-parallel-item:first-child::after {\n",
       "  align-self: flex-end;\n",
       "  width: 50%;\n",
       "}\n",
       "\n",
       "#sk-container-id-1 div.sk-parallel-item:last-child::after {\n",
       "  align-self: flex-start;\n",
       "  width: 50%;\n",
       "}\n",
       "\n",
       "#sk-container-id-1 div.sk-parallel-item:only-child::after {\n",
       "  width: 0;\n",
       "}\n",
       "\n",
       "/* Serial-specific style estimator block */\n",
       "\n",
       "#sk-container-id-1 div.sk-serial {\n",
       "  display: flex;\n",
       "  flex-direction: column;\n",
       "  align-items: center;\n",
       "  background-color: var(--sklearn-color-background);\n",
       "  padding-right: 1em;\n",
       "  padding-left: 1em;\n",
       "}\n",
       "\n",
       "\n",
       "/* Toggleable style: style used for estimator/Pipeline/ColumnTransformer box that is\n",
       "clickable and can be expanded/collapsed.\n",
       "- Pipeline and ColumnTransformer use this feature and define the default style\n",
       "- Estimators will overwrite some part of the style using the `sk-estimator` class\n",
       "*/\n",
       "\n",
       "/* Pipeline and ColumnTransformer style (default) */\n",
       "\n",
       "#sk-container-id-1 div.sk-toggleable {\n",
       "  /* Default theme specific background. It is overwritten whether we have a\n",
       "  specific estimator or a Pipeline/ColumnTransformer */\n",
       "  background-color: var(--sklearn-color-background);\n",
       "}\n",
       "\n",
       "/* Toggleable label */\n",
       "#sk-container-id-1 label.sk-toggleable__label {\n",
       "  cursor: pointer;\n",
       "  display: flex;\n",
       "  width: 100%;\n",
       "  margin-bottom: 0;\n",
       "  padding: 0.5em;\n",
       "  box-sizing: border-box;\n",
       "  text-align: center;\n",
       "  align-items: start;\n",
       "  justify-content: space-between;\n",
       "  gap: 0.5em;\n",
       "}\n",
       "\n",
       "#sk-container-id-1 label.sk-toggleable__label .caption {\n",
       "  font-size: 0.6rem;\n",
       "  font-weight: lighter;\n",
       "  color: var(--sklearn-color-text-muted);\n",
       "}\n",
       "\n",
       "#sk-container-id-1 label.sk-toggleable__label-arrow:before {\n",
       "  /* Arrow on the left of the label */\n",
       "  content: \"▸\";\n",
       "  float: left;\n",
       "  margin-right: 0.25em;\n",
       "  color: var(--sklearn-color-icon);\n",
       "}\n",
       "\n",
       "#sk-container-id-1 label.sk-toggleable__label-arrow:hover:before {\n",
       "  color: var(--sklearn-color-text);\n",
       "}\n",
       "\n",
       "/* Toggleable content - dropdown */\n",
       "\n",
       "#sk-container-id-1 div.sk-toggleable__content {\n",
       "  max-height: 0;\n",
       "  max-width: 0;\n",
       "  overflow: hidden;\n",
       "  text-align: left;\n",
       "  /* unfitted */\n",
       "  background-color: var(--sklearn-color-unfitted-level-0);\n",
       "}\n",
       "\n",
       "#sk-container-id-1 div.sk-toggleable__content.fitted {\n",
       "  /* fitted */\n",
       "  background-color: var(--sklearn-color-fitted-level-0);\n",
       "}\n",
       "\n",
       "#sk-container-id-1 div.sk-toggleable__content pre {\n",
       "  margin: 0.2em;\n",
       "  border-radius: 0.25em;\n",
       "  color: var(--sklearn-color-text);\n",
       "  /* unfitted */\n",
       "  background-color: var(--sklearn-color-unfitted-level-0);\n",
       "}\n",
       "\n",
       "#sk-container-id-1 div.sk-toggleable__content.fitted pre {\n",
       "  /* unfitted */\n",
       "  background-color: var(--sklearn-color-fitted-level-0);\n",
       "}\n",
       "\n",
       "#sk-container-id-1 input.sk-toggleable__control:checked~div.sk-toggleable__content {\n",
       "  /* Expand drop-down */\n",
       "  max-height: 200px;\n",
       "  max-width: 100%;\n",
       "  overflow: auto;\n",
       "}\n",
       "\n",
       "#sk-container-id-1 input.sk-toggleable__control:checked~label.sk-toggleable__label-arrow:before {\n",
       "  content: \"▾\";\n",
       "}\n",
       "\n",
       "/* Pipeline/ColumnTransformer-specific style */\n",
       "\n",
       "#sk-container-id-1 div.sk-label input.sk-toggleable__control:checked~label.sk-toggleable__label {\n",
       "  color: var(--sklearn-color-text);\n",
       "  background-color: var(--sklearn-color-unfitted-level-2);\n",
       "}\n",
       "\n",
       "#sk-container-id-1 div.sk-label.fitted input.sk-toggleable__control:checked~label.sk-toggleable__label {\n",
       "  background-color: var(--sklearn-color-fitted-level-2);\n",
       "}\n",
       "\n",
       "/* Estimator-specific style */\n",
       "\n",
       "/* Colorize estimator box */\n",
       "#sk-container-id-1 div.sk-estimator input.sk-toggleable__control:checked~label.sk-toggleable__label {\n",
       "  /* unfitted */\n",
       "  background-color: var(--sklearn-color-unfitted-level-2);\n",
       "}\n",
       "\n",
       "#sk-container-id-1 div.sk-estimator.fitted input.sk-toggleable__control:checked~label.sk-toggleable__label {\n",
       "  /* fitted */\n",
       "  background-color: var(--sklearn-color-fitted-level-2);\n",
       "}\n",
       "\n",
       "#sk-container-id-1 div.sk-label label.sk-toggleable__label,\n",
       "#sk-container-id-1 div.sk-label label {\n",
       "  /* The background is the default theme color */\n",
       "  color: var(--sklearn-color-text-on-default-background);\n",
       "}\n",
       "\n",
       "/* On hover, darken the color of the background */\n",
       "#sk-container-id-1 div.sk-label:hover label.sk-toggleable__label {\n",
       "  color: var(--sklearn-color-text);\n",
       "  background-color: var(--sklearn-color-unfitted-level-2);\n",
       "}\n",
       "\n",
       "/* Label box, darken color on hover, fitted */\n",
       "#sk-container-id-1 div.sk-label.fitted:hover label.sk-toggleable__label.fitted {\n",
       "  color: var(--sklearn-color-text);\n",
       "  background-color: var(--sklearn-color-fitted-level-2);\n",
       "}\n",
       "\n",
       "/* Estimator label */\n",
       "\n",
       "#sk-container-id-1 div.sk-label label {\n",
       "  font-family: monospace;\n",
       "  font-weight: bold;\n",
       "  display: inline-block;\n",
       "  line-height: 1.2em;\n",
       "}\n",
       "\n",
       "#sk-container-id-1 div.sk-label-container {\n",
       "  text-align: center;\n",
       "}\n",
       "\n",
       "/* Estimator-specific */\n",
       "#sk-container-id-1 div.sk-estimator {\n",
       "  font-family: monospace;\n",
       "  border: 1px dotted var(--sklearn-color-border-box);\n",
       "  border-radius: 0.25em;\n",
       "  box-sizing: border-box;\n",
       "  margin-bottom: 0.5em;\n",
       "  /* unfitted */\n",
       "  background-color: var(--sklearn-color-unfitted-level-0);\n",
       "}\n",
       "\n",
       "#sk-container-id-1 div.sk-estimator.fitted {\n",
       "  /* fitted */\n",
       "  background-color: var(--sklearn-color-fitted-level-0);\n",
       "}\n",
       "\n",
       "/* on hover */\n",
       "#sk-container-id-1 div.sk-estimator:hover {\n",
       "  /* unfitted */\n",
       "  background-color: var(--sklearn-color-unfitted-level-2);\n",
       "}\n",
       "\n",
       "#sk-container-id-1 div.sk-estimator.fitted:hover {\n",
       "  /* fitted */\n",
       "  background-color: var(--sklearn-color-fitted-level-2);\n",
       "}\n",
       "\n",
       "/* Specification for estimator info (e.g. \"i\" and \"?\") */\n",
       "\n",
       "/* Common style for \"i\" and \"?\" */\n",
       "\n",
       ".sk-estimator-doc-link,\n",
       "a:link.sk-estimator-doc-link,\n",
       "a:visited.sk-estimator-doc-link {\n",
       "  float: right;\n",
       "  font-size: smaller;\n",
       "  line-height: 1em;\n",
       "  font-family: monospace;\n",
       "  background-color: var(--sklearn-color-background);\n",
       "  border-radius: 1em;\n",
       "  height: 1em;\n",
       "  width: 1em;\n",
       "  text-decoration: none !important;\n",
       "  margin-left: 0.5em;\n",
       "  text-align: center;\n",
       "  /* unfitted */\n",
       "  border: var(--sklearn-color-unfitted-level-1) 1pt solid;\n",
       "  color: var(--sklearn-color-unfitted-level-1);\n",
       "}\n",
       "\n",
       ".sk-estimator-doc-link.fitted,\n",
       "a:link.sk-estimator-doc-link.fitted,\n",
       "a:visited.sk-estimator-doc-link.fitted {\n",
       "  /* fitted */\n",
       "  border: var(--sklearn-color-fitted-level-1) 1pt solid;\n",
       "  color: var(--sklearn-color-fitted-level-1);\n",
       "}\n",
       "\n",
       "/* On hover */\n",
       "div.sk-estimator:hover .sk-estimator-doc-link:hover,\n",
       ".sk-estimator-doc-link:hover,\n",
       "div.sk-label-container:hover .sk-estimator-doc-link:hover,\n",
       ".sk-estimator-doc-link:hover {\n",
       "  /* unfitted */\n",
       "  background-color: var(--sklearn-color-unfitted-level-3);\n",
       "  color: var(--sklearn-color-background);\n",
       "  text-decoration: none;\n",
       "}\n",
       "\n",
       "div.sk-estimator.fitted:hover .sk-estimator-doc-link.fitted:hover,\n",
       ".sk-estimator-doc-link.fitted:hover,\n",
       "div.sk-label-container:hover .sk-estimator-doc-link.fitted:hover,\n",
       ".sk-estimator-doc-link.fitted:hover {\n",
       "  /* fitted */\n",
       "  background-color: var(--sklearn-color-fitted-level-3);\n",
       "  color: var(--sklearn-color-background);\n",
       "  text-decoration: none;\n",
       "}\n",
       "\n",
       "/* Span, style for the box shown on hovering the info icon */\n",
       ".sk-estimator-doc-link span {\n",
       "  display: none;\n",
       "  z-index: 9999;\n",
       "  position: relative;\n",
       "  font-weight: normal;\n",
       "  right: .2ex;\n",
       "  padding: .5ex;\n",
       "  margin: .5ex;\n",
       "  width: min-content;\n",
       "  min-width: 20ex;\n",
       "  max-width: 50ex;\n",
       "  color: var(--sklearn-color-text);\n",
       "  box-shadow: 2pt 2pt 4pt #999;\n",
       "  /* unfitted */\n",
       "  background: var(--sklearn-color-unfitted-level-0);\n",
       "  border: .5pt solid var(--sklearn-color-unfitted-level-3);\n",
       "}\n",
       "\n",
       ".sk-estimator-doc-link.fitted span {\n",
       "  /* fitted */\n",
       "  background: var(--sklearn-color-fitted-level-0);\n",
       "  border: var(--sklearn-color-fitted-level-3);\n",
       "}\n",
       "\n",
       ".sk-estimator-doc-link:hover span {\n",
       "  display: block;\n",
       "}\n",
       "\n",
       "/* \"?\"-specific style due to the `<a>` HTML tag */\n",
       "\n",
       "#sk-container-id-1 a.estimator_doc_link {\n",
       "  float: right;\n",
       "  font-size: 1rem;\n",
       "  line-height: 1em;\n",
       "  font-family: monospace;\n",
       "  background-color: var(--sklearn-color-background);\n",
       "  border-radius: 1rem;\n",
       "  height: 1rem;\n",
       "  width: 1rem;\n",
       "  text-decoration: none;\n",
       "  /* unfitted */\n",
       "  color: var(--sklearn-color-unfitted-level-1);\n",
       "  border: var(--sklearn-color-unfitted-level-1) 1pt solid;\n",
       "}\n",
       "\n",
       "#sk-container-id-1 a.estimator_doc_link.fitted {\n",
       "  /* fitted */\n",
       "  border: var(--sklearn-color-fitted-level-1) 1pt solid;\n",
       "  color: var(--sklearn-color-fitted-level-1);\n",
       "}\n",
       "\n",
       "/* On hover */\n",
       "#sk-container-id-1 a.estimator_doc_link:hover {\n",
       "  /* unfitted */\n",
       "  background-color: var(--sklearn-color-unfitted-level-3);\n",
       "  color: var(--sklearn-color-background);\n",
       "  text-decoration: none;\n",
       "}\n",
       "\n",
       "#sk-container-id-1 a.estimator_doc_link.fitted:hover {\n",
       "  /* fitted */\n",
       "  background-color: var(--sklearn-color-fitted-level-3);\n",
       "}\n",
       "</style><div id=\"sk-container-id-1\" class=\"sk-top-container\"><div class=\"sk-text-repr-fallback\"><pre>RandomForestClassifier()</pre><b>In a Jupyter environment, please rerun this cell to show the HTML representation or trust the notebook. <br />On GitHub, the HTML representation is unable to render, please try loading this page with nbviewer.org.</b></div><div class=\"sk-container\" hidden><div class=\"sk-item\"><div class=\"sk-estimator fitted sk-toggleable\"><input class=\"sk-toggleable__control sk-hidden--visually\" id=\"sk-estimator-id-1\" type=\"checkbox\" checked><label for=\"sk-estimator-id-1\" class=\"sk-toggleable__label fitted sk-toggleable__label-arrow\"><div><div>RandomForestClassifier</div></div><div><a class=\"sk-estimator-doc-link fitted\" rel=\"noreferrer\" target=\"_blank\" href=\"https://scikit-learn.org/1.6/modules/generated/sklearn.ensemble.RandomForestClassifier.html\">?<span>Documentation for RandomForestClassifier</span></a><span class=\"sk-estimator-doc-link fitted\">i<span>Fitted</span></span></div></label><div class=\"sk-toggleable__content fitted\"><pre>RandomForestClassifier()</pre></div> </div></div></div></div>"
      ],
      "text/plain": [
       "RandomForestClassifier()"
      ]
     },
     "execution_count": 18,
     "metadata": {},
     "output_type": "execute_result"
    }
   ],
   "source": [
    "rf=RandomForestClassifier()\n",
    "rf.fit(x_train,y_train)"
   ]
  },
  {
   "cell_type": "code",
   "execution_count": 19,
   "id": "c10cecaa-2af5-4a0d-b799-f4d9dfffef79",
   "metadata": {},
   "outputs": [],
   "source": [
    "y_pred=rf.predict(x_test)"
   ]
  },
  {
   "cell_type": "code",
   "execution_count": 23,
   "id": "69ad7991-7928-4326-b299-9001e4dde9dd",
   "metadata": {},
   "outputs": [],
   "source": [
    "fi=rf.feature_importances_ \n",
    "cc=c.feature_names \n",
    "feature_importance_df=pd.DataFrame({'Feature': cc, 'Importance': fi})"
   ]
  },
  {
   "cell_type": "code",
   "execution_count": 24,
   "id": "48a5660f-7c8f-4c80-a73f-40d700ed4122",
   "metadata": {},
   "outputs": [
    {
     "data": {
      "text/html": [
       "<div>\n",
       "<style scoped>\n",
       "    .dataframe tbody tr th:only-of-type {\n",
       "        vertical-align: middle;\n",
       "    }\n",
       "\n",
       "    .dataframe tbody tr th {\n",
       "        vertical-align: top;\n",
       "    }\n",
       "\n",
       "    .dataframe thead th {\n",
       "        text-align: right;\n",
       "    }\n",
       "</style>\n",
       "<table border=\"1\" class=\"dataframe\">\n",
       "  <thead>\n",
       "    <tr style=\"text-align: right;\">\n",
       "      <th></th>\n",
       "      <th>Feature</th>\n",
       "      <th>Importance</th>\n",
       "    </tr>\n",
       "  </thead>\n",
       "  <tbody>\n",
       "    <tr>\n",
       "      <th>0</th>\n",
       "      <td>mean radius</td>\n",
       "      <td>0.040681</td>\n",
       "    </tr>\n",
       "    <tr>\n",
       "      <th>1</th>\n",
       "      <td>mean texture</td>\n",
       "      <td>0.014282</td>\n",
       "    </tr>\n",
       "    <tr>\n",
       "      <th>2</th>\n",
       "      <td>mean perimeter</td>\n",
       "      <td>0.040795</td>\n",
       "    </tr>\n",
       "    <tr>\n",
       "      <th>3</th>\n",
       "      <td>mean area</td>\n",
       "      <td>0.060686</td>\n",
       "    </tr>\n",
       "    <tr>\n",
       "      <th>4</th>\n",
       "      <td>mean smoothness</td>\n",
       "      <td>0.004907</td>\n",
       "    </tr>\n",
       "    <tr>\n",
       "      <th>5</th>\n",
       "      <td>mean compactness</td>\n",
       "      <td>0.011406</td>\n",
       "    </tr>\n",
       "    <tr>\n",
       "      <th>6</th>\n",
       "      <td>mean concavity</td>\n",
       "      <td>0.037105</td>\n",
       "    </tr>\n",
       "    <tr>\n",
       "      <th>7</th>\n",
       "      <td>mean concave points</td>\n",
       "      <td>0.099817</td>\n",
       "    </tr>\n",
       "    <tr>\n",
       "      <th>8</th>\n",
       "      <td>mean symmetry</td>\n",
       "      <td>0.003331</td>\n",
       "    </tr>\n",
       "    <tr>\n",
       "      <th>9</th>\n",
       "      <td>mean fractal dimension</td>\n",
       "      <td>0.004772</td>\n",
       "    </tr>\n",
       "    <tr>\n",
       "      <th>10</th>\n",
       "      <td>radius error</td>\n",
       "      <td>0.020111</td>\n",
       "    </tr>\n",
       "    <tr>\n",
       "      <th>11</th>\n",
       "      <td>texture error</td>\n",
       "      <td>0.006158</td>\n",
       "    </tr>\n",
       "    <tr>\n",
       "      <th>12</th>\n",
       "      <td>perimeter error</td>\n",
       "      <td>0.012499</td>\n",
       "    </tr>\n",
       "    <tr>\n",
       "      <th>13</th>\n",
       "      <td>area error</td>\n",
       "      <td>0.047024</td>\n",
       "    </tr>\n",
       "    <tr>\n",
       "      <th>14</th>\n",
       "      <td>smoothness error</td>\n",
       "      <td>0.003511</td>\n",
       "    </tr>\n",
       "    <tr>\n",
       "      <th>15</th>\n",
       "      <td>compactness error</td>\n",
       "      <td>0.005254</td>\n",
       "    </tr>\n",
       "    <tr>\n",
       "      <th>16</th>\n",
       "      <td>concavity error</td>\n",
       "      <td>0.003028</td>\n",
       "    </tr>\n",
       "    <tr>\n",
       "      <th>17</th>\n",
       "      <td>concave points error</td>\n",
       "      <td>0.010300</td>\n",
       "    </tr>\n",
       "    <tr>\n",
       "      <th>18</th>\n",
       "      <td>symmetry error</td>\n",
       "      <td>0.002488</td>\n",
       "    </tr>\n",
       "    <tr>\n",
       "      <th>19</th>\n",
       "      <td>fractal dimension error</td>\n",
       "      <td>0.004129</td>\n",
       "    </tr>\n",
       "    <tr>\n",
       "      <th>20</th>\n",
       "      <td>worst radius</td>\n",
       "      <td>0.091616</td>\n",
       "    </tr>\n",
       "    <tr>\n",
       "      <th>21</th>\n",
       "      <td>worst texture</td>\n",
       "      <td>0.023959</td>\n",
       "    </tr>\n",
       "    <tr>\n",
       "      <th>22</th>\n",
       "      <td>worst perimeter</td>\n",
       "      <td>0.140268</td>\n",
       "    </tr>\n",
       "    <tr>\n",
       "      <th>23</th>\n",
       "      <td>worst area</td>\n",
       "      <td>0.109944</td>\n",
       "    </tr>\n",
       "    <tr>\n",
       "      <th>24</th>\n",
       "      <td>worst smoothness</td>\n",
       "      <td>0.012964</td>\n",
       "    </tr>\n",
       "    <tr>\n",
       "      <th>25</th>\n",
       "      <td>worst compactness</td>\n",
       "      <td>0.021098</td>\n",
       "    </tr>\n",
       "    <tr>\n",
       "      <th>26</th>\n",
       "      <td>worst concavity</td>\n",
       "      <td>0.028202</td>\n",
       "    </tr>\n",
       "    <tr>\n",
       "      <th>27</th>\n",
       "      <td>worst concave points</td>\n",
       "      <td>0.121761</td>\n",
       "    </tr>\n",
       "    <tr>\n",
       "      <th>28</th>\n",
       "      <td>worst symmetry</td>\n",
       "      <td>0.010522</td>\n",
       "    </tr>\n",
       "    <tr>\n",
       "      <th>29</th>\n",
       "      <td>worst fractal dimension</td>\n",
       "      <td>0.007382</td>\n",
       "    </tr>\n",
       "  </tbody>\n",
       "</table>\n",
       "</div>"
      ],
      "text/plain": [
       "                    Feature  Importance\n",
       "0               mean radius    0.040681\n",
       "1              mean texture    0.014282\n",
       "2            mean perimeter    0.040795\n",
       "3                 mean area    0.060686\n",
       "4           mean smoothness    0.004907\n",
       "5          mean compactness    0.011406\n",
       "6            mean concavity    0.037105\n",
       "7       mean concave points    0.099817\n",
       "8             mean symmetry    0.003331\n",
       "9    mean fractal dimension    0.004772\n",
       "10             radius error    0.020111\n",
       "11            texture error    0.006158\n",
       "12          perimeter error    0.012499\n",
       "13               area error    0.047024\n",
       "14         smoothness error    0.003511\n",
       "15        compactness error    0.005254\n",
       "16          concavity error    0.003028\n",
       "17     concave points error    0.010300\n",
       "18           symmetry error    0.002488\n",
       "19  fractal dimension error    0.004129\n",
       "20             worst radius    0.091616\n",
       "21            worst texture    0.023959\n",
       "22          worst perimeter    0.140268\n",
       "23               worst area    0.109944\n",
       "24         worst smoothness    0.012964\n",
       "25        worst compactness    0.021098\n",
       "26          worst concavity    0.028202\n",
       "27     worst concave points    0.121761\n",
       "28           worst symmetry    0.010522\n",
       "29  worst fractal dimension    0.007382"
      ]
     },
     "execution_count": 24,
     "metadata": {},
     "output_type": "execute_result"
    }
   ],
   "source": [
    "feature_importance_df"
   ]
  },
  {
   "cell_type": "markdown",
   "id": "ae13e7d4-f773-418e-ae5b-4e84f3d20113",
   "metadata": {},
   "source": [
    "### 24  Train a Random Forest Regressor and compare its performance with a single Decision Tree"
   ]
  },
  {
   "cell_type": "code",
   "execution_count": 29,
   "id": "f3467a98-50dc-45e5-9959-74111c4810af",
   "metadata": {},
   "outputs": [
    {
     "name": "stdout",
     "output_type": "stream",
     "text": [
      "Accuracy - 0.8261930533334777\n",
      "MSE :- 6468.263488271261\n"
     ]
    }
   ],
   "source": [
    "x,y=make_regression(n_samples=1000,n_features=10)  \n",
    "x_train,x_test,y_train,y_test=train_test_split(x,y,test_size=0.2,random_state=2)\n",
    "rf=RandomForestRegressor()\n",
    "rf.fit(x_train,y_train) \n",
    "y_pred=rf.predict(x_test)\n",
    "from sklearn.metrics import r2_score\n",
    "print(\"Accuracy -\",r2_score(y_test,y_pred))\n",
    "print(\"MSE :-\",mean_squared_error(y_test,y_pred))"
   ]
  },
  {
   "cell_type": "code",
   "execution_count": 30,
   "id": "163cc2f2-96ef-492c-adc1-36df875ec44d",
   "metadata": {},
   "outputs": [
    {
     "name": "stdout",
     "output_type": "stream",
     "text": [
      "Accuracy :- 0.4996790673902375\n",
      "MSE :- 18619.55280203362\n"
     ]
    }
   ],
   "source": [
    "dt=DecisionTreeRegressor() \n",
    "dt.fit(x_train,y_train)\n",
    "y_pred=dt.predict(x_test)\n",
    "print(\"Accuracy :-\",r2_score(y_test,y_pred)) \n",
    "print(\"MSE :-\",mean_squared_error(y_test,y_pred))"
   ]
  },
  {
   "cell_type": "markdown",
   "id": "75c69371-c0ea-4329-8ed3-a113e264ada0",
   "metadata": {},
   "source": [
    "### 25 Compute the Out-of-Bag (OOB) Score for a Random Forest Classifier"
   ]
  },
  {
   "cell_type": "code",
   "execution_count": 32,
   "id": "da25ac19-e0a6-4c28-8332-a8c20ae622c3",
   "metadata": {},
   "outputs": [],
   "source": [
    "x,y=make_classification(n_samples=1000,n_features=10,n_classes=2)\n",
    "x_train,x_test,y_train,y_test=train_test_split(x,y,test_size=0.2,random_state=2)"
   ]
  },
  {
   "cell_type": "code",
   "execution_count": 37,
   "id": "899a3f98-6cd5-4d9c-bb71-56aa1fb401b0",
   "metadata": {},
   "outputs": [
    {
     "name": "stdout",
     "output_type": "stream",
     "text": [
      "OOB SCORE :- 0.965\n"
     ]
    }
   ],
   "source": [
    "clf=RandomForestClassifier(n_estimators=100,oob_score=True)\n",
    "clf.fit(x_train,y_train) \n",
    "y_pred=clf.predict(x_test) \n",
    "oob=clf.oob_score_\n",
    "print(\"OOB SCORE :-\",oob)"
   ]
  },
  {
   "cell_type": "markdown",
   "id": "5d1453aa-1075-4850-ad0e-1de48f386320",
   "metadata": {},
   "source": [
    "### 26 Train a Bagging Classifier using SVM as a base estimator and print accuracy"
   ]
  },
  {
   "cell_type": "code",
   "execution_count": 38,
   "id": "779fccee-1d18-488d-97c8-871e0fdd2f20",
   "metadata": {},
   "outputs": [],
   "source": [
    "x,y=make_classification(n_samples=1000,n_features=10,n_classes=2)\n",
    "x_train,x_test,y_train,y_test=train_test_split(x,y,test_size=0.2,random_state=2)"
   ]
  },
  {
   "cell_type": "code",
   "execution_count": 44,
   "id": "2b8d91a8-b5a5-455b-8e06-956cbf199d1d",
   "metadata": {},
   "outputs": [],
   "source": [
    "from sklearn.svm import SVC \n",
    "svm=SVC(kernel='linear')\n",
    "bg=BaggingClassifier(base_estimator=svm,n_estimators=100,random_state=42) "
   ]
  },
  {
   "cell_type": "code",
   "execution_count": 41,
   "id": "f9e66d33-2fc1-4846-9113-bd7baf950856",
   "metadata": {},
   "outputs": [
    {
     "name": "stdout",
     "output_type": "stream",
     "text": [
      "Accuracy :- 0.915\n"
     ]
    }
   ],
   "source": [
    "bg.fit(x_train,y_train) \n",
    "y_pred=bg.predict(x_test) \n",
    "print(\"Accuracy :-\",accuracy_score(y_test,y_pred))"
   ]
  },
  {
   "cell_type": "markdown",
   "id": "0860d468-7e25-42dd-a78c-9c3646168a95",
   "metadata": {},
   "source": [
    "### 27 Train a Random Forest Classifier with different numbers of trees and compare accuracy"
   ]
  },
  {
   "cell_type": "code",
   "execution_count": 6,
   "id": "1546d6a2-b8d3-4793-85b9-dbca8462498d",
   "metadata": {},
   "outputs": [],
   "source": [
    "from sklearn.datasets import load_iris"
   ]
  },
  {
   "cell_type": "code",
   "execution_count": 52,
   "id": "c471fe6f-2b5c-4ae3-bda7-e8ac33a5fba9",
   "metadata": {},
   "outputs": [
    {
     "name": "stdout",
     "output_type": "stream",
     "text": [
      "Number of trees: 10, Accuracy: 1.00\n",
      "Number of trees: 50, Accuracy: 1.00\n",
      "Number of trees: 100, Accuracy: 1.00\n",
      "Number of trees: 150, Accuracy: 1.00\n",
      "Number of trees: 200, Accuracy: 1.00\n"
     ]
    }
   ],
   "source": [
    "iris = load_iris()\n",
    "X = iris.data\n",
    "y = iris.target\n",
    "X_train, X_test, y_train, y_test = train_test_split(X, y, test_size=0.2, random_state=42)\n",
    "trees = [10, 50, 100, 150, 200]\n",
    "accuracies = []\n",
    "for i in trees:\n",
    "    rf = RandomForestClassifier(n_estimators=i, random_state=42)\n",
    "    rf.fit(X_train, y_train)\n",
    "    y_pred = rf.predict(X_test)\n",
    "    accuracy = accuracy_score(y_test, y_pred)\n",
    "    accuracies.append(accuracy)\n",
    "    print(f\"Number of trees: {i}, Accuracy: {accuracy:.2f}\")"
   ]
  },
  {
   "cell_type": "markdown",
   "id": "60ca5018-ee87-4f78-a283-c92406ccdaf6",
   "metadata": {},
   "source": [
    "### 28  Train a Bagging Classifier using Logistic Regression as a base estimator and print AUC score"
   ]
  },
  {
   "cell_type": "code",
   "execution_count": 5,
   "id": "3f051519-626f-4af3-9e40-8f6d07fe92d0",
   "metadata": {},
   "outputs": [],
   "source": [
    "from sklearn.linear_model import LogisticRegression \n",
    "from sklearn.metrics import roc_auc_score, roc_curve"
   ]
  },
  {
   "cell_type": "code",
   "execution_count": 56,
   "id": "90ca9ba0-9e56-4c43-980b-b9031cc8b922",
   "metadata": {},
   "outputs": [
    {
     "name": "stdout",
     "output_type": "stream",
     "text": [
      "AUC Score of Bagging Classifier with Logistic Regression as base estimator: 0.96\n"
     ]
    }
   ],
   "source": [
    "x,y=make_classification(n_samples=1000,n_features=10,n_classes=2)\n",
    "x_train,x_test,y_train,y_test=train_test_split(x,y,test_size=0.2,random_state=2)\n",
    "lg=LogisticRegression() \n",
    "bg=BaggingClassifier(base_estimator=lg,n_estimators=100,random_state=42)\n",
    "bg.fit(x_train,y_train) \n",
    "y_pred=bg.predict(x_test) \n",
    "y_prob = bg.predict_proba(x_test)[:, 1]\n",
    "auc_score = roc_auc_score(y_test, y_prob)\n",
    "print(f\"AUC Score of Bagging Classifier with Logistic Regression as base estimator: {auc_score:.2f}\")"
   ]
  },
  {
   "cell_type": "markdown",
   "id": "067c6003-4815-4b5e-b593-818c924f2e2c",
   "metadata": {},
   "source": [
    "### 29 Train a Random Forest Regressor and analyze feature importance scores"
   ]
  },
  {
   "cell_type": "code",
   "execution_count": 57,
   "id": "e684dc0f-e9f6-4304-a574-ad17e8a409e2",
   "metadata": {},
   "outputs": [],
   "source": [
    "x,y=make_regression(n_samples=1000,n_features=10)  \n",
    "x_train,x_test,y_train,y_test=train_test_split(x,y,test_size=0.2,random_state=2)\n",
    "rf=RandomForestRegressor()"
   ]
  },
  {
   "cell_type": "code",
   "execution_count": 58,
   "id": "53f636c8-4105-49e9-8549-3bc2b7da97a7",
   "metadata": {},
   "outputs": [
    {
     "name": "stdout",
     "output_type": "stream",
     "text": [
      "Feature importance scores- [0.01732851 0.12972537 0.07011098 0.06712047 0.06197246 0.1515405\n",
      " 0.02482321 0.23301483 0.14995549 0.09440817]\n"
     ]
    }
   ],
   "source": [
    "rf.fit(x_train,y_train) \n",
    "y_pred=rf.predict(x_test) \n",
    "fi=rf.feature_importances_\n",
    "print(\"Feature importance scores-\",fi)"
   ]
  },
  {
   "cell_type": "markdown",
   "id": "93070526-8720-464e-b34d-7bfa3f5b817f",
   "metadata": {},
   "source": [
    "### 30 Train an ensemble model using both Bagging and Random Forest and compare accuracy."
   ]
  },
  {
   "cell_type": "code",
   "execution_count": 60,
   "id": "689595fc-af63-4fef-908f-658ffc62ede1",
   "metadata": {},
   "outputs": [
    {
     "name": "stdout",
     "output_type": "stream",
     "text": [
      "Accuracy of Bagging Classifier: 1.00\n",
      "Accuracy of Random Forest Classifier: 1.00\n"
     ]
    }
   ],
   "source": [
    "iris = load_iris()\n",
    "X = iris.data\n",
    "y = iris.target\n",
    "X_train, X_test, y_train, y_test = train_test_split(X, y, test_size=0.2, random_state=42)\n",
    "base_estimator = DecisionTreeClassifier(random_state=42)\n",
    "bagging_classifier = BaggingClassifier(estimator=base_estimator, n_estimators=100, random_state=42)\n",
    "random_forest_classifier = RandomForestClassifier(n_estimators=100, random_state=42)\n",
    "bagging_classifier.fit(X_train, y_train)\n",
    "random_forest_classifier.fit(X_train, y_train)\n",
    "y_pred_bagging = bagging_classifier.predict(X_test)\n",
    "y_pred_rf = random_forest_classifier.predict(X_test)\n",
    "accuracy_bagging = accuracy_score(y_test, y_pred_bagging)\n",
    "print(f\"Accuracy of Bagging Classifier: {accuracy_bagging:.2f}\")\n",
    "accuracy_rf = accuracy_score(y_test, y_pred_rf)\n",
    "print(f\"Accuracy of Random Forest Classifier: {accuracy_rf:.2f}\")"
   ]
  },
  {
   "cell_type": "markdown",
   "id": "ce3e5d66-7dd9-4bdd-b660-9b27d87f3c94",
   "metadata": {},
   "source": [
    "### 31  Train a Random Forest Classifier and tune hyperparameters using GridSearchCV"
   ]
  },
  {
   "cell_type": "code",
   "execution_count": 7,
   "id": "c88a496f-5327-4593-bc0c-7714085fa181",
   "metadata": {},
   "outputs": [],
   "source": [
    "iris = load_iris()\n",
    "X = iris.data\n",
    "y = iris.target\n",
    "X_train, X_test, y_train, y_test = train_test_split(X, y, test_size=0.2, random_state=42)"
   ]
  },
  {
   "cell_type": "code",
   "execution_count": 9,
   "id": "78a46563-40cd-4180-adb0-221a39ad0bc5",
   "metadata": {},
   "outputs": [],
   "source": [
    "rf=RandomForestClassifier() \n",
    "rf.fit(X_train,y_train)\n",
    "y_pred=rf.predict(X_test)"
   ]
  },
  {
   "cell_type": "code",
   "execution_count": 10,
   "id": "4dfbb754-d89f-470b-a96b-e3c45addc29a",
   "metadata": {},
   "outputs": [
    {
     "name": "stdout",
     "output_type": "stream",
     "text": [
      "Accuracy without tuning:- 1.0\n"
     ]
    }
   ],
   "source": [
    "print(\"Accuracy without tuning:-\",accuracy_score(y_test,y_pred))"
   ]
  },
  {
   "cell_type": "code",
   "execution_count": 11,
   "id": "54c2fd5c-498a-4645-bdbd-e6052a726d23",
   "metadata": {},
   "outputs": [],
   "source": [
    "param_grid = {\n",
    "    'n_estimators': [10, 50, 100, 200],\n",
    "    'max_features': ['auto', 'sqrt'],\n",
    "    'max_depth': [None, 10, 20, 30]\n",
    "}"
   ]
  },
  {
   "cell_type": "code",
   "execution_count": 13,
   "id": "a69d6e6e-23c6-4d51-8b79-3ee341d60da9",
   "metadata": {},
   "outputs": [],
   "source": [
    "from sklearn.model_selection import GridSearchCV"
   ]
  },
  {
   "cell_type": "code",
   "execution_count": 14,
   "id": "c9963141-162e-4bcc-bc8e-887c50dc4a44",
   "metadata": {},
   "outputs": [],
   "source": [
    "grid_search = GridSearchCV(estimator=rf, param_grid=param_grid,\n",
    "                           cv=5, n_jobs=-1, verbose=2)"
   ]
  },
  {
   "cell_type": "code",
   "execution_count": 15,
   "id": "c8b3c29f-685c-47cf-81c1-be6128d79f39",
   "metadata": {},
   "outputs": [
    {
     "name": "stdout",
     "output_type": "stream",
     "text": [
      "Fitting 5 folds for each of 32 candidates, totalling 160 fits\n",
      "Best Parameters: {'max_depth': None, 'max_features': 'sqrt', 'n_estimators': 10}\n",
      "Accuracy: 1.0\n"
     ]
    }
   ],
   "source": [
    "grid_search.fit(X_train, y_train)\n",
    "best_params = grid_search.best_params_\n",
    "best_rf = grid_search.best_estimator_\n",
    "y_pred = best_rf.predict(X_test)\n",
    "print(\"Best Parameters:\", best_params)\n",
    "print(\"Accuracy:\", accuracy_score(y_test, y_pred))"
   ]
  },
  {
   "cell_type": "markdown",
   "id": "08d0ea27-abe6-486e-867f-7987b38faf7a",
   "metadata": {},
   "source": [
    "### 32  Train a Bagging Regressor with different numbers of base estimators and compare performance"
   ]
  },
  {
   "cell_type": "code",
   "execution_count": 22,
   "id": "184d4203-ac0a-4cc9-b7d2-b7f66e1c8a6f",
   "metadata": {},
   "outputs": [],
   "source": [
    "from sklearn.metrics import r2_score"
   ]
  },
  {
   "cell_type": "code",
   "execution_count": 23,
   "id": "1627c5b3-4c75-422c-9ab2-9eef11806e74",
   "metadata": {},
   "outputs": [
    {
     "name": "stdout",
     "output_type": "stream",
     "text": [
      "Number of estimators: 10, Accuracy: 1.00\n",
      "Number of estimators: 50, Accuracy: 1.00\n",
      "Number of estimators: 100, Accuracy: 1.00\n",
      "Number of estimators: 150, Accuracy: 1.00\n",
      "Number of estimators: 200, Accuracy: 1.00\n"
     ]
    }
   ],
   "source": [
    "iris = load_iris()\n",
    "X = iris.data\n",
    "y = iris.target\n",
    "X_train, X_test, y_train, y_test = train_test_split(X, y, test_size=0.2, random_state=42)\n",
    "estimators= [10, 50, 100, 150, 200]\n",
    "accuracies = []\n",
    "for i in estimators:\n",
    "    bg = BaggingRegressor(estimator=DecisionTreeRegressor(),n_estimators=i,random_state=42)\n",
    "    bg.fit(X_train, y_train)\n",
    "    y_pred = bg.predict(X_test)\n",
    "    accuracy = r2_score(y_test, y_pred)\n",
    "    accuracies.append(accuracy)\n",
    "    print(f\"Number of estimators: {i}, Accuracy: {accuracy:.2f}\")"
   ]
  },
  {
   "cell_type": "markdown",
   "id": "802dbd27-a94c-4ebe-b59e-ec4269b381f7",
   "metadata": {},
   "source": [
    "### 33 Train a Random Forest Classifier and analyze misclassified samples"
   ]
  },
  {
   "cell_type": "code",
   "execution_count": 36,
   "id": "e69f0f09-036e-4725-854d-f6bfc57ab5c5",
   "metadata": {},
   "outputs": [],
   "source": [
    "iris = load_iris()\n",
    "X = iris.data\n",
    "y = iris.target\n",
    "X_train, X_test, y_train, y_test = train_test_split(X, y, test_size=0.2, random_state=42)\n",
    "rf_classifier = RandomForestClassifier(n_estimators=100, random_state=42)\n",
    "rf_classifier.fit(X_train, y_train)\n",
    "y_pred = rf_classifier.predict(X_test)"
   ]
  },
  {
   "cell_type": "code",
   "execution_count": 37,
   "id": "518aecd6-92ae-4893-b731-07a5eed1fa5e",
   "metadata": {},
   "outputs": [],
   "source": [
    "from sklearn.metrics import confusion_matrix,classification_report"
   ]
  },
  {
   "cell_type": "code",
   "execution_count": 43,
   "id": "2317bba2-984c-489e-9448-b3bd3c24dc65",
   "metadata": {},
   "outputs": [
    {
     "name": "stdout",
     "output_type": "stream",
     "text": [
      "Classification Report:\n",
      "               precision    recall  f1-score   support\n",
      "\n",
      "      setosa       1.00      1.00      1.00        10\n",
      "  versicolor       1.00      1.00      1.00         9\n",
      "   virginica       1.00      1.00      1.00        11\n",
      "\n",
      "    accuracy                           1.00        30\n",
      "   macro avg       1.00      1.00      1.00        30\n",
      "weighted avg       1.00      1.00      1.00        30\n",
      "\n",
      "Confusion Matrix:\n",
      " [[10  0  0]\n",
      " [ 0  9  0]\n",
      " [ 0  0 11]]\n",
      "\n",
      "Misclassified Samples:\n",
      " Empty DataFrame\n",
      "Columns: [sepal length (cm), sepal width (cm), petal length (cm), petal width (cm), True Label, Predicted Label]\n",
      "Index: []\n"
     ]
    }
   ],
   "source": [
    "# Create a DataFrame for misclassified samples\n",
    "misclassified_df = pd.DataFrame(misclassified_samples, columns=iris.feature_names)\n",
    "misclassified_df['True Label'] = y_test[misclassified_indices]\n",
    "misclassified_df['Predicted Label'] = y_pred[misclassified_indices]\n",
    "\n",
    "# Display results\n",
    "print(\"Classification Report:\\n\", classification_report(y_test, y_pred, target_names=iris.target_names))\n",
    "print(\"Confusion Matrix:\\n\", confusion_matrix(y_test, y_pred))\n",
    "print(\"\\nMisclassified Samples:\\n\", misclassified_df)"
   ]
  },
  {
   "cell_type": "markdown",
   "id": "bd7925dd-d30e-481d-9d7d-674206759a72",
   "metadata": {},
   "source": [
    "### 34 Train a Bagging Classifier and compare its performance with a single Decision Tree Classifier"
   ]
  },
  {
   "cell_type": "code",
   "execution_count": 45,
   "id": "d26d8821-3b5c-4df3-a76a-e1c3f94e3d60",
   "metadata": {},
   "outputs": [],
   "source": [
    "iris = load_iris()\n",
    "X = iris.data\n",
    "y = iris.target\n",
    "X_train, X_test, y_train, y_test = train_test_split(X, y, test_size=0.2, random_state=42)\n",
    "dt_classifier = DecisionTreeClassifier(random_state=42)\n",
    "dt_classifier.fit(X_train, y_train)\n",
    "y_pred_dt = dt_classifier.predict(X_test)\n",
    "bagging_classifier = BaggingClassifier(estimator=DecisionTreeClassifier(), n_estimators=100, random_state=42)\n",
    "bagging_classifier.fit(X_train, y_train)\n",
    "y_pred_bagging = bagging_classifier.predict(X_test)"
   ]
  },
  {
   "cell_type": "code",
   "execution_count": 48,
   "id": "59c2f9df-af86-4889-9aca-825b6a382eca",
   "metadata": {},
   "outputs": [
    {
     "name": "stdout",
     "output_type": "stream",
     "text": [
      "Accuracy of Decision Tree:  1.0\n",
      "Accuracy of Bagging Classifier: 1.0\n"
     ]
    }
   ],
   "source": [
    "\n",
    "print(\"Accuracy of Decision Tree: \",accuracy_score(y_test,y_pred))\n",
    "print(\"Accuracy of Bagging Classifier:\",accuracy_score(y_test,y_pred))"
   ]
  },
  {
   "cell_type": "markdown",
   "id": "7e6767a8-427e-4dc1-a857-60d9b30968cd",
   "metadata": {},
   "source": [
    "### 35 Train a Random Forest Classifier and visualize the confusion matrix"
   ]
  },
  {
   "cell_type": "code",
   "execution_count": 51,
   "id": "d5fb2999-996c-4cec-b75f-37c088dc1902",
   "metadata": {},
   "outputs": [],
   "source": [
    "iris = load_iris()\n",
    "X = iris.data\n",
    "y = iris.target\n",
    "X_train, X_test, y_train, y_test = train_test_split(X, y, test_size=0.2, random_state=42) \n",
    "rf=RandomForestClassifier()\n",
    "rf.fit(X_train,y_train) \n",
    "y_pred=rf.predict(X_test) \n",
    "cm=confusion_matrix(y_test,y_pred)"
   ]
  },
  {
   "cell_type": "code",
   "execution_count": 56,
   "id": "e25cbd09-5444-4e7a-ac73-2a0f99d0ae26",
   "metadata": {},
   "outputs": [
    {
     "data": {
      "image/png": "[encoded data removed]",
      "text/plain": [
       "<Figure size 640x480 with 2 Axes>"
      ]
     },
     "metadata": {},
     "output_type": "display_data"
    }
   ],
   "source": [
    "import seaborn as sns \n",
    "import matplotlib.pyplot as plt \n",
    "sns.heatmap(cm,annot=True,xticklabels=iris.target_names,yticklabels=iris.target_names) \n",
    "plt.xlabel('Predicted Label')\n",
    "plt.ylabel('True Label')\n",
    "plt.show()"
   ]
  },
  {
   "cell_type": "markdown",
   "id": "6c12ef58-61f9-458f-b647-486265f19a13",
   "metadata": {},
   "source": [
    "### 36 Train a Stacking Classifier using Decision Trees, SVM, and Logistic Regression, and compare accuracy"
   ]
  },
  {
   "cell_type": "code",
   "execution_count": 59,
   "id": "ae4f8504-ec6b-4b5c-9ac9-650a1dc7bc0c",
   "metadata": {},
   "outputs": [],
   "source": [
    "from sklearn.ensemble import StackingClassifier \n",
    "from sklearn.svm import SVC"
   ]
  },
  {
   "cell_type": "code",
   "execution_count": 63,
   "id": "c95facb3-63d1-476a-9a2c-698931127011",
   "metadata": {},
   "outputs": [
    {
     "data": {
      "text/html": [
       "<style>#sk-container-id-1 {\n",
       "  /* Definition of color scheme common for light and dark mode */\n",
       "  --sklearn-color-text: #000;\n",
       "  --sklearn-color-text-muted: #666;\n",
       "  --sklearn-color-line: gray;\n",
       "  /* Definition of color scheme for unfitted estimators */\n",
       "  --sklearn-color-unfitted-level-0: #fff5e6;\n",
       "  --sklearn-color-unfitted-level-1: #f6e4d2;\n",
       "  --sklearn-color-unfitted-level-2: #ffe0b3;\n",
       "  --sklearn-color-unfitted-level-3: chocolate;\n",
       "  /* Definition of color scheme for fitted estimators */\n",
       "  --sklearn-color-fitted-level-0: #f0f8ff;\n",
       "  --sklearn-color-fitted-level-1: #d4ebff;\n",
       "  --sklearn-color-fitted-level-2: #b3dbfd;\n",
       "  --sklearn-color-fitted-level-3: cornflowerblue;\n",
       "\n",
       "  /* Specific color for light theme */\n",
       "  --sklearn-color-text-on-default-background: var(--sg-text-color, var(--theme-code-foreground, var(--jp-content-font-color1, black)));\n",
       "  --sklearn-color-background: var(--sg-background-color, var(--theme-background, var(--jp-layout-color0, white)));\n",
       "  --sklearn-color-border-box: var(--sg-text-color, var(--theme-code-foreground, var(--jp-content-font-color1, black)));\n",
       "  --sklearn-color-icon: #696969;\n",
       "\n",
       "  @media (prefers-color-scheme: dark) {\n",
       "    /* Redefinition of color scheme for dark theme */\n",
       "    --sklearn-color-text-on-default-background: var(--sg-text-color, var(--theme-code-foreground, var(--jp-content-font-color1, white)));\n",
       "    --sklearn-color-background: var(--sg-background-color, var(--theme-background, var(--jp-layout-color0, #111)));\n",
       "    --sklearn-color-border-box: var(--sg-text-color, var(--theme-code-foreground, var(--jp-content-font-color1, white)));\n",
       "    --sklearn-color-icon: #878787;\n",
       "  }\n",
       "}\n",
       "\n",
       "#sk-container-id-1 {\n",
       "  color: var(--sklearn-color-text);\n",
       "}\n",
       "\n",
       "#sk-container-id-1 pre {\n",
       "  padding: 0;\n",
       "}\n",
       "\n",
       "#sk-container-id-1 input.sk-hidden--visually {\n",
       "  border: 0;\n",
       "  clip: rect(1px 1px 1px 1px);\n",
       "  clip: rect(1px, 1px, 1px, 1px);\n",
       "  height: 1px;\n",
       "  margin: -1px;\n",
       "  overflow: hidden;\n",
       "  padding: 0;\n",
       "  position: absolute;\n",
       "  width: 1px;\n",
       "}\n",
       "\n",
       "#sk-container-id-1 div.sk-dashed-wrapped {\n",
       "  border: 1px dashed var(--sklearn-color-line);\n",
       "  margin: 0 0.4em 0.5em 0.4em;\n",
       "  box-sizing: border-box;\n",
       "  padding-bottom: 0.4em;\n",
       "  background-color: var(--sklearn-color-background);\n",
       "}\n",
       "\n",
       "#sk-container-id-1 div.sk-container {\n",
       "  /* jupyter's `normalize.less` sets `[hidden] { display: none; }`\n",
       "     but bootstrap.min.css set `[hidden] { display: none !important; }`\n",
       "     so we also need the `!important` here to be able to override the\n",
       "     default hidden behavior on the sphinx rendered scikit-learn.org.\n",
       "     See: https://github.com/scikit-learn/scikit-learn/issues/21755 */\n",
       "  display: inline-block !important;\n",
       "  position: relative;\n",
       "}\n",
       "\n",
       "#sk-container-id-1 div.sk-text-repr-fallback {\n",
       "  display: none;\n",
       "}\n",
       "\n",
       "div.sk-parallel-item,\n",
       "div.sk-serial,\n",
       "div.sk-item {\n",
       "  /* draw centered vertical line to link estimators */\n",
       "  background-image: linear-gradient(var(--sklearn-color-text-on-default-background), var(--sklearn-color-text-on-default-background));\n",
       "  background-size: 2px 100%;\n",
       "  background-repeat: no-repeat;\n",
       "  background-position: center center;\n",
       "}\n",
       "\n",
       "/* Parallel-specific style estimator block */\n",
       "\n",
       "#sk-container-id-1 div.sk-parallel-item::after {\n",
       "  content: \"\";\n",
       "  width: 100%;\n",
       "  border-bottom: 2px solid var(--sklearn-color-text-on-default-background);\n",
       "  flex-grow: 1;\n",
       "}\n",
       "\n",
       "#sk-container-id-1 div.sk-parallel {\n",
       "  display: flex;\n",
       "  align-items: stretch;\n",
       "  justify-content: center;\n",
       "  background-color: var(--sklearn-color-background);\n",
       "  position: relative;\n",
       "}\n",
       "\n",
       "#sk-container-id-1 div.sk-parallel-item {\n",
       "  display: flex;\n",
       "  flex-direction: column;\n",
       "}\n",
       "\n",
       "#sk-container-id-1 div.sk-parallel-item:first-child::after {\n",
       "  align-self: flex-end;\n",
       "  width: 50%;\n",
       "}\n",
       "\n",
       "#sk-container-id-1 div.sk-parallel-item:last-child::after {\n",
       "  align-self: flex-start;\n",
       "  width: 50%;\n",
       "}\n",
       "\n",
       "#sk-container-id-1 div.sk-parallel-item:only-child::after {\n",
       "  width: 0;\n",
       "}\n",
       "\n",
       "/* Serial-specific style estimator block */\n",
       "\n",
       "#sk-container-id-1 div.sk-serial {\n",
       "  display: flex;\n",
       "  flex-direction: column;\n",
       "  align-items: center;\n",
       "  background-color: var(--sklearn-color-background);\n",
       "  padding-right: 1em;\n",
       "  padding-left: 1em;\n",
       "}\n",
       "\n",
       "\n",
       "/* Toggleable style: style used for estimator/Pipeline/ColumnTransformer box that is\n",
       "clickable and can be expanded/collapsed.\n",
       "- Pipeline and ColumnTransformer use this feature and define the default style\n",
       "- Estimators will overwrite some part of the style using the `sk-estimator` class\n",
       "*/\n",
       "\n",
       "/* Pipeline and ColumnTransformer style (default) */\n",
       "\n",
       "#sk-container-id-1 div.sk-toggleable {\n",
       "  /* Default theme specific background. It is overwritten whether we have a\n",
       "  specific estimator or a Pipeline/ColumnTransformer */\n",
       "  background-color: var(--sklearn-color-background);\n",
       "}\n",
       "\n",
       "/* Toggleable label */\n",
       "#sk-container-id-1 label.sk-toggleable__label {\n",
       "  cursor: pointer;\n",
       "  display: flex;\n",
       "  width: 100%;\n",
       "  margin-bottom: 0;\n",
       "  padding: 0.5em;\n",
       "  box-sizing: border-box;\n",
       "  text-align: center;\n",
       "  align-items: start;\n",
       "  justify-content: space-between;\n",
       "  gap: 0.5em;\n",
       "}\n",
       "\n",
       "#sk-container-id-1 label.sk-toggleable__label .caption {\n",
       "  font-size: 0.6rem;\n",
       "  font-weight: lighter;\n",
       "  color: var(--sklearn-color-text-muted);\n",
       "}\n",
       "\n",
       "#sk-container-id-1 label.sk-toggleable__label-arrow:before {\n",
       "  /* Arrow on the left of the label */\n",
       "  content: \"▸\";\n",
       "  float: left;\n",
       "  margin-right: 0.25em;\n",
       "  color: var(--sklearn-color-icon);\n",
       "}\n",
       "\n",
       "#sk-container-id-1 label.sk-toggleable__label-arrow:hover:before {\n",
       "  color: var(--sklearn-color-text);\n",
       "}\n",
       "\n",
       "/* Toggleable content - dropdown */\n",
       "\n",
       "#sk-container-id-1 div.sk-toggleable__content {\n",
       "  max-height: 0;\n",
       "  max-width: 0;\n",
       "  overflow: hidden;\n",
       "  text-align: left;\n",
       "  /* unfitted */\n",
       "  background-color: var(--sklearn-color-unfitted-level-0);\n",
       "}\n",
       "\n",
       "#sk-container-id-1 div.sk-toggleable__content.fitted {\n",
       "  /* fitted */\n",
       "  background-color: var(--sklearn-color-fitted-level-0);\n",
       "}\n",
       "\n",
       "#sk-container-id-1 div.sk-toggleable__content pre {\n",
       "  margin: 0.2em;\n",
       "  border-radius: 0.25em;\n",
       "  color: var(--sklearn-color-text);\n",
       "  /* unfitted */\n",
       "  background-color: var(--sklearn-color-unfitted-level-0);\n",
       "}\n",
       "\n",
       "#sk-container-id-1 div.sk-toggleable__content.fitted pre {\n",
       "  /* unfitted */\n",
       "  background-color: var(--sklearn-color-fitted-level-0);\n",
       "}\n",
       "\n",
       "#sk-container-id-1 input.sk-toggleable__control:checked~div.sk-toggleable__content {\n",
       "  /* Expand drop-down */\n",
       "  max-height: 200px;\n",
       "  max-width: 100%;\n",
       "  overflow: auto;\n",
       "}\n",
       "\n",
       "#sk-container-id-1 input.sk-toggleable__control:checked~label.sk-toggleable__label-arrow:before {\n",
       "  content: \"▾\";\n",
       "}\n",
       "\n",
       "/* Pipeline/ColumnTransformer-specific style */\n",
       "\n",
       "#sk-container-id-1 div.sk-label input.sk-toggleable__control:checked~label.sk-toggleable__label {\n",
       "  color: var(--sklearn-color-text);\n",
       "  background-color: var(--sklearn-color-unfitted-level-2);\n",
       "}\n",
       "\n",
       "#sk-container-id-1 div.sk-label.fitted input.sk-toggleable__control:checked~label.sk-toggleable__label {\n",
       "  background-color: var(--sklearn-color-fitted-level-2);\n",
       "}\n",
       "\n",
       "/* Estimator-specific style */\n",
       "\n",
       "/* Colorize estimator box */\n",
       "#sk-container-id-1 div.sk-estimator input.sk-toggleable__control:checked~label.sk-toggleable__label {\n",
       "  /* unfitted */\n",
       "  background-color: var(--sklearn-color-unfitted-level-2);\n",
       "}\n",
       "\n",
       "#sk-container-id-1 div.sk-estimator.fitted input.sk-toggleable__control:checked~label.sk-toggleable__label {\n",
       "  /* fitted */\n",
       "  background-color: var(--sklearn-color-fitted-level-2);\n",
       "}\n",
       "\n",
       "#sk-container-id-1 div.sk-label label.sk-toggleable__label,\n",
       "#sk-container-id-1 div.sk-label label {\n",
       "  /* The background is the default theme color */\n",
       "  color: var(--sklearn-color-text-on-default-background);\n",
       "}\n",
       "\n",
       "/* On hover, darken the color of the background */\n",
       "#sk-container-id-1 div.sk-label:hover label.sk-toggleable__label {\n",
       "  color: var(--sklearn-color-text);\n",
       "  background-color: var(--sklearn-color-unfitted-level-2);\n",
       "}\n",
       "\n",
       "/* Label box, darken color on hover, fitted */\n",
       "#sk-container-id-1 div.sk-label.fitted:hover label.sk-toggleable__label.fitted {\n",
       "  color: var(--sklearn-color-text);\n",
       "  background-color: var(--sklearn-color-fitted-level-2);\n",
       "}\n",
       "\n",
       "/* Estimator label */\n",
       "\n",
       "#sk-container-id-1 div.sk-label label {\n",
       "  font-family: monospace;\n",
       "  font-weight: bold;\n",
       "  display: inline-block;\n",
       "  line-height: 1.2em;\n",
       "}\n",
       "\n",
       "#sk-container-id-1 div.sk-label-container {\n",
       "  text-align: center;\n",
       "}\n",
       "\n",
       "/* Estimator-specific */\n",
       "#sk-container-id-1 div.sk-estimator {\n",
       "  font-family: monospace;\n",
       "  border: 1px dotted var(--sklearn-color-border-box);\n",
       "  border-radius: 0.25em;\n",
       "  box-sizing: border-box;\n",
       "  margin-bottom: 0.5em;\n",
       "  /* unfitted */\n",
       "  background-color: var(--sklearn-color-unfitted-level-0);\n",
       "}\n",
       "\n",
       "#sk-container-id-1 div.sk-estimator.fitted {\n",
       "  /* fitted */\n",
       "  background-color: var(--sklearn-color-fitted-level-0);\n",
       "}\n",
       "\n",
       "/* on hover */\n",
       "#sk-container-id-1 div.sk-estimator:hover {\n",
       "  /* unfitted */\n",
       "  background-color: var(--sklearn-color-unfitted-level-2);\n",
       "}\n",
       "\n",
       "#sk-container-id-1 div.sk-estimator.fitted:hover {\n",
       "  /* fitted */\n",
       "  background-color: var(--sklearn-color-fitted-level-2);\n",
       "}\n",
       "\n",
       "/* Specification for estimator info (e.g. \"i\" and \"?\") */\n",
       "\n",
       "/* Common style for \"i\" and \"?\" */\n",
       "\n",
       ".sk-estimator-doc-link,\n",
       "a:link.sk-estimator-doc-link,\n",
       "a:visited.sk-estimator-doc-link {\n",
       "  float: right;\n",
       "  font-size: smaller;\n",
       "  line-height: 1em;\n",
       "  font-family: monospace;\n",
       "  background-color: var(--sklearn-color-background);\n",
       "  border-radius: 1em;\n",
       "  height: 1em;\n",
       "  width: 1em;\n",
       "  text-decoration: none !important;\n",
       "  margin-left: 0.5em;\n",
       "  text-align: center;\n",
       "  /* unfitted */\n",
       "  border: var(--sklearn-color-unfitted-level-1) 1pt solid;\n",
       "  color: var(--sklearn-color-unfitted-level-1);\n",
       "}\n",
       "\n",
       ".sk-estimator-doc-link.fitted,\n",
       "a:link.sk-estimator-doc-link.fitted,\n",
       "a:visited.sk-estimator-doc-link.fitted {\n",
       "  /* fitted */\n",
       "  border: var(--sklearn-color-fitted-level-1) 1pt solid;\n",
       "  color: var(--sklearn-color-fitted-level-1);\n",
       "}\n",
       "\n",
       "/* On hover */\n",
       "div.sk-estimator:hover .sk-estimator-doc-link:hover,\n",
       ".sk-estimator-doc-link:hover,\n",
       "div.sk-label-container:hover .sk-estimator-doc-link:hover,\n",
       ".sk-estimator-doc-link:hover {\n",
       "  /* unfitted */\n",
       "  background-color: var(--sklearn-color-unfitted-level-3);\n",
       "  color: var(--sklearn-color-background);\n",
       "  text-decoration: none;\n",
       "}\n",
       "\n",
       "div.sk-estimator.fitted:hover .sk-estimator-doc-link.fitted:hover,\n",
       ".sk-estimator-doc-link.fitted:hover,\n",
       "div.sk-label-container:hover .sk-estimator-doc-link.fitted:hover,\n",
       ".sk-estimator-doc-link.fitted:hover {\n",
       "  /* fitted */\n",
       "  background-color: var(--sklearn-color-fitted-level-3);\n",
       "  color: var(--sklearn-color-background);\n",
       "  text-decoration: none;\n",
       "}\n",
       "\n",
       "/* Span, style for the box shown on hovering the info icon */\n",
       ".sk-estimator-doc-link span {\n",
       "  display: none;\n",
       "  z-index: 9999;\n",
       "  position: relative;\n",
       "  font-weight: normal;\n",
       "  right: .2ex;\n",
       "  padding: .5ex;\n",
       "  margin: .5ex;\n",
       "  width: min-content;\n",
       "  min-width: 20ex;\n",
       "  max-width: 50ex;\n",
       "  color: var(--sklearn-color-text);\n",
       "  box-shadow: 2pt 2pt 4pt #999;\n",
       "  /* unfitted */\n",
       "  background: var(--sklearn-color-unfitted-level-0);\n",
       "  border: .5pt solid var(--sklearn-color-unfitted-level-3);\n",
       "}\n",
       "\n",
       ".sk-estimator-doc-link.fitted span {\n",
       "  /* fitted */\n",
       "  background: var(--sklearn-color-fitted-level-0);\n",
       "  border: var(--sklearn-color-fitted-level-3);\n",
       "}\n",
       "\n",
       ".sk-estimator-doc-link:hover span {\n",
       "  display: block;\n",
       "}\n",
       "\n",
       "/* \"?\"-specific style due to the `<a>` HTML tag */\n",
       "\n",
       "#sk-container-id-1 a.estimator_doc_link {\n",
       "  float: right;\n",
       "  font-size: 1rem;\n",
       "  line-height: 1em;\n",
       "  font-family: monospace;\n",
       "  background-color: var(--sklearn-color-background);\n",
       "  border-radius: 1rem;\n",
       "  height: 1rem;\n",
       "  width: 1rem;\n",
       "  text-decoration: none;\n",
       "  /* unfitted */\n",
       "  color: var(--sklearn-color-unfitted-level-1);\n",
       "  border: var(--sklearn-color-unfitted-level-1) 1pt solid;\n",
       "}\n",
       "\n",
       "#sk-container-id-1 a.estimator_doc_link.fitted {\n",
       "  /* fitted */\n",
       "  border: var(--sklearn-color-fitted-level-1) 1pt solid;\n",
       "  color: var(--sklearn-color-fitted-level-1);\n",
       "}\n",
       "\n",
       "/* On hover */\n",
       "#sk-container-id-1 a.estimator_doc_link:hover {\n",
       "  /* unfitted */\n",
       "  background-color: var(--sklearn-color-unfitted-level-3);\n",
       "  color: var(--sklearn-color-background);\n",
       "  text-decoration: none;\n",
       "}\n",
       "\n",
       "#sk-container-id-1 a.estimator_doc_link.fitted:hover {\n",
       "  /* fitted */\n",
       "  background-color: var(--sklearn-color-fitted-level-3);\n",
       "}\n",
       "</style><div id=\"sk-container-id-1\" class=\"sk-top-container\"><div class=\"sk-text-repr-fallback\"><pre>StackingClassifier(estimators=[(&#x27;dt&#x27;, DecisionTreeClassifier(random_state=42)),\n",
       "                               (&#x27;svm&#x27;, SVC(probability=True, random_state=42)),\n",
       "                               (&#x27;logistic&#x27;,\n",
       "                                LogisticRegression(max_iter=200,\n",
       "                                                   random_state=42))],\n",
       "                   final_estimator=LogisticRegression())</pre><b>In a Jupyter environment, please rerun this cell to show the HTML representation or trust the notebook. <br />On GitHub, the HTML representation is unable to render, please try loading this page with nbviewer.org.</b></div><div class=\"sk-container\" hidden><div class=\"sk-item sk-dashed-wrapped\"><div class=\"sk-label-container\"><div class=\"sk-label fitted sk-toggleable\"><input class=\"sk-toggleable__control sk-hidden--visually\" id=\"sk-estimator-id-1\" type=\"checkbox\" ><label for=\"sk-estimator-id-1\" class=\"sk-toggleable__label fitted sk-toggleable__label-arrow\"><div><div>StackingClassifier</div></div><div><a class=\"sk-estimator-doc-link fitted\" rel=\"noreferrer\" target=\"_blank\" href=\"https://scikit-learn.org/1.6/modules/generated/sklearn.ensemble.StackingClassifier.html\">?<span>Documentation for StackingClassifier</span></a><span class=\"sk-estimator-doc-link fitted\">i<span>Fitted</span></span></div></label><div class=\"sk-toggleable__content fitted\"><pre>StackingClassifier(estimators=[(&#x27;dt&#x27;, DecisionTreeClassifier(random_state=42)),\n",
       "                               (&#x27;svm&#x27;, SVC(probability=True, random_state=42)),\n",
       "                               (&#x27;logistic&#x27;,\n",
       "                                LogisticRegression(max_iter=200,\n",
       "                                                   random_state=42))],\n",
       "                   final_estimator=LogisticRegression())</pre></div> </div></div><div class=\"sk-serial\"><div class=\"sk-item\"><div class=\"sk-parallel\"><div class=\"sk-parallel-item\"><div class=\"sk-item\"><div class=\"sk-label-container\"><div class=\"sk-label fitted sk-toggleable\"><label>dt</label></div></div><div class=\"sk-serial\"><div class=\"sk-item\"><div class=\"sk-estimator fitted sk-toggleable\"><input class=\"sk-toggleable__control sk-hidden--visually\" id=\"sk-estimator-id-2\" type=\"checkbox\" ><label for=\"sk-estimator-id-2\" class=\"sk-toggleable__label fitted sk-toggleable__label-arrow\"><div><div>DecisionTreeClassifier</div></div><div><a class=\"sk-estimator-doc-link fitted\" rel=\"noreferrer\" target=\"_blank\" href=\"https://scikit-learn.org/1.6/modules/generated/sklearn.tree.DecisionTreeClassifier.html\">?<span>Documentation for DecisionTreeClassifier</span></a></div></label><div class=\"sk-toggleable__content fitted\"><pre>DecisionTreeClassifier(random_state=42)</pre></div> </div></div></div></div></div><div class=\"sk-parallel-item\"><div class=\"sk-item\"><div class=\"sk-label-container\"><div class=\"sk-label fitted sk-toggleable\"><label>svm</label></div></div><div class=\"sk-serial\"><div class=\"sk-item\"><div class=\"sk-estimator fitted sk-toggleable\"><input class=\"sk-toggleable__control sk-hidden--visually\" id=\"sk-estimator-id-3\" type=\"checkbox\" ><label for=\"sk-estimator-id-3\" class=\"sk-toggleable__label fitted sk-toggleable__label-arrow\"><div><div>SVC</div></div><div><a class=\"sk-estimator-doc-link fitted\" rel=\"noreferrer\" target=\"_blank\" href=\"https://scikit-learn.org/1.6/modules/generated/sklearn.svm.SVC.html\">?<span>Documentation for SVC</span></a></div></label><div class=\"sk-toggleable__content fitted\"><pre>SVC(probability=True, random_state=42)</pre></div> </div></div></div></div></div><div class=\"sk-parallel-item\"><div class=\"sk-item\"><div class=\"sk-label-container\"><div class=\"sk-label fitted sk-toggleable\"><label>logistic</label></div></div><div class=\"sk-serial\"><div class=\"sk-item\"><div class=\"sk-estimator fitted sk-toggleable\"><input class=\"sk-toggleable__control sk-hidden--visually\" id=\"sk-estimator-id-4\" type=\"checkbox\" ><label for=\"sk-estimator-id-4\" class=\"sk-toggleable__label fitted sk-toggleable__label-arrow\"><div><div>LogisticRegression</div></div><div><a class=\"sk-estimator-doc-link fitted\" rel=\"noreferrer\" target=\"_blank\" href=\"https://scikit-learn.org/1.6/modules/generated/sklearn.linear_model.LogisticRegression.html\">?<span>Documentation for LogisticRegression</span></a></div></label><div class=\"sk-toggleable__content fitted\"><pre>LogisticRegression(max_iter=200, random_state=42)</pre></div> </div></div></div></div></div></div></div><div class=\"sk-item\"><div class=\"sk-parallel\"><div class=\"sk-parallel-item\"><div class=\"sk-item\"><div class=\"sk-label-container\"><div class=\"sk-label fitted sk-toggleable\"><label>final_estimator</label></div></div><div class=\"sk-serial\"><div class=\"sk-item\"><div class=\"sk-estimator fitted sk-toggleable\"><input class=\"sk-toggleable__control sk-hidden--visually\" id=\"sk-estimator-id-5\" type=\"checkbox\" ><label for=\"sk-estimator-id-5\" class=\"sk-toggleable__label fitted sk-toggleable__label-arrow\"><div><div>LogisticRegression</div></div><div><a class=\"sk-estimator-doc-link fitted\" rel=\"noreferrer\" target=\"_blank\" href=\"https://scikit-learn.org/1.6/modules/generated/sklearn.linear_model.LogisticRegression.html\">?<span>Documentation for LogisticRegression</span></a></div></label><div class=\"sk-toggleable__content fitted\"><pre>LogisticRegression()</pre></div> </div></div></div></div></div></div></div></div></div></div></div>"
      ],
      "text/plain": [
       "StackingClassifier(estimators=[('dt', DecisionTreeClassifier(random_state=42)),\n",
       "                               ('svm', SVC(probability=True, random_state=42)),\n",
       "                               ('logistic',\n",
       "                                LogisticRegression(max_iter=200,\n",
       "                                                   random_state=42))],\n",
       "                   final_estimator=LogisticRegression())"
      ]
     },
     "execution_count": 63,
     "metadata": {},
     "output_type": "execute_result"
    }
   ],
   "source": [
    "iris = load_iris()\n",
    "X = iris.data\n",
    "y = iris.target\n",
    "X_train, X_test, y_train, y_test = train_test_split(X, y, test_size=0.2, random_state=42)\n",
    "dt_classifier = DecisionTreeClassifier(random_state=42)\n",
    "svm_classifier = SVC(probability=True, random_state=42)\n",
    "logistic_classifier = LogisticRegression(max_iter=200, random_state=42)\n",
    "dt_classifier.fit(X_train, y_train)\n",
    "svm_classifier.fit(X_train, y_train)\n",
    "logistic_classifier.fit(X_train, y_train)\n",
    "stacking_clf = StackingClassifier(\n",
    "    estimators=[('dt', dt_classifier), \n",
    "                ('svm', svm_classifier), \n",
    "                ('logistic', logistic_classifier)],\n",
    "    final_estimator=LogisticRegression()\n",
    ")\n",
    "stacking_clf.fit(X_train, y_train)"
   ]
  },
  {
   "cell_type": "code",
   "execution_count": 64,
   "id": "f419ffb6-50d1-457c-8bef-f80d716dd6fd",
   "metadata": {},
   "outputs": [
    {
     "name": "stdout",
     "output_type": "stream",
     "text": [
      "Accuracy of Decision Tree: 1.0000\n",
      "Accuracy of SVM: 1.0000\n",
      "Accuracy of Logistic Regression: 1.0000\n",
      "Accuracy of Stacking Classifier: 1.0000\n"
     ]
    }
   ],
   "source": [
    "y_pred_dt = dt_classifier.predict(X_test)\n",
    "y_pred_svm = svm_classifier.predict(X_test)\n",
    "y_pred_logistic = logistic_classifier.predict(X_test)\n",
    "y_pred_stacking = stacking_clf.predict(X_test)\n",
    "\n",
    "# Calculate accuracies\n",
    "accuracy_dt = accuracy_score(y_test, y_pred_dt)\n",
    "accuracy_svm = accuracy_score(y_test, y_pred_svm)\n",
    "accuracy_logistic = accuracy_score(y_test, y_pred_logistic)\n",
    "accuracy_stacking = accuracy_score(y_test, y_pred_stacking)\n",
    "\n",
    "# Print accuracies\n",
    "print(f\"Accuracy of Decision Tree: {accuracy_dt:.4f}\")\n",
    "print(f\"Accuracy of SVM: {accuracy_svm:.4f}\")\n",
    "print(f\"Accuracy of Logistic Regression: {accuracy_logistic:.4f}\")\n",
    "print(f\"Accuracy of Stacking Classifier: {accuracy_stacking:.4f}\")"
   ]
  },
  {
   "cell_type": "markdown",
   "id": "9e3d6cbd-4096-43da-925b-d67723ffd521",
   "metadata": {},
   "source": [
    "### 37 Train a Random Forest Classifier and print the top 5 most important features"
   ]
  },
  {
   "cell_type": "code",
   "execution_count": 65,
   "id": "d52d98b5-046c-4589-a000-4c2e83bf1c8e",
   "metadata": {},
   "outputs": [
    {
     "name": "stdout",
     "output_type": "stream",
     "text": [
      "Top 5 Most Important Features:\n",
      "             Feature  Importance\n",
      "2  petal length (cm)    0.439994\n",
      "3   petal width (cm)    0.421522\n",
      "0  sepal length (cm)    0.108098\n",
      "1   sepal width (cm)    0.030387\n"
     ]
    }
   ],
   "source": [
    "iris = load_iris()\n",
    "X = iris.data\n",
    "y = iris.target\n",
    "feature_names = iris.feature_names\n",
    "X_train, X_test, y_train, y_test = train_test_split(X, y, test_size=0.2, random_state=42)\n",
    "rf_classifier = RandomForestClassifier(random_state=42)\n",
    "rf_classifier.fit(X_train, y_train)\n",
    "importances = rf_classifier.feature_importances_\n",
    "feature_importances_df = pd.DataFrame({\n",
    "    'Feature': feature_names,\n",
    "    'Importance': importances\n",
    "})\n",
    "\n",
    "feature_importances_df = feature_importances_df.sort_values(by='Importance', ascending=False)\n",
    "print(\"Top 5 Most Important Features:\")\n",
    "print(feature_importances_df.head(5))\n"
   ]
  },
  {
   "cell_type": "markdown",
   "id": "bf615ea2-e904-42b5-ba55-76a200bdcee9",
   "metadata": {},
   "source": [
    "### 38 Train a Bagging Classifier and evaluate performance using Precision, Recall, and F1-score"
   ]
  },
  {
   "cell_type": "code",
   "execution_count": 66,
   "id": "a5ee7265-98b7-4252-a0f5-9bab7367c2a9",
   "metadata": {},
   "outputs": [
    {
     "name": "stdout",
     "output_type": "stream",
     "text": [
      "Classification Report:\n",
      "              precision    recall  f1-score   support\n",
      "\n",
      "      setosa       1.00      1.00      1.00        10\n",
      "  versicolor       1.00      1.00      1.00         9\n",
      "   virginica       1.00      1.00      1.00        11\n",
      "\n",
      "    accuracy                           1.00        30\n",
      "   macro avg       1.00      1.00      1.00        30\n",
      "weighted avg       1.00      1.00      1.00        30\n",
      "\n"
     ]
    }
   ],
   "source": [
    "iris = load_iris()\n",
    "X = iris.data\n",
    "y = iris.target\n",
    "X_train, X_test, y_train, y_test = train_test_split(X, y, test_size=0.2, random_state=42)\n",
    "base_dt = DecisionTreeClassifier(random_state=42)\n",
    "bagging_clf = BaggingClassifier(estimator=base_dt, n_estimators=50, random_state=42)\n",
    "bagging_clf.fit(X_train, y_train)\n",
    "y_pred = bagging_clf.predict(X_test)\n",
    "print(\"Classification Report:\")\n",
    "print(classification_report(y_test, y_pred, target_names=iris.target_names))"
   ]
  },
  {
   "cell_type": "markdown",
   "id": "830c0035-40ba-4927-86d6-fe301eeb91a5",
   "metadata": {},
   "source": [
    "### 39 Train a Random Forest Classifier and analyze the effect of max_depth on accuracy"
   ]
  },
  {
   "cell_type": "code",
   "execution_count": 68,
   "id": "5d013be8-8608-43e7-9e37-6fc3d45c3b9a",
   "metadata": {},
   "outputs": [
    {
     "name": "stdout",
     "output_type": "stream",
     "text": [
      "Max Depth vs Accuracy:\n"
     ]
    },
    {
     "data": {
      "text/html": [
       "<div>\n",
       "<style scoped>\n",
       "    .dataframe tbody tr th:only-of-type {\n",
       "        vertical-align: middle;\n",
       "    }\n",
       "\n",
       "    .dataframe tbody tr th {\n",
       "        vertical-align: top;\n",
       "    }\n",
       "\n",
       "    .dataframe thead th {\n",
       "        text-align: right;\n",
       "    }\n",
       "</style>\n",
       "<table border=\"1\" class=\"dataframe\">\n",
       "  <thead>\n",
       "    <tr style=\"text-align: right;\">\n",
       "      <th></th>\n",
       "      <th>max_depth</th>\n",
       "      <th>accuracy</th>\n",
       "    </tr>\n",
       "  </thead>\n",
       "  <tbody>\n",
       "    <tr>\n",
       "      <th>0</th>\n",
       "      <td>1</td>\n",
       "      <td>1.0</td>\n",
       "    </tr>\n",
       "    <tr>\n",
       "      <th>1</th>\n",
       "      <td>2</td>\n",
       "      <td>1.0</td>\n",
       "    </tr>\n",
       "    <tr>\n",
       "      <th>2</th>\n",
       "      <td>3</td>\n",
       "      <td>1.0</td>\n",
       "    </tr>\n",
       "    <tr>\n",
       "      <th>3</th>\n",
       "      <td>4</td>\n",
       "      <td>1.0</td>\n",
       "    </tr>\n",
       "    <tr>\n",
       "      <th>4</th>\n",
       "      <td>5</td>\n",
       "      <td>1.0</td>\n",
       "    </tr>\n",
       "    <tr>\n",
       "      <th>5</th>\n",
       "      <td>6</td>\n",
       "      <td>1.0</td>\n",
       "    </tr>\n",
       "    <tr>\n",
       "      <th>6</th>\n",
       "      <td>7</td>\n",
       "      <td>1.0</td>\n",
       "    </tr>\n",
       "    <tr>\n",
       "      <th>7</th>\n",
       "      <td>8</td>\n",
       "      <td>1.0</td>\n",
       "    </tr>\n",
       "    <tr>\n",
       "      <th>8</th>\n",
       "      <td>9</td>\n",
       "      <td>1.0</td>\n",
       "    </tr>\n",
       "    <tr>\n",
       "      <th>9</th>\n",
       "      <td>10</td>\n",
       "      <td>1.0</td>\n",
       "    </tr>\n",
       "  </tbody>\n",
       "</table>\n",
       "</div>"
      ],
      "text/plain": [
       "   max_depth  accuracy\n",
       "0          1       1.0\n",
       "1          2       1.0\n",
       "2          3       1.0\n",
       "3          4       1.0\n",
       "4          5       1.0\n",
       "5          6       1.0\n",
       "6          7       1.0\n",
       "7          8       1.0\n",
       "8          9       1.0\n",
       "9         10       1.0"
      ]
     },
     "execution_count": 68,
     "metadata": {},
     "output_type": "execute_result"
    }
   ],
   "source": [
    "iris = load_iris()\n",
    "X = iris.data\n",
    "y = iris.target\n",
    "X_train, X_test, y_train, y_test = train_test_split(X, y, test_size=0.2, random_state=42)\n",
    "max_depths = list(range(1, 11)) \n",
    "accuracies = []\n",
    "for max_depth in max_depths:\n",
    "    rf_classifier = RandomForestClassifier(max_depth=max_depth, random_state=42)\n",
    "    rf_classifier.fit(X_train, y_train)\n",
    "    y_pred = rf_classifier.predict(X_test)\n",
    "    accuracy = accuracy_score(y_test, y_pred)\n",
    "    accuracies.append(accuracy)\n",
    "results_df = pd.DataFrame({'max_depth': max_depths, 'accuracy': accuracies})\n",
    "print(\"Max Depth vs Accuracy:\")\n",
    "results_df"
   ]
  },
  {
   "cell_type": "markdown",
   "id": "1f9d5a69-cef3-4f64-8010-09d5d83167c9",
   "metadata": {},
   "source": [
    "### 40  Train a Bagging Regressor using different base estimators (DecisionTree and KNeighbors) and compare performance"
   ]
  },
  {
   "cell_type": "code",
   "execution_count": 72,
   "id": "a4c7187d-ca10-4044-b4a6-4d05b6ee73c1",
   "metadata": {},
   "outputs": [],
   "source": [
    "from sklearn.neighbors import KNeighborsRegressor \n",
    "from sklearn.metrics import mean_squared_error"
   ]
  },
  {
   "cell_type": "code",
   "execution_count": 74,
   "id": "1af46a44-3b8c-42e2-ab6a-708f48b9209e",
   "metadata": {},
   "outputs": [
    {
     "data": {
      "text/html": [
       "<div>\n",
       "<style scoped>\n",
       "    .dataframe tbody tr th:only-of-type {\n",
       "        vertical-align: middle;\n",
       "    }\n",
       "\n",
       "    .dataframe tbody tr th {\n",
       "        vertical-align: top;\n",
       "    }\n",
       "\n",
       "    .dataframe thead th {\n",
       "        text-align: right;\n",
       "    }\n",
       "</style>\n",
       "<table border=\"1\" class=\"dataframe\">\n",
       "  <thead>\n",
       "    <tr style=\"text-align: right;\">\n",
       "      <th></th>\n",
       "      <th>Base Estimator</th>\n",
       "      <th>Mean Squared Error</th>\n",
       "    </tr>\n",
       "  </thead>\n",
       "  <tbody>\n",
       "    <tr>\n",
       "      <th>0</th>\n",
       "      <td>DecisionTree</td>\n",
       "      <td>0.003228</td>\n",
       "    </tr>\n",
       "    <tr>\n",
       "      <th>1</th>\n",
       "      <td>KNeighbors</td>\n",
       "      <td>0.031208</td>\n",
       "    </tr>\n",
       "  </tbody>\n",
       "</table>\n",
       "</div>"
      ],
      "text/plain": [
       "  Base Estimator  Mean Squared Error\n",
       "0   DecisionTree            0.003228\n",
       "1     KNeighbors            0.031208"
      ]
     },
     "execution_count": 74,
     "metadata": {},
     "output_type": "execute_result"
    }
   ],
   "source": [
    "iris = load_iris()\n",
    "X = iris.data\n",
    "y = iris.data[:, 2] \n",
    "X_train, X_test, y_train, y_test = train_test_split(X, y, test_size=0.2, random_state=42)\n",
    "base_estimators = {\n",
    "    'DecisionTree': DecisionTreeRegressor(random_state=42),\n",
    "    'KNeighbors': KNeighborsRegressor(n_neighbors=5)\n",
    "}\n",
    "performances = {}\n",
    "for name, estimator in base_estimators.items():\n",
    "    bagging_regressor = BaggingRegressor(estimator=estimator, n_estimators=50, random_state=42)\n",
    "    bagging_regressor.fit(X_train, y_train)\n",
    "    y_pred = bagging_regressor.predict(X_test)\n",
    "    mse = mean_squared_error(y_test, y_pred)\n",
    "    performances[name] = mse\n",
    "results_df = pd.DataFrame(list(performances.items()), columns=['Base Estimator', 'Mean Squared Error'])\n",
    "results_df"
   ]
  },
  {
   "cell_type": "markdown",
   "id": "c2abb420-48f1-4768-b697-106e54cda065",
   "metadata": {},
   "source": [
    "### 41 Train a Random Forest Classifier and evaluate its performance using ROC-AUC Score"
   ]
  },
  {
   "cell_type": "code",
   "execution_count": 75,
   "id": "8ae2b46f-6060-4014-a2b6-9ec6acdfc793",
   "metadata": {},
   "outputs": [
    {
     "name": "stdout",
     "output_type": "stream",
     "text": [
      "ROC AUC Score: 1.0000\n"
     ]
    }
   ],
   "source": [
    "iris = load_iris()\n",
    "X = iris.data\n",
    "y = iris.target\n",
    "y_binary = (y == 0).astype(int) \n",
    "X_train, X_test, y_train, y_test = train_test_split(X, y_binary, test_size=0.2, random_state=42)\n",
    "rf_classifier = RandomForestClassifier(random_state=42)\n",
    "rf_classifier.fit(X_train, y_train)\n",
    "y_proba = rf_classifier.predict_proba(X_test)[:, 1]\n",
    "roc_auc = roc_auc_score(y_test, y_proba)\n",
    "print(f\"ROC AUC Score: {roc_auc:.4f}\")\n",
    "fpr, tpr, thresholds = roc_curve(y_test, y_proba) "
   ]
  },
  {
   "cell_type": "markdown",
   "id": "5891aae2-5dd1-4807-94d8-94d425e6e023",
   "metadata": {},
   "source": [
    "### 42 Train a Bagging Classifier and evaluate its performance using cross-validation."
   ]
  },
  {
   "cell_type": "code",
   "execution_count": 78,
   "id": "9dd4e9ef-720e-442a-a28a-18ca3def6983",
   "metadata": {},
   "outputs": [],
   "source": [
    "from sklearn.model_selection import train_test_split, cross_val_score"
   ]
  },
  {
   "cell_type": "code",
   "execution_count": 79,
   "id": "0b115106-81ae-4b86-be28-e6c5c1da7ffd",
   "metadata": {},
   "outputs": [
    {
     "name": "stdout",
     "output_type": "stream",
     "text": [
      "Cross-Validation Accuracy Scores: [0.96666667 0.96666667 0.93333333 0.96666667 1.        ]\n",
      "Mean Cross-Validation Accuracy: 0.9667\n",
      "Test Set Accuracy: 1.0000\n"
     ]
    }
   ],
   "source": [
    "iris = load_iris()\n",
    "X = iris.data\n",
    "y = iris.target\n",
    "X_train, X_test, y_train, y_test = train_test_split(X, y, test_size=0.2, random_state=42)\n",
    "base_estimator = DecisionTreeClassifier(random_state=42)\n",
    "bagging_classifier = BaggingClassifier(estimator=base_estimator, n_estimators=50, random_state=42)\n",
    "cv_scores = cross_val_score(bagging_classifier, X, y, cv=5)\n",
    "print(f\"Cross-Validation Accuracy Scores: {cv_scores}\")\n",
    "print(f\"Mean Cross-Validation Accuracy: {np.mean(cv_scores):.4f}\")\n",
    "bagging_classifier.fit(X_train, y_train)\n",
    "y_pred = bagging_classifier.predict(X_test)\n",
    "test_accuracy = accuracy_score(y_test, y_pred)\n",
    "print(f\"Test Set Accuracy: {test_accuracy:.4f}\")"
   ]
  },
  {
   "cell_type": "markdown",
   "id": "2e2071d3-65c0-4556-94c0-f39d1aedbac7",
   "metadata": {},
   "source": [
    "### 43 Train a Random Forest Classifier and plot the Precision-Recall curve"
   ]
  },
  {
   "cell_type": "code",
   "execution_count": 81,
   "id": "79c6b5b2-0f94-452b-a5f3-72d97f78a379",
   "metadata": {},
   "outputs": [],
   "source": [
    "from sklearn.metrics import precision_recall_curve"
   ]
  },
  {
   "cell_type": "code",
   "execution_count": 83,
   "id": "610f1a37-85cb-4e0d-a58e-1e749fda3c5c",
   "metadata": {},
   "outputs": [
    {
     "data": {
      "image/png": "[encoded data removed]",
      "text/plain": [
       "<Figure size 640x480 with 1 Axes>"
      ]
     },
     "metadata": {},
     "output_type": "display_data"
    }
   ],
   "source": [
    "iris = load_iris()\n",
    "X = iris.data\n",
    "y = iris.target\n",
    "y_binary = (y == 0).astype(int)\n",
    "X_train, X_test, y_train, y_test = train_test_split(X, y_binary, test_size=0.2, random_state=42)\n",
    "rf_classifier = RandomForestClassifier(random_state=42)\n",
    "rf_classifier.fit(X_train, y_train)\n",
    "y_proba = rf_classifier.predict_proba(X_test)[:, 1]  \n",
    "precision, recall, thresholds = precision_recall_curve(y_test, y_proba)\n",
    "plt.plot(recall, precision, marker='o')\n",
    "plt.title('Precision-Recall Curve')\n",
    "plt.xlabel('Recall')\n",
    "plt.ylabel('Precision')\n",
    "plt.xlim([0.0, 1.0])\n",
    "plt.ylim([0.0, 1.05])\n",
    "plt.grid()\n",
    "plt.show()"
   ]
  },
  {
   "cell_type": "markdown",
   "id": "86dd4c3c-5ac6-467a-93ad-c2fc414a63b9",
   "metadata": {},
   "source": [
    "### 44 Train a Stacking Classifier with Random Forest and Logistic Regression and compare accuracy"
   ]
  },
  {
   "cell_type": "code",
   "execution_count": 84,
   "id": "d611e917-124e-445b-9add-ea4c34c3be82",
   "metadata": {},
   "outputs": [
    {
     "name": "stdout",
     "output_type": "stream",
     "text": [
      "Stacking Classifier Accuracy: 1.0000\n",
      "Random Forest Classifier Accuracy: 1.0000\n",
      "Logistic Regression Classifier Accuracy: 1.0000\n"
     ]
    }
   ],
   "source": [
    "iris = load_iris()\n",
    "X = iris.data\n",
    "y = iris.target\n",
    "X_train, X_test, y_train, y_test = train_test_split(X, y, test_size=0.2, random_state=42)\n",
    "base_estimators = [\n",
    "    ('rf', RandomForestClassifier(random_state=42)),\n",
    "    ('lr', LogisticRegression(max_iter=200, random_state=42))\n",
    "]\n",
    "stacking_classifier = StackingClassifier(estimators=base_estimators, final_estimator=LogisticRegression())\n",
    "stacking_classifier.fit(X_train, y_train)\n",
    "y_pred_stacking = stacking_classifier.predict(X_test)\n",
    "accuracy_stacking = accuracy_score(y_test, y_pred_stacking)\n",
    "rf_classifier = RandomForestClassifier(random_state=42)\n",
    "rf_classifier.fit(X_train, y_train)\n",
    "y_pred_rf = rf_classifier.predict(X_test)\n",
    "accuracy_rf = accuracy_score(y_test, y_pred_rf)\n",
    "lr_classifier = LogisticRegression(max_iter=200, random_state=42)\n",
    "lr_classifier.fit(X_train, y_train)\n",
    "y_pred_lr = lr_classifier.predict(X_test)\n",
    "accuracy_lr = accuracy_score(y_test, y_pred_lr)\n",
    "print(f\"Stacking Classifier Accuracy: {accuracy_stacking:.4f}\")\n",
    "print(f\"Random Forest Classifier Accuracy: {accuracy_rf:.4f}\")\n",
    "print(f\"Logistic Regression Classifier Accuracy: {accuracy_lr:.4f}\")"
   ]
  },
  {
   "cell_type": "markdown",
   "id": "1d721d26-fd39-46f1-bdeb-d72397e5e136",
   "metadata": {},
   "source": [
    "### 45 Train a Bagging Regressor with different levels of bootstrap samples and compare performance"
   ]
  },
  {
   "cell_type": "code",
   "execution_count": 85,
   "id": "735e1799-745a-4d3a-92c4-97ef5f7fbcb7",
   "metadata": {},
   "outputs": [],
   "source": [
    "from sklearn.datasets import load_breast_cancer"
   ]
  },
  {
   "cell_type": "code",
   "execution_count": 87,
   "id": "2df574f8-a414-4e23-937c-d660543e5f43",
   "metadata": {},
   "outputs": [],
   "source": [
    "cancer = load_breast_cancer()\n",
    "X = cancer.data\n",
    "y = cancer.target\n",
    "X_train, X_test, y_train, y_test = train_test_split(X, y, test_size=0.2, random_state=42)\n",
    "results = []\n",
    "bootstrap_fractions = [0.1, 0.5, 1.0]\n",
    "\n",
    "for fraction in bootstrap_fractions:\n",
    "    bagging_classifier = BaggingClassifier(\n",
    "        estimator=DecisionTreeClassifier(),\n",
    "        n_estimators=100,\n",
    "        max_samples=fraction,\n",
    "        random_state=42)\n",
    "    bagging_classifier.fit(X_train, y_train)\n",
    "    y_pred = bagging_classifier.predict(X_test)\n",
    "    accuracy = accuracy_score(y_test, y_pred)\n",
    "    results.append((fraction, accuracy)) "
   ]
  },
  {
   "cell_type": "code",
   "execution_count": 88,
   "id": "7d998698-e209-4045-8104-89fc7482e228",
   "metadata": {},
   "outputs": [
    {
     "name": "stdout",
     "output_type": "stream",
     "text": [
      "Max Samples Fraction: 0.1, Accuracy: 0.9649\n",
      "Max Samples Fraction: 0.5, Accuracy: 0.9561\n",
      "Max Samples Fraction: 1.0, Accuracy: 0.9561\n"
     ]
    }
   ],
   "source": [
    "for fraction, accuracy in results:\n",
    "    print(f\"Max Samples Fraction: {fraction}, Accuracy: {accuracy:.4f}\")"
   ]
  },
  {
   "cell_type": "code",
   "execution_count": null,
   "id": "d5915e08-05b4-4511-aeb2-d832503ef12b",
   "metadata": {},
   "outputs": [],
   "source": []
  }
 ],
 "metadata": {
  "kernelspec": {
   "display_name": "Python 3 (ipykernel)",
   "language": "python",
   "name": "python3"
  },
  "language_info": {
   "codemirror_mode": {
    "name": "ipython",
    "version": 3
   },
   "file_extension": ".py",
   "mimetype": "text/x-python",
   "name": "python",
   "nbconvert_exporter": "python",
   "pygments_lexer": "ipython3",
   "version": "3.13.0"
  }
 },
 "nbformat": 4,
 "nbformat_minor": 5
}
