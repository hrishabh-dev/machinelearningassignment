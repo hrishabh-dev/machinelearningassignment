{
  "nbformat": 4,
  "nbformat_minor": 0,
  "metadata": {
    "colab": {
      "provenance": [],
      "gpuType": "T4",
      "authorship_tag": "ABX9TyMzmv6JtAdZ1+e/hRT3XaYP"
    },
    "kernelspec": {
      "name": "python3",
      "display_name": "Python 3"
    },
    "language_info": {
      "name": "python"
    },
    "accelerator": "GPU"
  },
  "cells": [
    {
      "cell_type": "code",
      "execution_count": 2,
      "metadata": {
        "id": "UBWYjTCwCtPm"
      },
      "outputs": [],
      "source": [
        "import pandas as pd\n",
        "import numpy as np"
      ]
    },
    {
      "cell_type": "code",
      "source": [
        "df=pd.read_csv(\"/content/NCCL Historical Data.csv\")"
      ],
      "metadata": {
        "id": "n4vdSTD5C2WP"
      },
      "execution_count": 3,
      "outputs": []
    },
    {
      "cell_type": "code",
      "source": [
        "df.isna().sum()"
      ],
      "metadata": {
        "colab": {
          "base_uri": "https://localhost:8080/",
          "height": 303
        },
        "id": "v_cGNaPUDr8C",
        "outputId": "597b70ce-e06f-41c5-aac5-0950d7575734"
      },
      "execution_count": 4,
      "outputs": [
        {
          "output_type": "execute_result",
          "data": {
            "text/plain": [
              "Date        0\n",
              "Price       0\n",
              "Open        0\n",
              "High        0\n",
              "Low         0\n",
              "Vol.        1\n",
              "Change %    0\n",
              "dtype: int64"
            ],
            "text/html": [
              "<div>\n",
              "<style scoped>\n",
              "    .dataframe tbody tr th:only-of-type {\n",
              "        vertical-align: middle;\n",
              "    }\n",
              "\n",
              "    .dataframe tbody tr th {\n",
              "        vertical-align: top;\n",
              "    }\n",
              "\n",
              "    .dataframe thead th {\n",
              "        text-align: right;\n",
              "    }\n",
              "</style>\n",
              "<table border=\"1\" class=\"dataframe\">\n",
              "  <thead>\n",
              "    <tr style=\"text-align: right;\">\n",
              "      <th></th>\n",
              "      <th>0</th>\n",
              "    </tr>\n",
              "  </thead>\n",
              "  <tbody>\n",
              "    <tr>\n",
              "      <th>Date</th>\n",
              "      <td>0</td>\n",
              "    </tr>\n",
              "    <tr>\n",
              "      <th>Price</th>\n",
              "      <td>0</td>\n",
              "    </tr>\n",
              "    <tr>\n",
              "      <th>Open</th>\n",
              "      <td>0</td>\n",
              "    </tr>\n",
              "    <tr>\n",
              "      <th>High</th>\n",
              "      <td>0</td>\n",
              "    </tr>\n",
              "    <tr>\n",
              "      <th>Low</th>\n",
              "      <td>0</td>\n",
              "    </tr>\n",
              "    <tr>\n",
              "      <th>Vol.</th>\n",
              "      <td>1</td>\n",
              "    </tr>\n",
              "    <tr>\n",
              "      <th>Change %</th>\n",
              "      <td>0</td>\n",
              "    </tr>\n",
              "  </tbody>\n",
              "</table>\n",
              "</div><br><label><b>dtype:</b> int64</label>"
            ]
          },
          "metadata": {},
          "execution_count": 4
        }
      ]
    },
    {
      "cell_type": "code",
      "source": [
        "df=df[['Price','Open','Low','High']]"
      ],
      "metadata": {
        "id": "DBqlmMsWDut3"
      },
      "execution_count": 5,
      "outputs": []
    },
    {
      "cell_type": "code",
      "source": [
        "df"
      ],
      "metadata": {
        "colab": {
          "base_uri": "https://localhost:8080/",
          "height": 423
        },
        "id": "9ePcaDnoD1AO",
        "outputId": "c91da717-9ece-42e9-c926-86623238da86"
      },
      "execution_count": 6,
      "outputs": [
        {
          "output_type": "execute_result",
          "data": {
            "text/plain": [
              "       Price    Open     Low    High\n",
              "0     229.02  229.00  228.11  230.01\n",
              "1     229.30  226.58  221.89  229.74\n",
              "2     226.58  226.00  223.81  229.10\n",
              "3     231.55  238.00  230.77  238.90\n",
              "4     238.14  239.00  235.87  240.55\n",
              "...      ...     ...     ...     ...\n",
              "4310  212.84  220.28  209.93  220.34\n",
              "4311  216.21  220.34  214.59  224.59\n",
              "4312  224.23  219.67  219.67  227.62\n",
              "4313  217.34  223.40  215.44  227.84\n",
              "4314  224.56  220.34  213.67  227.01\n",
              "\n",
              "[4315 rows x 4 columns]"
            ],
            "text/html": [
              "\n",
              "  <div id=\"df-26ba032c-419d-4eca-8647-427000eeba4f\" class=\"colab-df-container\">\n",
              "    <div>\n",
              "<style scoped>\n",
              "    .dataframe tbody tr th:only-of-type {\n",
              "        vertical-align: middle;\n",
              "    }\n",
              "\n",
              "    .dataframe tbody tr th {\n",
              "        vertical-align: top;\n",
              "    }\n",
              "\n",
              "    .dataframe thead th {\n",
              "        text-align: right;\n",
              "    }\n",
              "</style>\n",
              "<table border=\"1\" class=\"dataframe\">\n",
              "  <thead>\n",
              "    <tr style=\"text-align: right;\">\n",
              "      <th></th>\n",
              "      <th>Price</th>\n",
              "      <th>Open</th>\n",
              "      <th>Low</th>\n",
              "      <th>High</th>\n",
              "    </tr>\n",
              "  </thead>\n",
              "  <tbody>\n",
              "    <tr>\n",
              "      <th>0</th>\n",
              "      <td>229.02</td>\n",
              "      <td>229.00</td>\n",
              "      <td>228.11</td>\n",
              "      <td>230.01</td>\n",
              "    </tr>\n",
              "    <tr>\n",
              "      <th>1</th>\n",
              "      <td>229.30</td>\n",
              "      <td>226.58</td>\n",
              "      <td>221.89</td>\n",
              "      <td>229.74</td>\n",
              "    </tr>\n",
              "    <tr>\n",
              "      <th>2</th>\n",
              "      <td>226.58</td>\n",
              "      <td>226.00</td>\n",
              "      <td>223.81</td>\n",
              "      <td>229.10</td>\n",
              "    </tr>\n",
              "    <tr>\n",
              "      <th>3</th>\n",
              "      <td>231.55</td>\n",
              "      <td>238.00</td>\n",
              "      <td>230.77</td>\n",
              "      <td>238.90</td>\n",
              "    </tr>\n",
              "    <tr>\n",
              "      <th>4</th>\n",
              "      <td>238.14</td>\n",
              "      <td>239.00</td>\n",
              "      <td>235.87</td>\n",
              "      <td>240.55</td>\n",
              "    </tr>\n",
              "    <tr>\n",
              "      <th>...</th>\n",
              "      <td>...</td>\n",
              "      <td>...</td>\n",
              "      <td>...</td>\n",
              "      <td>...</td>\n",
              "    </tr>\n",
              "    <tr>\n",
              "      <th>4310</th>\n",
              "      <td>212.84</td>\n",
              "      <td>220.28</td>\n",
              "      <td>209.93</td>\n",
              "      <td>220.34</td>\n",
              "    </tr>\n",
              "    <tr>\n",
              "      <th>4311</th>\n",
              "      <td>216.21</td>\n",
              "      <td>220.34</td>\n",
              "      <td>214.59</td>\n",
              "      <td>224.59</td>\n",
              "    </tr>\n",
              "    <tr>\n",
              "      <th>4312</th>\n",
              "      <td>224.23</td>\n",
              "      <td>219.67</td>\n",
              "      <td>219.67</td>\n",
              "      <td>227.62</td>\n",
              "    </tr>\n",
              "    <tr>\n",
              "      <th>4313</th>\n",
              "      <td>217.34</td>\n",
              "      <td>223.40</td>\n",
              "      <td>215.44</td>\n",
              "      <td>227.84</td>\n",
              "    </tr>\n",
              "    <tr>\n",
              "      <th>4314</th>\n",
              "      <td>224.56</td>\n",
              "      <td>220.34</td>\n",
              "      <td>213.67</td>\n",
              "      <td>227.01</td>\n",
              "    </tr>\n",
              "  </tbody>\n",
              "</table>\n",
              "<p>4315 rows × 4 columns</p>\n",
              "</div>\n",
              "    <div class=\"colab-df-buttons\">\n",
              "\n",
              "  <div class=\"colab-df-container\">\n",
              "    <button class=\"colab-df-convert\" onclick=\"convertToInteractive('df-26ba032c-419d-4eca-8647-427000eeba4f')\"\n",
              "            title=\"Convert this dataframe to an interactive table.\"\n",
              "            style=\"display:none;\">\n",
              "\n",
              "  <svg xmlns=\"http://www.w3.org/2000/svg\" height=\"24px\" viewBox=\"0 -960 960 960\">\n",
              "    <path d=\"M120-120v-720h720v720H120Zm60-500h600v-160H180v160Zm220 220h160v-160H400v160Zm0 220h160v-160H400v160ZM180-400h160v-160H180v160Zm440 0h160v-160H620v160ZM180-180h160v-160H180v160Zm440 0h160v-160H620v160Z\"/>\n",
              "  </svg>\n",
              "    </button>\n",
              "\n",
              "  <style>\n",
              "    .colab-df-container {\n",
              "      display:flex;\n",
              "      gap: 12px;\n",
              "    }\n",
              "\n",
              "    .colab-df-convert {\n",
              "      background-color: #E8F0FE;\n",
              "      border: none;\n",
              "      border-radius: 50%;\n",
              "      cursor: pointer;\n",
              "      display: none;\n",
              "      fill: #1967D2;\n",
              "      height: 32px;\n",
              "      padding: 0 0 0 0;\n",
              "      width: 32px;\n",
              "    }\n",
              "\n",
              "    .colab-df-convert:hover {\n",
              "      background-color: #E2EBFA;\n",
              "      box-shadow: 0px 1px 2px rgba(60, 64, 67, 0.3), 0px 1px 3px 1px rgba(60, 64, 67, 0.15);\n",
              "      fill: #174EA6;\n",
              "    }\n",
              "\n",
              "    .colab-df-buttons div {\n",
              "      margin-bottom: 4px;\n",
              "    }\n",
              "\n",
              "    [theme=dark] .colab-df-convert {\n",
              "      background-color: #3B4455;\n",
              "      fill: #D2E3FC;\n",
              "    }\n",
              "\n",
              "    [theme=dark] .colab-df-convert:hover {\n",
              "      background-color: #434B5C;\n",
              "      box-shadow: 0px 1px 3px 1px rgba(0, 0, 0, 0.15);\n",
              "      filter: drop-shadow(0px 1px 2px rgba(0, 0, 0, 0.3));\n",
              "      fill: #FFFFFF;\n",
              "    }\n",
              "  </style>\n",
              "\n",
              "    <script>\n",
              "      const buttonEl =\n",
              "        document.querySelector('#df-26ba032c-419d-4eca-8647-427000eeba4f button.colab-df-convert');\n",
              "      buttonEl.style.display =\n",
              "        google.colab.kernel.accessAllowed ? 'block' : 'none';\n",
              "\n",
              "      async function convertToInteractive(key) {\n",
              "        const element = document.querySelector('#df-26ba032c-419d-4eca-8647-427000eeba4f');\n",
              "        const dataTable =\n",
              "          await google.colab.kernel.invokeFunction('convertToInteractive',\n",
              "                                                    [key], {});\n",
              "        if (!dataTable) return;\n",
              "\n",
              "        const docLinkHtml = 'Like what you see? Visit the ' +\n",
              "          '<a target=\"_blank\" href=https://colab.research.google.com/notebooks/data_table.ipynb>data table notebook</a>'\n",
              "          + ' to learn more about interactive tables.';\n",
              "        element.innerHTML = '';\n",
              "        dataTable['output_type'] = 'display_data';\n",
              "        await google.colab.output.renderOutput(dataTable, element);\n",
              "        const docLink = document.createElement('div');\n",
              "        docLink.innerHTML = docLinkHtml;\n",
              "        element.appendChild(docLink);\n",
              "      }\n",
              "    </script>\n",
              "  </div>\n",
              "\n",
              "\n",
              "    <div id=\"df-f21adc08-dce6-4893-9e44-71f9d42d531f\">\n",
              "      <button class=\"colab-df-quickchart\" onclick=\"quickchart('df-f21adc08-dce6-4893-9e44-71f9d42d531f')\"\n",
              "                title=\"Suggest charts\"\n",
              "                style=\"display:none;\">\n",
              "\n",
              "<svg xmlns=\"http://www.w3.org/2000/svg\" height=\"24px\"viewBox=\"0 0 24 24\"\n",
              "     width=\"24px\">\n",
              "    <g>\n",
              "        <path d=\"M19 3H5c-1.1 0-2 .9-2 2v14c0 1.1.9 2 2 2h14c1.1 0 2-.9 2-2V5c0-1.1-.9-2-2-2zM9 17H7v-7h2v7zm4 0h-2V7h2v10zm4 0h-2v-4h2v4z\"/>\n",
              "    </g>\n",
              "</svg>\n",
              "      </button>\n",
              "\n",
              "<style>\n",
              "  .colab-df-quickchart {\n",
              "      --bg-color: #E8F0FE;\n",
              "      --fill-color: #1967D2;\n",
              "      --hover-bg-color: #E2EBFA;\n",
              "      --hover-fill-color: #174EA6;\n",
              "      --disabled-fill-color: #AAA;\n",
              "      --disabled-bg-color: #DDD;\n",
              "  }\n",
              "\n",
              "  [theme=dark] .colab-df-quickchart {\n",
              "      --bg-color: #3B4455;\n",
              "      --fill-color: #D2E3FC;\n",
              "      --hover-bg-color: #434B5C;\n",
              "      --hover-fill-color: #FFFFFF;\n",
              "      --disabled-bg-color: #3B4455;\n",
              "      --disabled-fill-color: #666;\n",
              "  }\n",
              "\n",
              "  .colab-df-quickchart {\n",
              "    background-color: var(--bg-color);\n",
              "    border: none;\n",
              "    border-radius: 50%;\n",
              "    cursor: pointer;\n",
              "    display: none;\n",
              "    fill: var(--fill-color);\n",
              "    height: 32px;\n",
              "    padding: 0;\n",
              "    width: 32px;\n",
              "  }\n",
              "\n",
              "  .colab-df-quickchart:hover {\n",
              "    background-color: var(--hover-bg-color);\n",
              "    box-shadow: 0 1px 2px rgba(60, 64, 67, 0.3), 0 1px 3px 1px rgba(60, 64, 67, 0.15);\n",
              "    fill: var(--button-hover-fill-color);\n",
              "  }\n",
              "\n",
              "  .colab-df-quickchart-complete:disabled,\n",
              "  .colab-df-quickchart-complete:disabled:hover {\n",
              "    background-color: var(--disabled-bg-color);\n",
              "    fill: var(--disabled-fill-color);\n",
              "    box-shadow: none;\n",
              "  }\n",
              "\n",
              "  .colab-df-spinner {\n",
              "    border: 2px solid var(--fill-color);\n",
              "    border-color: transparent;\n",
              "    border-bottom-color: var(--fill-color);\n",
              "    animation:\n",
              "      spin 1s steps(1) infinite;\n",
              "  }\n",
              "\n",
              "  @keyframes spin {\n",
              "    0% {\n",
              "      border-color: transparent;\n",
              "      border-bottom-color: var(--fill-color);\n",
              "      border-left-color: var(--fill-color);\n",
              "    }\n",
              "    20% {\n",
              "      border-color: transparent;\n",
              "      border-left-color: var(--fill-color);\n",
              "      border-top-color: var(--fill-color);\n",
              "    }\n",
              "    30% {\n",
              "      border-color: transparent;\n",
              "      border-left-color: var(--fill-color);\n",
              "      border-top-color: var(--fill-color);\n",
              "      border-right-color: var(--fill-color);\n",
              "    }\n",
              "    40% {\n",
              "      border-color: transparent;\n",
              "      border-right-color: var(--fill-color);\n",
              "      border-top-color: var(--fill-color);\n",
              "    }\n",
              "    60% {\n",
              "      border-color: transparent;\n",
              "      border-right-color: var(--fill-color);\n",
              "    }\n",
              "    80% {\n",
              "      border-color: transparent;\n",
              "      border-right-color: var(--fill-color);\n",
              "      border-bottom-color: var(--fill-color);\n",
              "    }\n",
              "    90% {\n",
              "      border-color: transparent;\n",
              "      border-bottom-color: var(--fill-color);\n",
              "    }\n",
              "  }\n",
              "</style>\n",
              "\n",
              "      <script>\n",
              "        async function quickchart(key) {\n",
              "          const quickchartButtonEl =\n",
              "            document.querySelector('#' + key + ' button');\n",
              "          quickchartButtonEl.disabled = true;  // To prevent multiple clicks.\n",
              "          quickchartButtonEl.classList.add('colab-df-spinner');\n",
              "          try {\n",
              "            const charts = await google.colab.kernel.invokeFunction(\n",
              "                'suggestCharts', [key], {});\n",
              "          } catch (error) {\n",
              "            console.error('Error during call to suggestCharts:', error);\n",
              "          }\n",
              "          quickchartButtonEl.classList.remove('colab-df-spinner');\n",
              "          quickchartButtonEl.classList.add('colab-df-quickchart-complete');\n",
              "        }\n",
              "        (() => {\n",
              "          let quickchartButtonEl =\n",
              "            document.querySelector('#df-f21adc08-dce6-4893-9e44-71f9d42d531f button');\n",
              "          quickchartButtonEl.style.display =\n",
              "            google.colab.kernel.accessAllowed ? 'block' : 'none';\n",
              "        })();\n",
              "      </script>\n",
              "    </div>\n",
              "\n",
              "  <div id=\"id_e5b47966-7b8a-4e0b-b8ed-6d50b9b27eec\">\n",
              "    <style>\n",
              "      .colab-df-generate {\n",
              "        background-color: #E8F0FE;\n",
              "        border: none;\n",
              "        border-radius: 50%;\n",
              "        cursor: pointer;\n",
              "        display: none;\n",
              "        fill: #1967D2;\n",
              "        height: 32px;\n",
              "        padding: 0 0 0 0;\n",
              "        width: 32px;\n",
              "      }\n",
              "\n",
              "      .colab-df-generate:hover {\n",
              "        background-color: #E2EBFA;\n",
              "        box-shadow: 0px 1px 2px rgba(60, 64, 67, 0.3), 0px 1px 3px 1px rgba(60, 64, 67, 0.15);\n",
              "        fill: #174EA6;\n",
              "      }\n",
              "\n",
              "      [theme=dark] .colab-df-generate {\n",
              "        background-color: #3B4455;\n",
              "        fill: #D2E3FC;\n",
              "      }\n",
              "\n",
              "      [theme=dark] .colab-df-generate:hover {\n",
              "        background-color: #434B5C;\n",
              "        box-shadow: 0px 1px 3px 1px rgba(0, 0, 0, 0.15);\n",
              "        filter: drop-shadow(0px 1px 2px rgba(0, 0, 0, 0.3));\n",
              "        fill: #FFFFFF;\n",
              "      }\n",
              "    </style>\n",
              "    <button class=\"colab-df-generate\" onclick=\"generateWithVariable('df')\"\n",
              "            title=\"Generate code using this dataframe.\"\n",
              "            style=\"display:none;\">\n",
              "\n",
              "  <svg xmlns=\"http://www.w3.org/2000/svg\" height=\"24px\"viewBox=\"0 0 24 24\"\n",
              "       width=\"24px\">\n",
              "    <path d=\"M7,19H8.4L18.45,9,17,7.55,7,17.6ZM5,21V16.75L18.45,3.32a2,2,0,0,1,2.83,0l1.4,1.43a1.91,1.91,0,0,1,.58,1.4,1.91,1.91,0,0,1-.58,1.4L9.25,21ZM18.45,9,17,7.55Zm-12,3A5.31,5.31,0,0,0,4.9,8.1,5.31,5.31,0,0,0,1,6.5,5.31,5.31,0,0,0,4.9,4.9,5.31,5.31,0,0,0,6.5,1,5.31,5.31,0,0,0,8.1,4.9,5.31,5.31,0,0,0,12,6.5,5.46,5.46,0,0,0,6.5,12Z\"/>\n",
              "  </svg>\n",
              "    </button>\n",
              "    <script>\n",
              "      (() => {\n",
              "      const buttonEl =\n",
              "        document.querySelector('#id_e5b47966-7b8a-4e0b-b8ed-6d50b9b27eec button.colab-df-generate');\n",
              "      buttonEl.style.display =\n",
              "        google.colab.kernel.accessAllowed ? 'block' : 'none';\n",
              "\n",
              "      buttonEl.onclick = () => {\n",
              "        google.colab.notebook.generateWithVariable('df');\n",
              "      }\n",
              "      })();\n",
              "    </script>\n",
              "  </div>\n",
              "\n",
              "    </div>\n",
              "  </div>\n"
            ],
            "application/vnd.google.colaboratory.intrinsic+json": {
              "type": "dataframe",
              "variable_name": "df",
              "summary": "{\n  \"name\": \"df\",\n  \"rows\": 4315,\n  \"fields\": [\n    {\n      \"column\": \"Price\",\n      \"properties\": {\n        \"dtype\": \"number\",\n        \"std\": 64.44766739369062,\n        \"min\": 10.28,\n        \"max\": 357.95,\n        \"num_unique_values\": 2711,\n        \"samples\": [\n          149.98,\n          29.07,\n          108.5\n        ],\n        \"semantic_type\": \"\",\n        \"description\": \"\"\n      }\n    },\n    {\n      \"column\": \"Open\",\n      \"properties\": {\n        \"dtype\": \"number\",\n        \"std\": 64.61633511259977,\n        \"min\": 10.4,\n        \"max\": 359.6,\n        \"num_unique_values\": 2540,\n        \"samples\": [\n          41.83,\n          301.0,\n          22.28\n        ],\n        \"semantic_type\": \"\",\n        \"description\": \"\"\n      }\n    },\n    {\n      \"column\": \"Low\",\n      \"properties\": {\n        \"dtype\": \"number\",\n        \"std\": 63.331620685596555,\n        \"min\": 10.1,\n        \"max\": 344.55,\n        \"num_unique_values\": 2599,\n        \"samples\": [\n          42.38,\n          316.4,\n          294.5\n        ],\n        \"semantic_type\": \"\",\n        \"description\": \"\"\n      }\n    },\n    {\n      \"column\": \"High\",\n      \"properties\": {\n        \"dtype\": \"number\",\n        \"std\": 65.73264642867869,\n        \"min\": 10.56,\n        \"max\": 364.5,\n        \"num_unique_values\": 2622,\n        \"samples\": [\n          101.2,\n          187.5,\n          48.14\n        ],\n        \"semantic_type\": \"\",\n        \"description\": \"\"\n      }\n    }\n  ]\n}"
            }
          },
          "metadata": {},
          "execution_count": 6
        }
      ]
    },
    {
      "cell_type": "code",
      "source": [],
      "metadata": {
        "id": "weZeaLeMD1fD"
      },
      "execution_count": null,
      "outputs": []
    },
    {
      "cell_type": "markdown",
      "metadata": {
        "id": "fec8d5e0"
      },
      "source": [
        "# Task\n",
        "Predict the 'low' price based on 'price', 'open', and 'high' from the dataset \"stock_price.csv\"."
      ]
    },
    {
      "cell_type": "markdown",
      "metadata": {
        "id": "1e9f402c"
      },
      "source": [
        "## Prepare the data\n",
        "\n",
        "### Subtask:\n",
        "Define the features (X) and target (y) variables.\n"
      ]
    },
    {
      "cell_type": "markdown",
      "metadata": {
        "id": "9b403ee0"
      },
      "source": [
        "**Reasoning**:\n",
        "Define the features (X) and target (y) variables as instructed.\n",
        "\n"
      ]
    },
    {
      "cell_type": "code",
      "metadata": {
        "id": "7dcc5b9c"
      },
      "source": [
        "X = df[['Price', 'Open', 'High']]\n",
        "y = df['Low']"
      ],
      "execution_count": 7,
      "outputs": []
    },
    {
      "cell_type": "markdown",
      "metadata": {
        "id": "b27a2f3b"
      },
      "source": [
        "## Split the data\n",
        "\n",
        "### Subtask:\n",
        "Split the data into training and testing sets.\n"
      ]
    },
    {
      "cell_type": "markdown",
      "metadata": {
        "id": "0a6b2e04"
      },
      "source": [
        "**Reasoning**:\n",
        "Split the data into training and testing sets using train_test_split.\n",
        "\n"
      ]
    },
    {
      "cell_type": "code",
      "metadata": {
        "id": "1f194979"
      },
      "source": [
        "from sklearn.model_selection import train_test_split\n",
        "\n",
        "X_train, X_test, y_train, y_test = train_test_split(X, y, test_size=0.2, random_state=42)"
      ],
      "execution_count": 8,
      "outputs": []
    },
    {
      "cell_type": "markdown",
      "metadata": {
        "id": "a8f98dec"
      },
      "source": [
        "## Train the model\n",
        "\n",
        "### Subtask:\n",
        "Train a regression model on the training data.\n"
      ]
    },
    {
      "cell_type": "markdown",
      "metadata": {
        "id": "ddda0afc"
      },
      "source": [
        "**Reasoning**:\n",
        "Import and train a Linear Regression model on the training data.\n",
        "\n"
      ]
    },
    {
      "cell_type": "code",
      "metadata": {
        "colab": {
          "base_uri": "https://localhost:8080/",
          "height": 80
        },
        "id": "2c5b2c88",
        "outputId": "f3fb5473-f754-4093-d663-d0636b26d21f"
      },
      "source": [
        "from sklearn.linear_model import LinearRegression\n",
        "\n",
        "model = LinearRegression()\n",
        "model.fit(X_train, y_train)"
      ],
      "execution_count": 9,
      "outputs": [
        {
          "output_type": "execute_result",
          "data": {
            "text/plain": [
              "LinearRegression()"
            ],
            "text/html": [
              "<style>#sk-container-id-1 {\n",
              "  /* Definition of color scheme common for light and dark mode */\n",
              "  --sklearn-color-text: #000;\n",
              "  --sklearn-color-text-muted: #666;\n",
              "  --sklearn-color-line: gray;\n",
              "  /* Definition of color scheme for unfitted estimators */\n",
              "  --sklearn-color-unfitted-level-0: #fff5e6;\n",
              "  --sklearn-color-unfitted-level-1: #f6e4d2;\n",
              "  --sklearn-color-unfitted-level-2: #ffe0b3;\n",
              "  --sklearn-color-unfitted-level-3: chocolate;\n",
              "  /* Definition of color scheme for fitted estimators */\n",
              "  --sklearn-color-fitted-level-0: #f0f8ff;\n",
              "  --sklearn-color-fitted-level-1: #d4ebff;\n",
              "  --sklearn-color-fitted-level-2: #b3dbfd;\n",
              "  --sklearn-color-fitted-level-3: cornflowerblue;\n",
              "\n",
              "  /* Specific color for light theme */\n",
              "  --sklearn-color-text-on-default-background: var(--sg-text-color, var(--theme-code-foreground, var(--jp-content-font-color1, black)));\n",
              "  --sklearn-color-background: var(--sg-background-color, var(--theme-background, var(--jp-layout-color0, white)));\n",
              "  --sklearn-color-border-box: var(--sg-text-color, var(--theme-code-foreground, var(--jp-content-font-color1, black)));\n",
              "  --sklearn-color-icon: #696969;\n",
              "\n",
              "  @media (prefers-color-scheme: dark) {\n",
              "    /* Redefinition of color scheme for dark theme */\n",
              "    --sklearn-color-text-on-default-background: var(--sg-text-color, var(--theme-code-foreground, var(--jp-content-font-color1, white)));\n",
              "    --sklearn-color-background: var(--sg-background-color, var(--theme-background, var(--jp-layout-color0, #111)));\n",
              "    --sklearn-color-border-box: var(--sg-text-color, var(--theme-code-foreground, var(--jp-content-font-color1, white)));\n",
              "    --sklearn-color-icon: #878787;\n",
              "  }\n",
              "}\n",
              "\n",
              "#sk-container-id-1 {\n",
              "  color: var(--sklearn-color-text);\n",
              "}\n",
              "\n",
              "#sk-container-id-1 pre {\n",
              "  padding: 0;\n",
              "}\n",
              "\n",
              "#sk-container-id-1 input.sk-hidden--visually {\n",
              "  border: 0;\n",
              "  clip: rect(1px 1px 1px 1px);\n",
              "  clip: rect(1px, 1px, 1px, 1px);\n",
              "  height: 1px;\n",
              "  margin: -1px;\n",
              "  overflow: hidden;\n",
              "  padding: 0;\n",
              "  position: absolute;\n",
              "  width: 1px;\n",
              "}\n",
              "\n",
              "#sk-container-id-1 div.sk-dashed-wrapped {\n",
              "  border: 1px dashed var(--sklearn-color-line);\n",
              "  margin: 0 0.4em 0.5em 0.4em;\n",
              "  box-sizing: border-box;\n",
              "  padding-bottom: 0.4em;\n",
              "  background-color: var(--sklearn-color-background);\n",
              "}\n",
              "\n",
              "#sk-container-id-1 div.sk-container {\n",
              "  /* jupyter's `normalize.less` sets `[hidden] { display: none; }`\n",
              "     but bootstrap.min.css set `[hidden] { display: none !important; }`\n",
              "     so we also need the `!important` here to be able to override the\n",
              "     default hidden behavior on the sphinx rendered scikit-learn.org.\n",
              "     See: https://github.com/scikit-learn/scikit-learn/issues/21755 */\n",
              "  display: inline-block !important;\n",
              "  position: relative;\n",
              "}\n",
              "\n",
              "#sk-container-id-1 div.sk-text-repr-fallback {\n",
              "  display: none;\n",
              "}\n",
              "\n",
              "div.sk-parallel-item,\n",
              "div.sk-serial,\n",
              "div.sk-item {\n",
              "  /* draw centered vertical line to link estimators */\n",
              "  background-image: linear-gradient(var(--sklearn-color-text-on-default-background), var(--sklearn-color-text-on-default-background));\n",
              "  background-size: 2px 100%;\n",
              "  background-repeat: no-repeat;\n",
              "  background-position: center center;\n",
              "}\n",
              "\n",
              "/* Parallel-specific style estimator block */\n",
              "\n",
              "#sk-container-id-1 div.sk-parallel-item::after {\n",
              "  content: \"\";\n",
              "  width: 100%;\n",
              "  border-bottom: 2px solid var(--sklearn-color-text-on-default-background);\n",
              "  flex-grow: 1;\n",
              "}\n",
              "\n",
              "#sk-container-id-1 div.sk-parallel {\n",
              "  display: flex;\n",
              "  align-items: stretch;\n",
              "  justify-content: center;\n",
              "  background-color: var(--sklearn-color-background);\n",
              "  position: relative;\n",
              "}\n",
              "\n",
              "#sk-container-id-1 div.sk-parallel-item {\n",
              "  display: flex;\n",
              "  flex-direction: column;\n",
              "}\n",
              "\n",
              "#sk-container-id-1 div.sk-parallel-item:first-child::after {\n",
              "  align-self: flex-end;\n",
              "  width: 50%;\n",
              "}\n",
              "\n",
              "#sk-container-id-1 div.sk-parallel-item:last-child::after {\n",
              "  align-self: flex-start;\n",
              "  width: 50%;\n",
              "}\n",
              "\n",
              "#sk-container-id-1 div.sk-parallel-item:only-child::after {\n",
              "  width: 0;\n",
              "}\n",
              "\n",
              "/* Serial-specific style estimator block */\n",
              "\n",
              "#sk-container-id-1 div.sk-serial {\n",
              "  display: flex;\n",
              "  flex-direction: column;\n",
              "  align-items: center;\n",
              "  background-color: var(--sklearn-color-background);\n",
              "  padding-right: 1em;\n",
              "  padding-left: 1em;\n",
              "}\n",
              "\n",
              "\n",
              "/* Toggleable style: style used for estimator/Pipeline/ColumnTransformer box that is\n",
              "clickable and can be expanded/collapsed.\n",
              "- Pipeline and ColumnTransformer use this feature and define the default style\n",
              "- Estimators will overwrite some part of the style using the `sk-estimator` class\n",
              "*/\n",
              "\n",
              "/* Pipeline and ColumnTransformer style (default) */\n",
              "\n",
              "#sk-container-id-1 div.sk-toggleable {\n",
              "  /* Default theme specific background. It is overwritten whether we have a\n",
              "  specific estimator or a Pipeline/ColumnTransformer */\n",
              "  background-color: var(--sklearn-color-background);\n",
              "}\n",
              "\n",
              "/* Toggleable label */\n",
              "#sk-container-id-1 label.sk-toggleable__label {\n",
              "  cursor: pointer;\n",
              "  display: flex;\n",
              "  width: 100%;\n",
              "  margin-bottom: 0;\n",
              "  padding: 0.5em;\n",
              "  box-sizing: border-box;\n",
              "  text-align: center;\n",
              "  align-items: start;\n",
              "  justify-content: space-between;\n",
              "  gap: 0.5em;\n",
              "}\n",
              "\n",
              "#sk-container-id-1 label.sk-toggleable__label .caption {\n",
              "  font-size: 0.6rem;\n",
              "  font-weight: lighter;\n",
              "  color: var(--sklearn-color-text-muted);\n",
              "}\n",
              "\n",
              "#sk-container-id-1 label.sk-toggleable__label-arrow:before {\n",
              "  /* Arrow on the left of the label */\n",
              "  content: \"▸\";\n",
              "  float: left;\n",
              "  margin-right: 0.25em;\n",
              "  color: var(--sklearn-color-icon);\n",
              "}\n",
              "\n",
              "#sk-container-id-1 label.sk-toggleable__label-arrow:hover:before {\n",
              "  color: var(--sklearn-color-text);\n",
              "}\n",
              "\n",
              "/* Toggleable content - dropdown */\n",
              "\n",
              "#sk-container-id-1 div.sk-toggleable__content {\n",
              "  max-height: 0;\n",
              "  max-width: 0;\n",
              "  overflow: hidden;\n",
              "  text-align: left;\n",
              "  /* unfitted */\n",
              "  background-color: var(--sklearn-color-unfitted-level-0);\n",
              "}\n",
              "\n",
              "#sk-container-id-1 div.sk-toggleable__content.fitted {\n",
              "  /* fitted */\n",
              "  background-color: var(--sklearn-color-fitted-level-0);\n",
              "}\n",
              "\n",
              "#sk-container-id-1 div.sk-toggleable__content pre {\n",
              "  margin: 0.2em;\n",
              "  border-radius: 0.25em;\n",
              "  color: var(--sklearn-color-text);\n",
              "  /* unfitted */\n",
              "  background-color: var(--sklearn-color-unfitted-level-0);\n",
              "}\n",
              "\n",
              "#sk-container-id-1 div.sk-toggleable__content.fitted pre {\n",
              "  /* unfitted */\n",
              "  background-color: var(--sklearn-color-fitted-level-0);\n",
              "}\n",
              "\n",
              "#sk-container-id-1 input.sk-toggleable__control:checked~div.sk-toggleable__content {\n",
              "  /* Expand drop-down */\n",
              "  max-height: 200px;\n",
              "  max-width: 100%;\n",
              "  overflow: auto;\n",
              "}\n",
              "\n",
              "#sk-container-id-1 input.sk-toggleable__control:checked~label.sk-toggleable__label-arrow:before {\n",
              "  content: \"▾\";\n",
              "}\n",
              "\n",
              "/* Pipeline/ColumnTransformer-specific style */\n",
              "\n",
              "#sk-container-id-1 div.sk-label input.sk-toggleable__control:checked~label.sk-toggleable__label {\n",
              "  color: var(--sklearn-color-text);\n",
              "  background-color: var(--sklearn-color-unfitted-level-2);\n",
              "}\n",
              "\n",
              "#sk-container-id-1 div.sk-label.fitted input.sk-toggleable__control:checked~label.sk-toggleable__label {\n",
              "  background-color: var(--sklearn-color-fitted-level-2);\n",
              "}\n",
              "\n",
              "/* Estimator-specific style */\n",
              "\n",
              "/* Colorize estimator box */\n",
              "#sk-container-id-1 div.sk-estimator input.sk-toggleable__control:checked~label.sk-toggleable__label {\n",
              "  /* unfitted */\n",
              "  background-color: var(--sklearn-color-unfitted-level-2);\n",
              "}\n",
              "\n",
              "#sk-container-id-1 div.sk-estimator.fitted input.sk-toggleable__control:checked~label.sk-toggleable__label {\n",
              "  /* fitted */\n",
              "  background-color: var(--sklearn-color-fitted-level-2);\n",
              "}\n",
              "\n",
              "#sk-container-id-1 div.sk-label label.sk-toggleable__label,\n",
              "#sk-container-id-1 div.sk-label label {\n",
              "  /* The background is the default theme color */\n",
              "  color: var(--sklearn-color-text-on-default-background);\n",
              "}\n",
              "\n",
              "/* On hover, darken the color of the background */\n",
              "#sk-container-id-1 div.sk-label:hover label.sk-toggleable__label {\n",
              "  color: var(--sklearn-color-text);\n",
              "  background-color: var(--sklearn-color-unfitted-level-2);\n",
              "}\n",
              "\n",
              "/* Label box, darken color on hover, fitted */\n",
              "#sk-container-id-1 div.sk-label.fitted:hover label.sk-toggleable__label.fitted {\n",
              "  color: var(--sklearn-color-text);\n",
              "  background-color: var(--sklearn-color-fitted-level-2);\n",
              "}\n",
              "\n",
              "/* Estimator label */\n",
              "\n",
              "#sk-container-id-1 div.sk-label label {\n",
              "  font-family: monospace;\n",
              "  font-weight: bold;\n",
              "  display: inline-block;\n",
              "  line-height: 1.2em;\n",
              "}\n",
              "\n",
              "#sk-container-id-1 div.sk-label-container {\n",
              "  text-align: center;\n",
              "}\n",
              "\n",
              "/* Estimator-specific */\n",
              "#sk-container-id-1 div.sk-estimator {\n",
              "  font-family: monospace;\n",
              "  border: 1px dotted var(--sklearn-color-border-box);\n",
              "  border-radius: 0.25em;\n",
              "  box-sizing: border-box;\n",
              "  margin-bottom: 0.5em;\n",
              "  /* unfitted */\n",
              "  background-color: var(--sklearn-color-unfitted-level-0);\n",
              "}\n",
              "\n",
              "#sk-container-id-1 div.sk-estimator.fitted {\n",
              "  /* fitted */\n",
              "  background-color: var(--sklearn-color-fitted-level-0);\n",
              "}\n",
              "\n",
              "/* on hover */\n",
              "#sk-container-id-1 div.sk-estimator:hover {\n",
              "  /* unfitted */\n",
              "  background-color: var(--sklearn-color-unfitted-level-2);\n",
              "}\n",
              "\n",
              "#sk-container-id-1 div.sk-estimator.fitted:hover {\n",
              "  /* fitted */\n",
              "  background-color: var(--sklearn-color-fitted-level-2);\n",
              "}\n",
              "\n",
              "/* Specification for estimator info (e.g. \"i\" and \"?\") */\n",
              "\n",
              "/* Common style for \"i\" and \"?\" */\n",
              "\n",
              ".sk-estimator-doc-link,\n",
              "a:link.sk-estimator-doc-link,\n",
              "a:visited.sk-estimator-doc-link {\n",
              "  float: right;\n",
              "  font-size: smaller;\n",
              "  line-height: 1em;\n",
              "  font-family: monospace;\n",
              "  background-color: var(--sklearn-color-background);\n",
              "  border-radius: 1em;\n",
              "  height: 1em;\n",
              "  width: 1em;\n",
              "  text-decoration: none !important;\n",
              "  margin-left: 0.5em;\n",
              "  text-align: center;\n",
              "  /* unfitted */\n",
              "  border: var(--sklearn-color-unfitted-level-1) 1pt solid;\n",
              "  color: var(--sklearn-color-unfitted-level-1);\n",
              "}\n",
              "\n",
              ".sk-estimator-doc-link.fitted,\n",
              "a:link.sk-estimator-doc-link.fitted,\n",
              "a:visited.sk-estimator-doc-link.fitted {\n",
              "  /* fitted */\n",
              "  border: var(--sklearn-color-fitted-level-1) 1pt solid;\n",
              "  color: var(--sklearn-color-fitted-level-1);\n",
              "}\n",
              "\n",
              "/* On hover */\n",
              "div.sk-estimator:hover .sk-estimator-doc-link:hover,\n",
              ".sk-estimator-doc-link:hover,\n",
              "div.sk-label-container:hover .sk-estimator-doc-link:hover,\n",
              ".sk-estimator-doc-link:hover {\n",
              "  /* unfitted */\n",
              "  background-color: var(--sklearn-color-unfitted-level-3);\n",
              "  color: var(--sklearn-color-background);\n",
              "  text-decoration: none;\n",
              "}\n",
              "\n",
              "div.sk-estimator.fitted:hover .sk-estimator-doc-link.fitted:hover,\n",
              ".sk-estimator-doc-link.fitted:hover,\n",
              "div.sk-label-container:hover .sk-estimator-doc-link.fitted:hover,\n",
              ".sk-estimator-doc-link.fitted:hover {\n",
              "  /* fitted */\n",
              "  background-color: var(--sklearn-color-fitted-level-3);\n",
              "  color: var(--sklearn-color-background);\n",
              "  text-decoration: none;\n",
              "}\n",
              "\n",
              "/* Span, style for the box shown on hovering the info icon */\n",
              ".sk-estimator-doc-link span {\n",
              "  display: none;\n",
              "  z-index: 9999;\n",
              "  position: relative;\n",
              "  font-weight: normal;\n",
              "  right: .2ex;\n",
              "  padding: .5ex;\n",
              "  margin: .5ex;\n",
              "  width: min-content;\n",
              "  min-width: 20ex;\n",
              "  max-width: 50ex;\n",
              "  color: var(--sklearn-color-text);\n",
              "  box-shadow: 2pt 2pt 4pt #999;\n",
              "  /* unfitted */\n",
              "  background: var(--sklearn-color-unfitted-level-0);\n",
              "  border: .5pt solid var(--sklearn-color-unfitted-level-3);\n",
              "}\n",
              "\n",
              ".sk-estimator-doc-link.fitted span {\n",
              "  /* fitted */\n",
              "  background: var(--sklearn-color-fitted-level-0);\n",
              "  border: var(--sklearn-color-fitted-level-3);\n",
              "}\n",
              "\n",
              ".sk-estimator-doc-link:hover span {\n",
              "  display: block;\n",
              "}\n",
              "\n",
              "/* \"?\"-specific style due to the `<a>` HTML tag */\n",
              "\n",
              "#sk-container-id-1 a.estimator_doc_link {\n",
              "  float: right;\n",
              "  font-size: 1rem;\n",
              "  line-height: 1em;\n",
              "  font-family: monospace;\n",
              "  background-color: var(--sklearn-color-background);\n",
              "  border-radius: 1rem;\n",
              "  height: 1rem;\n",
              "  width: 1rem;\n",
              "  text-decoration: none;\n",
              "  /* unfitted */\n",
              "  color: var(--sklearn-color-unfitted-level-1);\n",
              "  border: var(--sklearn-color-unfitted-level-1) 1pt solid;\n",
              "}\n",
              "\n",
              "#sk-container-id-1 a.estimator_doc_link.fitted {\n",
              "  /* fitted */\n",
              "  border: var(--sklearn-color-fitted-level-1) 1pt solid;\n",
              "  color: var(--sklearn-color-fitted-level-1);\n",
              "}\n",
              "\n",
              "/* On hover */\n",
              "#sk-container-id-1 a.estimator_doc_link:hover {\n",
              "  /* unfitted */\n",
              "  background-color: var(--sklearn-color-unfitted-level-3);\n",
              "  color: var(--sklearn-color-background);\n",
              "  text-decoration: none;\n",
              "}\n",
              "\n",
              "#sk-container-id-1 a.estimator_doc_link.fitted:hover {\n",
              "  /* fitted */\n",
              "  background-color: var(--sklearn-color-fitted-level-3);\n",
              "}\n",
              "</style><div id=\"sk-container-id-1\" class=\"sk-top-container\"><div class=\"sk-text-repr-fallback\"><pre>LinearRegression()</pre><b>In a Jupyter environment, please rerun this cell to show the HTML representation or trust the notebook. <br />On GitHub, the HTML representation is unable to render, please try loading this page with nbviewer.org.</b></div><div class=\"sk-container\" hidden><div class=\"sk-item\"><div class=\"sk-estimator fitted sk-toggleable\"><input class=\"sk-toggleable__control sk-hidden--visually\" id=\"sk-estimator-id-1\" type=\"checkbox\" checked><label for=\"sk-estimator-id-1\" class=\"sk-toggleable__label fitted sk-toggleable__label-arrow\"><div><div>LinearRegression</div></div><div><a class=\"sk-estimator-doc-link fitted\" rel=\"noreferrer\" target=\"_blank\" href=\"https://scikit-learn.org/1.6/modules/generated/sklearn.linear_model.LinearRegression.html\">?<span>Documentation for LinearRegression</span></a><span class=\"sk-estimator-doc-link fitted\">i<span>Fitted</span></span></div></label><div class=\"sk-toggleable__content fitted\"><pre>LinearRegression()</pre></div> </div></div></div></div>"
            ]
          },
          "metadata": {},
          "execution_count": 9
        }
      ]
    },
    {
      "cell_type": "markdown",
      "metadata": {
        "id": "4a90b604"
      },
      "source": [
        "## Evaluate the model\n",
        "\n",
        "### Subtask:\n",
        "Evaluate the model's performance on the testing data.\n"
      ]
    },
    {
      "cell_type": "markdown",
      "metadata": {
        "id": "2f9a3986"
      },
      "source": [
        "**Reasoning**:\n",
        "Evaluate the trained model's performance on the testing data by calculating the Mean Squared Error and R-squared score.\n",
        "\n"
      ]
    },
    {
      "cell_type": "code",
      "metadata": {
        "colab": {
          "base_uri": "https://localhost:8080/"
        },
        "id": "1666da2e",
        "outputId": "f03b9f7f-cee0-42c4-9f75-7ce966d63ae4"
      },
      "source": [
        "from sklearn.metrics import mean_squared_error, r2_score\n",
        "\n",
        "y_pred = model.predict(X_test)\n",
        "\n",
        "mse = mean_squared_error(y_test, y_pred)\n",
        "r2 = r2_score(y_test, y_pred)\n",
        "\n",
        "print(f\"Mean Squared Error (MSE): {mse}\")\n",
        "print(f\"R-squared Score (R2): {r2}\")"
      ],
      "execution_count": 10,
      "outputs": [
        {
          "output_type": "stream",
          "name": "stdout",
          "text": [
            "Mean Squared Error (MSE): 2.3910551148074117\n",
            "R-squared Score (R2): 0.9994565611859261\n"
          ]
        }
      ]
    },
    {
      "cell_type": "markdown",
      "metadata": {
        "id": "2a038fb6"
      },
      "source": [
        "## Make predictions\n",
        "\n",
        "### Subtask:\n",
        "Use the trained model to make predictions on new data.\n"
      ]
    },
    {
      "cell_type": "markdown",
      "metadata": {
        "id": "87b5dbe6"
      },
      "source": [
        "**Reasoning**:\n",
        "Use the trained model to make predictions on the testing features and store them in a variable.\n",
        "\n"
      ]
    },
    {
      "cell_type": "code",
      "metadata": {
        "colab": {
          "base_uri": "https://localhost:8080/"
        },
        "id": "456c87e0",
        "outputId": "39c2b79f-b10b-46fa-c1c2-2301517501dd"
      },
      "source": [
        "predictions = model.predict(X_test)\n",
        "print(predictions)"
      ],
      "execution_count": 11,
      "outputs": [
        {
          "output_type": "stream",
          "name": "stdout",
          "text": [
            "[ 96.50462989  95.49408205  84.97071381  95.36155183  60.35689009\n",
            " 116.49360537  82.24307094  84.40537417  76.3577572   59.99272033\n",
            "  21.76890094  49.41686606  83.99010571 112.92212713  73.78348007\n",
            "  43.00929442  90.91460192  10.67081306 123.26443075  95.73767532\n",
            " 149.785876   103.23042722  37.60255157  83.51535589  78.64581418\n",
            " 252.81628025  34.7751762  228.30781392  74.54466776  45.67542304\n",
            " 236.11561781  76.47684621  25.16801724  71.14685232  86.37023062\n",
            "  99.50885407  78.17154877  70.62580016  10.87859916  72.09287163\n",
            "  16.39490887 173.50992809  69.21133615  39.11868593 302.64943642\n",
            "  80.31103278  89.02488689 109.38639676  70.92690941  81.6845912\n",
            "  73.58384979 121.10894495  90.48665284 274.95931004  78.91295227\n",
            " 261.97139989 173.28928286  76.39085214  93.30954647 122.51755283\n",
            "  59.7832739   22.48648982 275.76922347 230.97700786  65.00580241\n",
            " 121.25613983  56.59202784 139.04738599 304.71759496  96.39361778\n",
            " 102.48484661  85.61789381  48.08352881  84.09548024  82.33295113\n",
            "  96.70073698  54.76158388 172.5950308   49.65850204 123.63612885\n",
            "  42.48302109 124.37295628  54.06704801  48.23986208  54.52815858\n",
            " 105.67424753  81.60480801  31.02705093  11.44852774 217.24051525\n",
            "  32.88839235  69.30329725  89.80102862 180.04192217  74.12229704\n",
            "  76.84004082  75.06317141 234.05802159  70.41405857 127.36357278\n",
            " 141.8108485  167.93057855 123.21159631  67.99541015  82.08311106\n",
            "  28.76988845  46.21558425 158.26918182  16.20969964  96.39829526\n",
            " 106.40647259 156.97336099  89.70929184  73.06685282  72.00816964\n",
            "  39.46478861  51.28096459 149.72731216  14.29658574  61.22420594\n",
            " 117.61412295  84.31219632  70.2894117  111.52677309  75.07275875\n",
            "  90.80387071 184.63461074  80.69811031  81.02917933 150.32803253\n",
            "  75.95674945  70.92087374 285.08705406 101.03095903 159.81754779\n",
            " 101.89396028  57.44321657  33.05060179  70.4928977   66.50161462\n",
            "  75.37594672  95.33957389  75.24244769  87.50473701  13.00033965\n",
            "  74.48954997 321.50790355  88.10315967  63.55057125  85.4894392\n",
            "  34.5807562  136.25912743  87.67471914  74.66878531 113.06988963\n",
            "  39.09761869  73.28081179  31.91045953 158.14426354  55.57647968\n",
            "  29.69109427  73.90288982  78.36043528  68.35325257 147.65554346\n",
            "  72.02450002 117.66514919  95.3472844   50.48304193  53.41812057\n",
            " 296.48354419  65.05300376 304.44573885  59.65480874  72.38556289\n",
            " 292.46782561 119.59227664 155.41670564  87.94641307 151.21216571\n",
            " 187.94738346  67.02985481  60.41871662  12.86254747  98.60043745\n",
            " 151.95567283  55.18897783 118.45424344  87.69628919 306.89287324\n",
            " 100.83798547 305.47414358  95.93650213 254.81516831  65.24909081\n",
            "  32.27791572  82.1915999  230.88566923  98.72073012  80.64220808\n",
            "  74.87349488  39.78685007  94.72173359  72.20942784 185.07748374\n",
            " 125.83264049  65.80459481  39.85137434  34.40772935  29.96043028\n",
            "  35.13082516  97.68468222  81.06916381  17.25808042  79.9552494\n",
            " 309.26392041  60.70923138  43.65855846  83.91100777 251.86715945\n",
            "  87.42520767  55.65331405 106.97190056 175.01982959  16.04336125\n",
            "  77.74923487  77.80924532  67.89254224 162.20367933 216.51095071\n",
            "  90.52299407  80.55979338 242.2720729   20.26020284  56.98356315\n",
            "  91.28892438  41.00357005 111.32996675  53.40280517  41.79256988\n",
            " 319.17176102  52.90922923 204.21870912  91.03072188  76.47967856\n",
            " 307.16819424  97.54929443  70.8813908   72.11238542  77.92280148\n",
            "  38.94115047  38.1394448  153.85959622  82.72395585  90.42014096\n",
            " 152.85452217  77.96294834 180.84692582  94.6645664   18.20241593\n",
            "  81.61745312  18.96812772  72.69323294  42.4383757   77.93197309\n",
            " 225.83607411  72.10514737 311.40096019  80.4339138   76.28865442\n",
            " 258.26656778  68.38010466  56.88934253  29.94772553  13.96539609\n",
            "  90.6666049  253.43713747  30.32312572 222.07263674  54.64688194\n",
            "  46.22537586  74.39376271  86.51847091  70.16719333 184.50445624\n",
            "  36.70372651  68.02487292  89.5992763  110.36622368  88.88813362\n",
            "  73.15219949 163.60648916  80.37857829 157.93442114  71.21548006\n",
            " 316.44514415  73.9410648  332.72289741  79.92088344  88.88033583\n",
            "  89.73832831  44.53587603  70.50414676 176.51773837  78.16114189\n",
            "  88.68069185  92.06978953  81.40652362  53.12885821  93.79557567\n",
            "  11.29974898 252.30826801  82.2641625   42.51636781  23.21217937\n",
            "  95.55126802  99.001102   316.4002802   95.55420593 168.93154527\n",
            "  69.66297161  80.78019846 106.96855476  64.43528653  75.96276394\n",
            "  76.87633084  46.82310418  73.02025857  60.10745259  78.05333481\n",
            "  83.15968722 210.05937966  53.87329049  33.0359516   18.97145477\n",
            "  21.91651269  47.99438536  73.13386497  16.02202548 168.35988509\n",
            "  85.07908308 120.1859819   87.32277106  70.73499957 116.98597234\n",
            " 137.04678315  96.74435819  81.00287497 101.57660526  46.34604601\n",
            " 309.56053126  29.79241223  90.07316205  75.24752647 213.28559016\n",
            "  78.40675323  85.90472107  43.18638601  32.29574804  78.91324767\n",
            "  58.15725037  32.98681797  75.26311109  53.23057025 186.15480021\n",
            "  79.05732522  16.81892932 226.46247151 191.26812922  86.59334556\n",
            "  29.92845006  47.74121502  98.86839493  59.11818633  99.99551696\n",
            "  77.4548846  250.65951533  71.36394873  68.94139892  79.54234985\n",
            "  30.44602166  81.82485301  32.00133992  46.70709301  59.42504211\n",
            "  30.93565479  72.03946435 102.98019373 117.63069352  88.03251386\n",
            "  60.73891463  58.18140078  33.34197851 101.90931034 218.43082562\n",
            "  72.95704226  95.92634492 102.43830914  95.47745871 146.32681518\n",
            "  78.85291393  82.79151305  53.16585986  86.46922374 125.67699762\n",
            " 110.31842232 173.50098248 107.99512222 136.22071354  44.8534017\n",
            "  53.56597937 213.88178844  91.30870486 313.99694858 130.0873983\n",
            "  83.76759414  63.29696695  78.63181333  71.89820876  54.00237594\n",
            "  73.59625206  23.47343604  32.12434199  73.99294768  84.61044417\n",
            "  84.54381341  16.61897248 113.35186774 106.32578833  47.33388601\n",
            " 181.36705899  85.65660462  18.22790122 203.15144552  61.8042841\n",
            "  84.61713045  17.60307662  96.92932417 233.37265036 124.1434892\n",
            " 152.70923309  49.14312156 172.04972777 153.55262029  41.9491093\n",
            "  46.77648852  39.6230344   56.23959409  14.45916738  75.22807195\n",
            "  62.22624693  71.34288149  60.97547184 116.87630299 110.14513498\n",
            " 106.7164208   18.09968474  98.57076483  59.6292976   79.26272184\n",
            "  43.78407062 100.45785098 208.20337118  88.80991723  72.10212103\n",
            "  21.84624241 169.35086442  28.66528569  78.35319492  30.24605776\n",
            "  81.54194834  93.66129929  28.81094542  16.95569387  41.87760943\n",
            "  14.25208634  83.75774396 163.93677076 122.70280266  59.66587295\n",
            "  30.50976279  85.11434388  53.04273739  88.03209833  77.61923213\n",
            "  82.64465445  74.43636632  78.80139671  74.60216914 240.29379664\n",
            " 180.34254702  54.12918868  92.18503517  34.67483424 115.37934936\n",
            "  41.83862856 309.94903522  56.60055394  28.31090575 107.71279837\n",
            "  76.51079375  45.63714377  50.08725544  26.71430217  39.75332224\n",
            "  28.10712478  44.79396514 105.83737554  83.61248942  42.86103782\n",
            "  40.80932107  44.86144795  79.20660286  75.29936443  72.97986493\n",
            " 166.0076629   80.67241256  97.62093     81.70169362  33.54619916\n",
            " 216.95471081  71.95683853  23.66188786  80.01721842  63.01663071\n",
            "  41.96145241  93.98210972  82.85167397  68.85107183 100.18240207\n",
            "  16.71910099 213.14518966  70.57418397  52.56168813 108.64873259\n",
            "  20.94471318  33.86167929  83.96558038  85.42985909  58.02947819\n",
            "  42.52802965  52.42257846 326.4124277   66.81386331  95.99461883\n",
            " 139.53146819 295.00332724  68.03215831  18.2247592   58.94544328\n",
            " 120.72875746  58.30513695  73.55075562  45.93782799  30.93753025\n",
            "  61.34564822  70.60139371  15.50105848  10.76898871 210.60059724\n",
            "  39.37070243  55.43237052  72.4543146   80.21754878  40.63547885\n",
            "  92.51588831  80.78484562 322.55547761  24.13506964  96.14193258\n",
            "  84.73127402  99.49904921  96.96411121  92.29732837  37.78128166\n",
            " 227.93012358 131.88116605  40.50383345  78.42180726  82.75418407\n",
            "  99.57203632  24.66783361  80.12777601  77.22336381  78.43121246\n",
            "  18.54753013  55.30518299  83.6552957  241.29930473  83.3367567\n",
            "  83.63417568  81.14054461 107.10745457 101.48203411  31.18736245\n",
            " 119.01596931  74.41509791  57.70666555  30.93405643  56.22865662\n",
            " 106.07377783 118.50852967  75.20302413  58.25974509  26.80702535\n",
            "  62.72228958  82.36467215  89.9400656  122.29880651 127.11530686\n",
            "  57.07132712  73.52490001  70.0714114  294.03739434 342.94276746\n",
            "  14.1838607   64.7447067   98.74547304  41.79943442  71.41834854\n",
            "  54.75300755  46.83240509 172.04537092  41.19461666  16.75968388\n",
            "  48.57312334 113.53777491  85.11075918  90.81531503 281.22454891\n",
            " 111.2281201   84.09163949  73.43956986  33.34949493  88.24312066\n",
            "  78.15644323 228.40309049  67.89699113 311.01815156  88.45890231\n",
            "  82.00165986  74.14460652  82.09091131  55.2474361  119.14775249\n",
            "  70.1357059   76.44348332  83.25065046 153.81397992  10.85896631\n",
            "  75.07040548  98.49983407  19.57635827  78.53051973  83.81935027\n",
            "  71.17276093  70.50626112 129.96324382 298.07800249  69.04457324\n",
            "  15.67733869 105.77732817 115.14259015  21.67024698 118.77594615\n",
            " 166.94821638  79.34033547 178.84500971 151.13243961  12.03916798\n",
            " 105.00435701  41.55010376  92.63458135  56.84143374  28.30780913\n",
            "  38.20985716 206.05778175 142.41137638  39.82352312 150.38561817\n",
            "  72.71982073 158.85760309  36.04133668  90.63575235  54.54519768\n",
            " 156.03833774 212.53710871  46.20009172  90.95403659 305.9264359\n",
            " 107.31475339  74.38719518  60.05206557  71.21623114  83.03957408\n",
            "  77.46239975  82.29207968  20.4318024   76.79714979 245.01664999\n",
            " 103.25302282  70.47645388  71.69855016  12.36147936 107.5474068\n",
            "  72.40087701  75.1746054   57.48809902 122.90788575  56.23774895\n",
            " 300.29802179  33.5853712   57.36623044 207.2748236   32.15358959\n",
            "  41.4861465   48.51108353  86.86878233 189.92672621  89.78568418\n",
            " 132.48549486  93.87122352  93.26384847  47.56701642  13.89762638\n",
            " 113.1437214   54.41840612  96.90442949  80.85205175  60.50987258\n",
            " 131.94836419 271.34711455  20.33015822  73.75990249  87.6199524\n",
            "  19.52131203  71.12419353  86.65749077  74.46405383  31.94956768\n",
            "  81.31245753  98.89912201 243.62832149  80.62307516 150.90850666\n",
            "  92.58205346  99.48020857 100.63432922  96.07424332  99.4673005\n",
            " 279.47140659  66.5969096   30.57556275  20.09518666  77.10312264\n",
            "  53.46425946 205.75071739  95.97274877  77.80938325  68.24438571\n",
            "  76.7747746   69.49491135  73.30396307  34.24586311 101.65580472\n",
            "  77.82902834 130.47967735  91.01962862  72.11925782  19.72204279\n",
            "  79.30348162  53.66004292  55.11119571 186.75941424 100.48427229\n",
            "  57.91137512  46.34032321  55.8452938  229.66134184  21.464173\n",
            " 250.04865327 172.50327029  81.58971719  53.96382616  51.7563862\n",
            "  33.67752096 101.671004    94.57055436  50.58163121  99.20126211\n",
            "  71.80269857  84.40430942  19.43058399  87.91500875  33.08120884\n",
            " 112.49684754 153.4690869   73.29476645 171.39591555 159.68259961\n",
            " 131.78912057  94.21994009  21.00011471 162.01073909 109.48391295\n",
            "  30.3240576   61.33377887 156.7462855   96.28541345  82.41829714\n",
            " 312.94474298  30.76700585  92.0327932   42.57758063 125.69874513\n",
            "  17.80022323  77.04097537  52.36070969  58.10221314  52.4897\n",
            "  87.77517728  61.2308038   23.15129684  34.73334082 302.07237001\n",
            "  86.10903466  20.52933898 120.19669387  46.06727688  55.089268\n",
            "  30.38244064 120.57667929 286.66748633  86.59201089  66.79348343\n",
            "  81.67163035 284.25898109  58.64463231 151.35472674 182.57734088\n",
            "  41.77192766  15.01025077  17.27861179  86.329119   135.71440777\n",
            "  42.65128727  90.25426499  84.04477602  41.30634095  17.55550752\n",
            " 108.66720766  79.99719522  15.15524184 240.43462597  85.17050826\n",
            "  85.66882107  32.94677483  27.16223867  38.50490341  56.99155611\n",
            "  99.7125983   69.77358858  78.11460043]\n"
          ]
        }
      ]
    },
    {
      "cell_type": "markdown",
      "metadata": {
        "id": "b5575d86"
      },
      "source": [
        "## Summary:\n",
        "\n",
        "### Data Analysis Key Findings\n",
        "\n",
        "*   The data was successfully split into training and testing sets with a test size of 0.2.\n",
        "*   A Linear Regression model was trained on the training data.\n",
        "*   The Mean Squared Error (MSE) of the model on the testing data is approximately 2.39.\n",
        "*   The R-squared score (R2) of the model on the testing data is approximately 0.999.\n",
        "*   The trained model was used to make predictions on the testing data.\n",
        "\n",
        "### Insights or Next Steps\n",
        "\n",
        "*   The high R-squared score (0.999) suggests that the model fits the testing data very well, indicating a strong relationship between 'Price', 'Open', 'High', and 'Low' in this dataset.\n",
        "*   Given the excellent performance, the model can be deployed to predict 'low' prices for new stock data, but it would be beneficial to test its performance on out-of-sample data to ensure generalization.\n"
      ]
    },
    {
      "cell_type": "code",
      "source": [],
      "metadata": {
        "id": "kiUqaae6EhuW"
      },
      "execution_count": null,
      "outputs": []
    },
    {
      "cell_type": "markdown",
      "metadata": {
        "id": "4ea4b404"
      },
      "source": [
        "# Task\n",
        "Predict the low price based on the price open and high from the file \"stock_price.csv\". Tune the Linear Regression model using hyperparameter tuning to reduce the prediction error."
      ]
    },
    {
      "cell_type": "markdown",
      "metadata": {
        "id": "3b198e93"
      },
      "source": [
        "## Define the model and hyperparameters\n",
        "\n",
        "### Subtask:\n",
        "Define the Linear Regression model and the hyperparameters to tune.\n"
      ]
    },
    {
      "cell_type": "markdown",
      "metadata": {
        "id": "292e0f72"
      },
      "source": [
        "**Reasoning**:\n",
        "Define the Linear Regression model and the hyperparameters to tune as instructed.\n",
        "\n"
      ]
    },
    {
      "cell_type": "code",
      "metadata": {
        "id": "1f6c5a69"
      },
      "source": [
        "from sklearn.linear_model import LinearRegression\n",
        "\n",
        "model = LinearRegression()\n",
        "\n",
        "param_grid = {'fit_intercept': [True, False]}"
      ],
      "execution_count": 12,
      "outputs": []
    },
    {
      "cell_type": "markdown",
      "metadata": {
        "id": "fe6cfe58"
      },
      "source": [
        "## Define the search space\n",
        "\n",
        "### Subtask:\n",
        "Define the search space for the hyperparameters.\n"
      ]
    },
    {
      "cell_type": "markdown",
      "metadata": {
        "id": "caafc918"
      },
      "source": [
        "## Perform hyperparameter tuning\n",
        "\n",
        "### Subtask:\n",
        "Use a hyperparameter tuning technique (e.g., GridSearchCV, RandomizedSearchCV) to find the best hyperparameters.\n"
      ]
    },
    {
      "cell_type": "markdown",
      "metadata": {
        "id": "f291603b"
      },
      "source": [
        "**Reasoning**:\n",
        "Import GridSearchCV, instantiate it with the model and parameter grid, fit it to the training data, and then print the best parameters found.\n",
        "\n"
      ]
    },
    {
      "cell_type": "code",
      "metadata": {
        "colab": {
          "base_uri": "https://localhost:8080/"
        },
        "id": "9929dc3a",
        "outputId": "ee431f24-4240-4408-ac42-f7892e94e705"
      },
      "source": [
        "from sklearn.model_selection import GridSearchCV\n",
        "\n",
        "grid_search = GridSearchCV(model, param_grid, cv=5)\n",
        "grid_search.fit(X_train, y_train)\n",
        "\n",
        "best_model = grid_search.best_estimator_\n",
        "\n",
        "print(f\"Best hyperparameters: {grid_search.best_params_}\")"
      ],
      "execution_count": 13,
      "outputs": [
        {
          "output_type": "stream",
          "name": "stdout",
          "text": [
            "Best hyperparameters: {'fit_intercept': False}\n"
          ]
        }
      ]
    },
    {
      "cell_type": "markdown",
      "metadata": {
        "id": "d6d74836"
      },
      "source": [
        "## Train the model with the best hyperparameters\n",
        "\n",
        "### Subtask:\n",
        "Train the Linear Regression model using the best hyperparameters found during tuning.\n"
      ]
    },
    {
      "cell_type": "markdown",
      "metadata": {
        "id": "d9503b35"
      },
      "source": [
        "**Reasoning**:\n",
        "Retrieve the best performing model from the grid_search object.\n",
        "\n"
      ]
    },
    {
      "cell_type": "code",
      "metadata": {
        "colab": {
          "base_uri": "https://localhost:8080/"
        },
        "id": "f9b4494f",
        "outputId": "9d9e3f35-2cd7-40a3-a417-87ae29ac515c"
      },
      "source": [
        "# The best_model is already available from the previous grid search step.\n",
        "# No explicit action is needed in this step other than confirming its existence.\n",
        "print(\"The best model has been retrieved from grid_search and stored in 'best_model'.\")"
      ],
      "execution_count": 14,
      "outputs": [
        {
          "output_type": "stream",
          "name": "stdout",
          "text": [
            "The best model has been retrieved from grid_search and stored in 'best_model'.\n"
          ]
        }
      ]
    },
    {
      "cell_type": "markdown",
      "metadata": {
        "id": "55b0b0db"
      },
      "source": [
        "## Evaluate the tuned model\n",
        "\n",
        "### Subtask:\n",
        "Evaluate the performance of the tuned model on the testing data.\n"
      ]
    },
    {
      "cell_type": "markdown",
      "metadata": {
        "id": "605a746a"
      },
      "source": [
        "**Reasoning**:\n",
        "Evaluate the performance of the tuned model on the testing data by calculating and printing the Mean Squared Error (MSE) and R-squared (R2) score.\n",
        "\n"
      ]
    },
    {
      "cell_type": "code",
      "metadata": {
        "colab": {
          "base_uri": "https://localhost:8080/"
        },
        "id": "d3f9ee7a",
        "outputId": "1c78c273-354a-41aa-cd2c-b761530d11dd"
      },
      "source": [
        "from sklearn.metrics import mean_squared_error, r2_score\n",
        "\n",
        "y_pred_tuned = best_model.predict(X_test)\n",
        "\n",
        "mse_tuned = mean_squared_error(y_test, y_pred_tuned)\n",
        "r2_tuned = r2_score(y_test, y_pred_tuned)\n",
        "\n",
        "print(f\"Tuned Model Mean Squared Error (MSE): {mse_tuned}\")\n",
        "print(f\"Tuned Model R-squared Score (R2): {r2_tuned}\")"
      ],
      "execution_count": 15,
      "outputs": [
        {
          "output_type": "stream",
          "name": "stdout",
          "text": [
            "Tuned Model Mean Squared Error (MSE): 2.3911185722218717\n",
            "Tuned Model R-squared Score (R2): 0.9994565467633301\n"
          ]
        }
      ]
    },
    {
      "cell_type": "markdown",
      "metadata": {
        "id": "a95c8a40"
      },
      "source": [
        "## Compare the results\n",
        "\n",
        "### Subtask:\n",
        "Compare the performance of the tuned model with the initial model.\n"
      ]
    },
    {
      "cell_type": "markdown",
      "metadata": {
        "id": "3b7bd65b"
      },
      "source": [
        "**Reasoning**:\n",
        "Print the MSE and R2 scores for both the initial and tuned models to compare their performance.\n",
        "\n"
      ]
    },
    {
      "cell_type": "code",
      "metadata": {
        "colab": {
          "base_uri": "https://localhost:8080/"
        },
        "id": "035f96a8",
        "outputId": "60614e0a-f3f7-4a74-e6ef-cf1d5c6f16e8"
      },
      "source": [
        "print(\"Initial Model Performance:\")\n",
        "print(f\"Mean Squared Error (MSE): {mse}\")\n",
        "print(f\"R-squared Score (R2): {r2}\")\n",
        "print(\"\\nTuned Model Performance:\")\n",
        "print(f\"Mean Squared Error (MSE): {mse_tuned}\")\n",
        "print(f\"R-squared Score (R2): {r2_tuned}\")"
      ],
      "execution_count": 16,
      "outputs": [
        {
          "output_type": "stream",
          "name": "stdout",
          "text": [
            "Initial Model Performance:\n",
            "Mean Squared Error (MSE): 2.3910551148074117\n",
            "R-squared Score (R2): 0.9994565611859261\n",
            "\n",
            "Tuned Model Performance:\n",
            "Mean Squared Error (MSE): 2.3911185722218717\n",
            "R-squared Score (R2): 0.9994565467633301\n"
          ]
        }
      ]
    },
    {
      "cell_type": "markdown",
      "metadata": {
        "id": "f71506b5"
      },
      "source": [
        "## Summary:\n",
        "\n",
        "### Data Analysis Key Findings\n",
        "\n",
        "*   The best hyperparameter found for the Linear Regression model using GridSearchCV was `{'fit_intercept': False}`.\n",
        "*   The tuned Linear Regression model achieved a Mean Squared Error (MSE) of approximately 2.391 and an R-squared (R2) score of approximately 0.999 on the testing data.\n",
        "*   Comparing the tuned model to the initial model, the MSE and R2 scores were very similar (Initial Model MSE: $\\sim$2.391, R2: $\\sim$0.999; Tuned Model MSE: $\\sim$2.391, R2: $\\sim$0.999), indicating that tuning the `fit_intercept` parameter did not significantly improve the prediction performance in this case.\n",
        "\n",
        "### Insights or Next Steps\n",
        "\n",
        "*   The high R-squared score suggests that the 'price open' and 'price high' are strong predictors of the 'price low'.\n",
        "*   Consider exploring other hyperparameters or different regression models to potentially achieve further reductions in prediction error, although the current performance is already very good.\n"
      ]
    },
    {
      "cell_type": "code",
      "metadata": {
        "colab": {
          "base_uri": "https://localhost:8080/"
        },
        "id": "f894169e",
        "outputId": "bfd4ea2f-f97d-4699-bb4d-e52018c63903"
      },
      "source": [
        "def predict_low_price(price, open_price, high_price):\n",
        "  \"\"\"\n",
        "  Predicts the low price based on user input using the tuned Linear Regression model.\n",
        "\n",
        "  Args:\n",
        "    price: The current price.\n",
        "    open_price: The opening price.\n",
        "    high_price: The high price.\n",
        "\n",
        "  Returns:\n",
        "    The predicted low price.\n",
        "  \"\"\"\n",
        "  # Create a DataFrame from the input values\n",
        "  input_data = pd.DataFrame([[price, open_price, high_price]], columns=['Price', 'Open', 'High'])\n",
        "\n",
        "  # Make the prediction using the best model\n",
        "  predicted_low = best_model.predict(input_data)\n",
        "\n",
        "  return predicted_low[0]\n",
        "\n",
        "# Example usage:\n",
        "# Get user input for Price, Open, and High\n",
        "price_input = float(input('Enter Price: '))\n",
        "open_input = float(input('Enter Open: '))\n",
        "high_input = float(input('Enter High: '))\n",
        "\n",
        "\n",
        "# Predict the low price using user input\n",
        "predicted_low_example = predict_low_price(price_input, open_input, high_input)\n",
        "print(f\"Predicted Low Price: {predicted_low_example}\")"
      ],
      "execution_count": 21,
      "outputs": [
        {
          "output_type": "stream",
          "name": "stdout",
          "text": [
            "Enter Price: 229.02\n",
            "Enter Open: 229.00\n",
            "Enter High: 230.01\n",
            "Predicted Low Price: 226.76841263206458\n"
          ]
        }
      ]
    },
    {
      "cell_type": "code",
      "source": [],
      "metadata": {
        "id": "6Ti3xVk3FZyD"
      },
      "execution_count": null,
      "outputs": []
    }
  ]
}